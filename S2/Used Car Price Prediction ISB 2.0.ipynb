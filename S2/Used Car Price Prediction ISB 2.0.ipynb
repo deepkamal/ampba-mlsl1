{
 "cells": [
  {
   "cell_type": "markdown",
   "metadata": {},
   "source": [
    "# Used Car Price Prediction"
   ]
  },
  {
   "cell_type": "markdown",
   "metadata": {},
   "source": [
    "### Load Dataset"
   ]
  },
  {
   "cell_type": "code",
   "execution_count": 1,
   "metadata": {},
   "outputs": [],
   "source": [
    "import pandas as pd\n",
    "import numpy as np\n",
    "import matplotlib.pyplot as plt\n",
    "import seaborn as sn"
   ]
  },
  {
   "cell_type": "code",
   "execution_count": 2,
   "metadata": {},
   "outputs": [],
   "source": [
    "cars_df = pd.read_csv( \"new_used_car_v1.csv\" )"
   ]
  },
  {
   "cell_type": "code",
   "execution_count": 3,
   "metadata": {},
   "outputs": [
    {
     "data": {
      "text/html": [
       "<div>\n",
       "<style scoped>\n",
       "    .dataframe tbody tr th:only-of-type {\n",
       "        vertical-align: middle;\n",
       "    }\n",
       "\n",
       "    .dataframe tbody tr th {\n",
       "        vertical-align: top;\n",
       "    }\n",
       "\n",
       "    .dataframe thead th {\n",
       "        text-align: right;\n",
       "    }\n",
       "</style>\n",
       "<table border=\"1\" class=\"dataframe\">\n",
       "  <thead>\n",
       "    <tr style=\"text-align: right;\">\n",
       "      <th></th>\n",
       "      <th>index</th>\n",
       "      <th>Name</th>\n",
       "      <th>Location</th>\n",
       "      <th>Year</th>\n",
       "      <th>Kilometers_Driven</th>\n",
       "      <th>Fuel_Type</th>\n",
       "      <th>Transmission</th>\n",
       "      <th>Owner_Type</th>\n",
       "      <th>Mileage</th>\n",
       "      <th>Engine</th>\n",
       "      <th>Power</th>\n",
       "      <th>Seats</th>\n",
       "      <th>New_Price</th>\n",
       "      <th>Price</th>\n",
       "      <th>age</th>\n",
       "      <th>KM_Driven</th>\n",
       "      <th>make</th>\n",
       "      <th>mileage_new</th>\n",
       "      <th>engine_new</th>\n",
       "      <th>power_new</th>\n",
       "    </tr>\n",
       "  </thead>\n",
       "  <tbody>\n",
       "    <tr>\n",
       "      <th>2877</th>\n",
       "      <td>5611</td>\n",
       "      <td>Maruti Wagon R LX BSII</td>\n",
       "      <td>Delhi</td>\n",
       "      <td>2006</td>\n",
       "      <td>86000</td>\n",
       "      <td>Petrol</td>\n",
       "      <td>Manual</td>\n",
       "      <td>Second</td>\n",
       "      <td>18.9 kmpl</td>\n",
       "      <td>998 CC</td>\n",
       "      <td>67.1 bhp</td>\n",
       "      <td>5.0</td>\n",
       "      <td>NaN</td>\n",
       "      <td>1.00</td>\n",
       "      <td>13</td>\n",
       "      <td>86</td>\n",
       "      <td>maruti</td>\n",
       "      <td>18.90</td>\n",
       "      <td>998.0</td>\n",
       "      <td>67.10</td>\n",
       "    </tr>\n",
       "    <tr>\n",
       "      <th>2705</th>\n",
       "      <td>5279</td>\n",
       "      <td>Tata Zest Revotron 1.2T XE</td>\n",
       "      <td>Kolkata</td>\n",
       "      <td>2017</td>\n",
       "      <td>65000</td>\n",
       "      <td>Petrol</td>\n",
       "      <td>Manual</td>\n",
       "      <td>First</td>\n",
       "      <td>17.57 kmpl</td>\n",
       "      <td>1193 CC</td>\n",
       "      <td>88.7 bhp</td>\n",
       "      <td>5.0</td>\n",
       "      <td>6.59 Lakh</td>\n",
       "      <td>4.80</td>\n",
       "      <td>2</td>\n",
       "      <td>65</td>\n",
       "      <td>tata</td>\n",
       "      <td>17.57</td>\n",
       "      <td>1193.0</td>\n",
       "      <td>88.70</td>\n",
       "    </tr>\n",
       "    <tr>\n",
       "      <th>1316</th>\n",
       "      <td>2620</td>\n",
       "      <td>Tata Indica Vista Quadrajet LS</td>\n",
       "      <td>Pune</td>\n",
       "      <td>2014</td>\n",
       "      <td>180000</td>\n",
       "      <td>Diesel</td>\n",
       "      <td>Manual</td>\n",
       "      <td>First</td>\n",
       "      <td>22.3 kmpl</td>\n",
       "      <td>1248 CC</td>\n",
       "      <td>74 bhp</td>\n",
       "      <td>5.0</td>\n",
       "      <td>NaN</td>\n",
       "      <td>2.50</td>\n",
       "      <td>5</td>\n",
       "      <td>180</td>\n",
       "      <td>tata</td>\n",
       "      <td>22.30</td>\n",
       "      <td>1248.0</td>\n",
       "      <td>74.00</td>\n",
       "    </tr>\n",
       "    <tr>\n",
       "      <th>863</th>\n",
       "      <td>1721</td>\n",
       "      <td>Toyota Innova 2.5 VX (Diesel) 8 Seater BS IV</td>\n",
       "      <td>Pune</td>\n",
       "      <td>2014</td>\n",
       "      <td>160000</td>\n",
       "      <td>Diesel</td>\n",
       "      <td>Manual</td>\n",
       "      <td>First</td>\n",
       "      <td>12.99 kmpl</td>\n",
       "      <td>2494 CC</td>\n",
       "      <td>100 bhp</td>\n",
       "      <td>8.0</td>\n",
       "      <td>NaN</td>\n",
       "      <td>12.00</td>\n",
       "      <td>5</td>\n",
       "      <td>160</td>\n",
       "      <td>toyota</td>\n",
       "      <td>12.99</td>\n",
       "      <td>2494.0</td>\n",
       "      <td>100.00</td>\n",
       "    </tr>\n",
       "    <tr>\n",
       "      <th>1923</th>\n",
       "      <td>3758</td>\n",
       "      <td>Hyundai i20 Magna 1.4 CRDi</td>\n",
       "      <td>Delhi</td>\n",
       "      <td>2015</td>\n",
       "      <td>44000</td>\n",
       "      <td>Diesel</td>\n",
       "      <td>Manual</td>\n",
       "      <td>First</td>\n",
       "      <td>22.54 kmpl</td>\n",
       "      <td>1396 CC</td>\n",
       "      <td>88.73 bhp</td>\n",
       "      <td>5.0</td>\n",
       "      <td>NaN</td>\n",
       "      <td>5.35</td>\n",
       "      <td>4</td>\n",
       "      <td>44</td>\n",
       "      <td>hyundai</td>\n",
       "      <td>22.54</td>\n",
       "      <td>1396.0</td>\n",
       "      <td>88.73</td>\n",
       "    </tr>\n",
       "  </tbody>\n",
       "</table>\n",
       "</div>"
      ],
      "text/plain": [
       "      index                                          Name Location  Year  \\\n",
       "2877   5611                        Maruti Wagon R LX BSII    Delhi  2006   \n",
       "2705   5279                    Tata Zest Revotron 1.2T XE  Kolkata  2017   \n",
       "1316   2620                Tata Indica Vista Quadrajet LS     Pune  2014   \n",
       "863    1721  Toyota Innova 2.5 VX (Diesel) 8 Seater BS IV     Pune  2014   \n",
       "1923   3758                    Hyundai i20 Magna 1.4 CRDi    Delhi  2015   \n",
       "\n",
       "      Kilometers_Driven Fuel_Type Transmission Owner_Type     Mileage  \\\n",
       "2877              86000    Petrol       Manual     Second   18.9 kmpl   \n",
       "2705              65000    Petrol       Manual      First  17.57 kmpl   \n",
       "1316             180000    Diesel       Manual      First   22.3 kmpl   \n",
       "863              160000    Diesel       Manual      First  12.99 kmpl   \n",
       "1923              44000    Diesel       Manual      First  22.54 kmpl   \n",
       "\n",
       "       Engine      Power  Seats  New_Price  Price  age  KM_Driven     make  \\\n",
       "2877   998 CC   67.1 bhp    5.0        NaN   1.00   13         86   maruti   \n",
       "2705  1193 CC   88.7 bhp    5.0  6.59 Lakh   4.80    2         65     tata   \n",
       "1316  1248 CC     74 bhp    5.0        NaN   2.50    5        180     tata   \n",
       "863   2494 CC    100 bhp    8.0        NaN  12.00    5        160   toyota   \n",
       "1923  1396 CC  88.73 bhp    5.0        NaN   5.35    4         44  hyundai   \n",
       "\n",
       "      mileage_new  engine_new  power_new  \n",
       "2877        18.90       998.0      67.10  \n",
       "2705        17.57      1193.0      88.70  \n",
       "1316        22.30      1248.0      74.00  \n",
       "863         12.99      2494.0     100.00  \n",
       "1923        22.54      1396.0      88.73  "
      ]
     },
     "execution_count": 3,
     "metadata": {},
     "output_type": "execute_result"
    }
   ],
   "source": [
    "cars_df.sample(5)"
   ]
  },
  {
   "cell_type": "code",
   "execution_count": 4,
   "metadata": {},
   "outputs": [
    {
     "name": "stdout",
     "output_type": "stream",
     "text": [
      "<class 'pandas.core.frame.DataFrame'>\n",
      "RangeIndex: 3092 entries, 0 to 3091\n",
      "Data columns (total 20 columns):\n",
      " #   Column             Non-Null Count  Dtype  \n",
      "---  ------             --------------  -----  \n",
      " 0   index              3092 non-null   int64  \n",
      " 1   Name               3092 non-null   object \n",
      " 2   Location           3092 non-null   object \n",
      " 3   Year               3092 non-null   int64  \n",
      " 4   Kilometers_Driven  3092 non-null   int64  \n",
      " 5   Fuel_Type          3092 non-null   object \n",
      " 6   Transmission       3092 non-null   object \n",
      " 7   Owner_Type         3092 non-null   object \n",
      " 8   Mileage            3092 non-null   object \n",
      " 9   Engine             3092 non-null   object \n",
      " 10  Power              3092 non-null   object \n",
      " 11  Seats              3091 non-null   float64\n",
      " 12  New_Price          411 non-null    object \n",
      " 13  Price              3092 non-null   float64\n",
      " 14  age                3092 non-null   int64  \n",
      " 15  KM_Driven          3092 non-null   int64  \n",
      " 16  make               3092 non-null   object \n",
      " 17  mileage_new        3092 non-null   float64\n",
      " 18  engine_new         3092 non-null   float64\n",
      " 19  power_new          3092 non-null   float64\n",
      "dtypes: float64(5), int64(5), object(10)\n",
      "memory usage: 483.2+ KB\n"
     ]
    }
   ],
   "source": [
    "cars_df.info()"
   ]
  },
  {
   "cell_type": "code",
   "execution_count": 5,
   "metadata": {},
   "outputs": [
    {
     "data": {
      "text/html": [
       "<div>\n",
       "<style scoped>\n",
       "    .dataframe tbody tr th:only-of-type {\n",
       "        vertical-align: middle;\n",
       "    }\n",
       "\n",
       "    .dataframe tbody tr th {\n",
       "        vertical-align: top;\n",
       "    }\n",
       "\n",
       "    .dataframe thead th {\n",
       "        text-align: right;\n",
       "    }\n",
       "</style>\n",
       "<table border=\"1\" class=\"dataframe\">\n",
       "  <thead>\n",
       "    <tr style=\"text-align: right;\">\n",
       "      <th></th>\n",
       "      <th>0</th>\n",
       "    </tr>\n",
       "  </thead>\n",
       "  <tbody>\n",
       "    <tr>\n",
       "      <th>index</th>\n",
       "      <td>int64</td>\n",
       "    </tr>\n",
       "    <tr>\n",
       "      <th>Name</th>\n",
       "      <td>object</td>\n",
       "    </tr>\n",
       "    <tr>\n",
       "      <th>Location</th>\n",
       "      <td>object</td>\n",
       "    </tr>\n",
       "    <tr>\n",
       "      <th>Year</th>\n",
       "      <td>int64</td>\n",
       "    </tr>\n",
       "    <tr>\n",
       "      <th>Kilometers_Driven</th>\n",
       "      <td>int64</td>\n",
       "    </tr>\n",
       "    <tr>\n",
       "      <th>Fuel_Type</th>\n",
       "      <td>object</td>\n",
       "    </tr>\n",
       "    <tr>\n",
       "      <th>Transmission</th>\n",
       "      <td>object</td>\n",
       "    </tr>\n",
       "    <tr>\n",
       "      <th>Owner_Type</th>\n",
       "      <td>object</td>\n",
       "    </tr>\n",
       "    <tr>\n",
       "      <th>Mileage</th>\n",
       "      <td>object</td>\n",
       "    </tr>\n",
       "    <tr>\n",
       "      <th>Engine</th>\n",
       "      <td>object</td>\n",
       "    </tr>\n",
       "    <tr>\n",
       "      <th>Power</th>\n",
       "      <td>object</td>\n",
       "    </tr>\n",
       "    <tr>\n",
       "      <th>Seats</th>\n",
       "      <td>float64</td>\n",
       "    </tr>\n",
       "    <tr>\n",
       "      <th>New_Price</th>\n",
       "      <td>object</td>\n",
       "    </tr>\n",
       "    <tr>\n",
       "      <th>Price</th>\n",
       "      <td>float64</td>\n",
       "    </tr>\n",
       "    <tr>\n",
       "      <th>age</th>\n",
       "      <td>int64</td>\n",
       "    </tr>\n",
       "    <tr>\n",
       "      <th>KM_Driven</th>\n",
       "      <td>int64</td>\n",
       "    </tr>\n",
       "    <tr>\n",
       "      <th>make</th>\n",
       "      <td>object</td>\n",
       "    </tr>\n",
       "    <tr>\n",
       "      <th>mileage_new</th>\n",
       "      <td>float64</td>\n",
       "    </tr>\n",
       "    <tr>\n",
       "      <th>engine_new</th>\n",
       "      <td>float64</td>\n",
       "    </tr>\n",
       "    <tr>\n",
       "      <th>power_new</th>\n",
       "      <td>float64</td>\n",
       "    </tr>\n",
       "  </tbody>\n",
       "</table>\n",
       "</div>"
      ],
      "text/plain": [
       "                         0\n",
       "index                int64\n",
       "Name                object\n",
       "Location            object\n",
       "Year                 int64\n",
       "Kilometers_Driven    int64\n",
       "Fuel_Type           object\n",
       "Transmission        object\n",
       "Owner_Type          object\n",
       "Mileage             object\n",
       "Engine              object\n",
       "Power               object\n",
       "Seats              float64\n",
       "New_Price           object\n",
       "Price              float64\n",
       "age                  int64\n",
       "KM_Driven            int64\n",
       "make                object\n",
       "mileage_new        float64\n",
       "engine_new         float64\n",
       "power_new          float64"
      ]
     },
     "execution_count": 5,
     "metadata": {},
     "output_type": "execute_result"
    }
   ],
   "source": [
    "pd.DataFrame(cars_df.dtypes)"
   ]
  },
  {
   "cell_type": "markdown",
   "metadata": {},
   "source": [
    "### Feature Set Selection"
   ]
  },
  {
   "cell_type": "code",
   "execution_count": 6,
   "metadata": {},
   "outputs": [],
   "source": [
    "features = list(cars_df.columns)"
   ]
  },
  {
   "cell_type": "code",
   "execution_count": 7,
   "metadata": {},
   "outputs": [],
   "source": [
    "x_features = ['KM_Driven', 'Fuel_Type', 'age',\n",
    "              'Transmission', 'Owner_Type', 'Seats', \n",
    "              'make', 'mileage_new', 'engine_new', \n",
    "              'power_new', 'Location']"
   ]
  },
  {
   "cell_type": "code",
   "execution_count": 8,
   "metadata": {},
   "outputs": [],
   "source": [
    "cat_features = ['Fuel_Type', \n",
    "                'Transmission', 'Owner_Type',\n",
    "                'make', 'Location']"
   ]
  },
  {
   "cell_type": "code",
   "execution_count": 9,
   "metadata": {},
   "outputs": [],
   "source": [
    "num_features = list(set(x_features) - set(cat_features))"
   ]
  },
  {
   "cell_type": "code",
   "execution_count": 10,
   "metadata": {},
   "outputs": [
    {
     "data": {
      "text/plain": [
       "['KM_Driven', 'mileage_new', 'Seats', 'engine_new', 'power_new', 'age']"
      ]
     },
     "execution_count": 10,
     "metadata": {},
     "output_type": "execute_result"
    }
   ],
   "source": [
    "num_features"
   ]
  },
  {
   "cell_type": "code",
   "execution_count": 11,
   "metadata": {},
   "outputs": [
    {
     "name": "stdout",
     "output_type": "stream",
     "text": [
      "<class 'pandas.core.frame.DataFrame'>\n",
      "RangeIndex: 3092 entries, 0 to 3091\n",
      "Data columns (total 11 columns):\n",
      " #   Column        Non-Null Count  Dtype  \n",
      "---  ------        --------------  -----  \n",
      " 0   KM_Driven     3092 non-null   int64  \n",
      " 1   Fuel_Type     3092 non-null   object \n",
      " 2   age           3092 non-null   int64  \n",
      " 3   Transmission  3092 non-null   object \n",
      " 4   Owner_Type    3092 non-null   object \n",
      " 5   Seats         3091 non-null   float64\n",
      " 6   make          3092 non-null   object \n",
      " 7   mileage_new   3092 non-null   float64\n",
      " 8   engine_new    3092 non-null   float64\n",
      " 9   power_new     3092 non-null   float64\n",
      " 10  Location      3092 non-null   object \n",
      "dtypes: float64(4), int64(2), object(5)\n",
      "memory usage: 265.8+ KB\n"
     ]
    }
   ],
   "source": [
    "cars_df[x_features].info()"
   ]
  },
  {
   "cell_type": "markdown",
   "metadata": {},
   "source": [
    "### Dropping Null Values"
   ]
  },
  {
   "cell_type": "code",
   "execution_count": 12,
   "metadata": {},
   "outputs": [],
   "source": [
    "cars_df = cars_df[x_features + ['Price']].dropna()"
   ]
  },
  {
   "cell_type": "code",
   "execution_count": 13,
   "metadata": {},
   "outputs": [
    {
     "data": {
      "text/plain": [
       "(3091, 12)"
      ]
     },
     "execution_count": 13,
     "metadata": {},
     "output_type": "execute_result"
    }
   ],
   "source": [
    "cars_df.shape"
   ]
  },
  {
   "cell_type": "code",
   "execution_count": 14,
   "metadata": {},
   "outputs": [
    {
     "data": {
      "text/html": [
       "<div>\n",
       "<style scoped>\n",
       "    .dataframe tbody tr th:only-of-type {\n",
       "        vertical-align: middle;\n",
       "    }\n",
       "\n",
       "    .dataframe tbody tr th {\n",
       "        vertical-align: top;\n",
       "    }\n",
       "\n",
       "    .dataframe thead th {\n",
       "        text-align: right;\n",
       "    }\n",
       "</style>\n",
       "<table border=\"1\" class=\"dataframe\">\n",
       "  <thead>\n",
       "    <tr style=\"text-align: right;\">\n",
       "      <th></th>\n",
       "      <th>KM_Driven</th>\n",
       "      <th>Fuel_Type</th>\n",
       "      <th>age</th>\n",
       "      <th>Transmission</th>\n",
       "      <th>Owner_Type</th>\n",
       "      <th>Seats</th>\n",
       "      <th>make</th>\n",
       "      <th>mileage_new</th>\n",
       "      <th>engine_new</th>\n",
       "      <th>power_new</th>\n",
       "      <th>Location</th>\n",
       "      <th>Price</th>\n",
       "    </tr>\n",
       "  </thead>\n",
       "  <tbody>\n",
       "    <tr>\n",
       "      <th>1643</th>\n",
       "      <td>72</td>\n",
       "      <td>Petrol</td>\n",
       "      <td>6</td>\n",
       "      <td>Automatic</td>\n",
       "      <td>First</td>\n",
       "      <td>5.0</td>\n",
       "      <td>hyundai</td>\n",
       "      <td>15.00</td>\n",
       "      <td>1396.0</td>\n",
       "      <td>98.60</td>\n",
       "      <td>Bangalore</td>\n",
       "      <td>4.75</td>\n",
       "    </tr>\n",
       "    <tr>\n",
       "      <th>2083</th>\n",
       "      <td>70</td>\n",
       "      <td>Petrol</td>\n",
       "      <td>5</td>\n",
       "      <td>Manual</td>\n",
       "      <td>First</td>\n",
       "      <td>5.0</td>\n",
       "      <td>toyota</td>\n",
       "      <td>16.78</td>\n",
       "      <td>1496.0</td>\n",
       "      <td>88.73</td>\n",
       "      <td>Delhi</td>\n",
       "      <td>3.25</td>\n",
       "    </tr>\n",
       "    <tr>\n",
       "      <th>116</th>\n",
       "      <td>34</td>\n",
       "      <td>Diesel</td>\n",
       "      <td>3</td>\n",
       "      <td>Manual</td>\n",
       "      <td>First</td>\n",
       "      <td>5.0</td>\n",
       "      <td>maruti</td>\n",
       "      <td>28.09</td>\n",
       "      <td>1248.0</td>\n",
       "      <td>88.50</td>\n",
       "      <td>Chennai</td>\n",
       "      <td>8.45</td>\n",
       "    </tr>\n",
       "    <tr>\n",
       "      <th>2039</th>\n",
       "      <td>104</td>\n",
       "      <td>Petrol</td>\n",
       "      <td>18</td>\n",
       "      <td>Manual</td>\n",
       "      <td>Third</td>\n",
       "      <td>5.0</td>\n",
       "      <td>mitsubishi</td>\n",
       "      <td>13.70</td>\n",
       "      <td>1468.0</td>\n",
       "      <td>85.80</td>\n",
       "      <td>Chennai</td>\n",
       "      <td>1.00</td>\n",
       "    </tr>\n",
       "    <tr>\n",
       "      <th>2241</th>\n",
       "      <td>39</td>\n",
       "      <td>Petrol</td>\n",
       "      <td>6</td>\n",
       "      <td>Manual</td>\n",
       "      <td>First</td>\n",
       "      <td>5.0</td>\n",
       "      <td>honda</td>\n",
       "      <td>17.80</td>\n",
       "      <td>1198.0</td>\n",
       "      <td>86.70</td>\n",
       "      <td>Mumbai</td>\n",
       "      <td>3.89</td>\n",
       "    </tr>\n",
       "  </tbody>\n",
       "</table>\n",
       "</div>"
      ],
      "text/plain": [
       "      KM_Driven Fuel_Type  age Transmission Owner_Type  Seats        make  \\\n",
       "1643         72    Petrol    6    Automatic      First    5.0     hyundai   \n",
       "2083         70    Petrol    5       Manual      First    5.0      toyota   \n",
       "116          34    Diesel    3       Manual      First    5.0      maruti   \n",
       "2039        104    Petrol   18       Manual      Third    5.0  mitsubishi   \n",
       "2241         39    Petrol    6       Manual      First    5.0       honda   \n",
       "\n",
       "      mileage_new  engine_new  power_new   Location  Price  \n",
       "1643        15.00      1396.0      98.60  Bangalore   4.75  \n",
       "2083        16.78      1496.0      88.73      Delhi   3.25  \n",
       "116         28.09      1248.0      88.50    Chennai   8.45  \n",
       "2039        13.70      1468.0      85.80    Chennai   1.00  \n",
       "2241        17.80      1198.0      86.70     Mumbai   3.89  "
      ]
     },
     "execution_count": 14,
     "metadata": {},
     "output_type": "execute_result"
    }
   ],
   "source": [
    "cars_df.sample(5)"
   ]
  },
  {
   "cell_type": "markdown",
   "metadata": {},
   "source": [
    "### Setting X and y variables"
   ]
  },
  {
   "cell_type": "code",
   "execution_count": 15,
   "metadata": {},
   "outputs": [],
   "source": [
    "X = cars_df[x_features]\n",
    "y = cars_df['Price']"
   ]
  },
  {
   "cell_type": "markdown",
   "metadata": {},
   "source": [
    "### Data Splitting"
   ]
  },
  {
   "cell_type": "code",
   "execution_count": 16,
   "metadata": {},
   "outputs": [],
   "source": [
    "from sklearn.model_selection import train_test_split"
   ]
  },
  {
   "cell_type": "code",
   "execution_count": 17,
   "metadata": {},
   "outputs": [],
   "source": [
    "X_train, X_test, y_train, y_test = train_test_split(X,\n",
    "                                                    y,\n",
    "                                                    train_size = 0.8,\n",
    "                                                    random_state = 80)"
   ]
  },
  {
   "cell_type": "code",
   "execution_count": 18,
   "metadata": {},
   "outputs": [
    {
     "data": {
      "text/html": [
       "<div>\n",
       "<style scoped>\n",
       "    .dataframe tbody tr th:only-of-type {\n",
       "        vertical-align: middle;\n",
       "    }\n",
       "\n",
       "    .dataframe tbody tr th {\n",
       "        vertical-align: top;\n",
       "    }\n",
       "\n",
       "    .dataframe thead th {\n",
       "        text-align: right;\n",
       "    }\n",
       "</style>\n",
       "<table border=\"1\" class=\"dataframe\">\n",
       "  <thead>\n",
       "    <tr style=\"text-align: right;\">\n",
       "      <th></th>\n",
       "      <th>KM_Driven</th>\n",
       "      <th>Fuel_Type</th>\n",
       "      <th>age</th>\n",
       "      <th>Transmission</th>\n",
       "      <th>Owner_Type</th>\n",
       "      <th>Seats</th>\n",
       "      <th>make</th>\n",
       "      <th>mileage_new</th>\n",
       "      <th>engine_new</th>\n",
       "      <th>power_new</th>\n",
       "      <th>Location</th>\n",
       "    </tr>\n",
       "  </thead>\n",
       "  <tbody>\n",
       "    <tr>\n",
       "      <th>1458</th>\n",
       "      <td>81</td>\n",
       "      <td>Diesel</td>\n",
       "      <td>5</td>\n",
       "      <td>Manual</td>\n",
       "      <td>First</td>\n",
       "      <td>5.0</td>\n",
       "      <td>volkswagen</td>\n",
       "      <td>20.14</td>\n",
       "      <td>1498.0</td>\n",
       "      <td>88.80</td>\n",
       "      <td>Hyderabad</td>\n",
       "    </tr>\n",
       "    <tr>\n",
       "      <th>3079</th>\n",
       "      <td>70</td>\n",
       "      <td>Petrol</td>\n",
       "      <td>9</td>\n",
       "      <td>Manual</td>\n",
       "      <td>Second</td>\n",
       "      <td>5.0</td>\n",
       "      <td>volkswagen</td>\n",
       "      <td>17.24</td>\n",
       "      <td>1198.0</td>\n",
       "      <td>73.90</td>\n",
       "      <td>Pune</td>\n",
       "    </tr>\n",
       "    <tr>\n",
       "      <th>2276</th>\n",
       "      <td>75</td>\n",
       "      <td>Petrol</td>\n",
       "      <td>4</td>\n",
       "      <td>Manual</td>\n",
       "      <td>First</td>\n",
       "      <td>5.0</td>\n",
       "      <td>hyundai</td>\n",
       "      <td>20.36</td>\n",
       "      <td>1197.0</td>\n",
       "      <td>78.90</td>\n",
       "      <td>Mumbai</td>\n",
       "    </tr>\n",
       "    <tr>\n",
       "      <th>1599</th>\n",
       "      <td>95</td>\n",
       "      <td>Petrol</td>\n",
       "      <td>21</td>\n",
       "      <td>Manual</td>\n",
       "      <td>Third</td>\n",
       "      <td>5.0</td>\n",
       "      <td>maruti</td>\n",
       "      <td>17.30</td>\n",
       "      <td>993.0</td>\n",
       "      <td>60.00</td>\n",
       "      <td>Jaipur</td>\n",
       "    </tr>\n",
       "    <tr>\n",
       "      <th>2356</th>\n",
       "      <td>14</td>\n",
       "      <td>Petrol</td>\n",
       "      <td>2</td>\n",
       "      <td>Manual</td>\n",
       "      <td>First</td>\n",
       "      <td>5.0</td>\n",
       "      <td>hyundai</td>\n",
       "      <td>18.60</td>\n",
       "      <td>1197.0</td>\n",
       "      <td>81.83</td>\n",
       "      <td>Kochi</td>\n",
       "    </tr>\n",
       "    <tr>\n",
       "      <th>...</th>\n",
       "      <td>...</td>\n",
       "      <td>...</td>\n",
       "      <td>...</td>\n",
       "      <td>...</td>\n",
       "      <td>...</td>\n",
       "      <td>...</td>\n",
       "      <td>...</td>\n",
       "      <td>...</td>\n",
       "      <td>...</td>\n",
       "      <td>...</td>\n",
       "      <td>...</td>\n",
       "    </tr>\n",
       "    <tr>\n",
       "      <th>522</th>\n",
       "      <td>45</td>\n",
       "      <td>Diesel</td>\n",
       "      <td>5</td>\n",
       "      <td>Manual</td>\n",
       "      <td>First</td>\n",
       "      <td>5.0</td>\n",
       "      <td>maruti</td>\n",
       "      <td>23.40</td>\n",
       "      <td>1248.0</td>\n",
       "      <td>74.00</td>\n",
       "      <td>Kolkata</td>\n",
       "    </tr>\n",
       "    <tr>\n",
       "      <th>2260</th>\n",
       "      <td>16</td>\n",
       "      <td>Petrol</td>\n",
       "      <td>2</td>\n",
       "      <td>Manual</td>\n",
       "      <td>First</td>\n",
       "      <td>5.0</td>\n",
       "      <td>tata</td>\n",
       "      <td>23.84</td>\n",
       "      <td>1199.0</td>\n",
       "      <td>84.00</td>\n",
       "      <td>Hyderabad</td>\n",
       "    </tr>\n",
       "    <tr>\n",
       "      <th>2983</th>\n",
       "      <td>21</td>\n",
       "      <td>Petrol</td>\n",
       "      <td>4</td>\n",
       "      <td>Manual</td>\n",
       "      <td>First</td>\n",
       "      <td>5.0</td>\n",
       "      <td>hyundai</td>\n",
       "      <td>18.90</td>\n",
       "      <td>1197.0</td>\n",
       "      <td>82.00</td>\n",
       "      <td>Pune</td>\n",
       "    </tr>\n",
       "    <tr>\n",
       "      <th>1213</th>\n",
       "      <td>83</td>\n",
       "      <td>Petrol</td>\n",
       "      <td>12</td>\n",
       "      <td>Manual</td>\n",
       "      <td>First</td>\n",
       "      <td>5.0</td>\n",
       "      <td>maruti</td>\n",
       "      <td>14.00</td>\n",
       "      <td>1061.0</td>\n",
       "      <td>64.00</td>\n",
       "      <td>Pune</td>\n",
       "    </tr>\n",
       "    <tr>\n",
       "      <th>1200</th>\n",
       "      <td>33</td>\n",
       "      <td>Petrol</td>\n",
       "      <td>4</td>\n",
       "      <td>Automatic</td>\n",
       "      <td>First</td>\n",
       "      <td>5.0</td>\n",
       "      <td>honda</td>\n",
       "      <td>19.00</td>\n",
       "      <td>1199.0</td>\n",
       "      <td>88.70</td>\n",
       "      <td>Hyderabad</td>\n",
       "    </tr>\n",
       "  </tbody>\n",
       "</table>\n",
       "<p>2472 rows × 11 columns</p>\n",
       "</div>"
      ],
      "text/plain": [
       "      KM_Driven Fuel_Type  age Transmission Owner_Type  Seats        make  \\\n",
       "1458         81    Diesel    5       Manual      First    5.0  volkswagen   \n",
       "3079         70    Petrol    9       Manual     Second    5.0  volkswagen   \n",
       "2276         75    Petrol    4       Manual      First    5.0     hyundai   \n",
       "1599         95    Petrol   21       Manual      Third    5.0      maruti   \n",
       "2356         14    Petrol    2       Manual      First    5.0     hyundai   \n",
       "...         ...       ...  ...          ...        ...    ...         ...   \n",
       "522          45    Diesel    5       Manual      First    5.0      maruti   \n",
       "2260         16    Petrol    2       Manual      First    5.0        tata   \n",
       "2983         21    Petrol    4       Manual      First    5.0     hyundai   \n",
       "1213         83    Petrol   12       Manual      First    5.0      maruti   \n",
       "1200         33    Petrol    4    Automatic      First    5.0       honda   \n",
       "\n",
       "      mileage_new  engine_new  power_new   Location  \n",
       "1458        20.14      1498.0      88.80  Hyderabad  \n",
       "3079        17.24      1198.0      73.90       Pune  \n",
       "2276        20.36      1197.0      78.90     Mumbai  \n",
       "1599        17.30       993.0      60.00     Jaipur  \n",
       "2356        18.60      1197.0      81.83      Kochi  \n",
       "...           ...         ...        ...        ...  \n",
       "522         23.40      1248.0      74.00    Kolkata  \n",
       "2260        23.84      1199.0      84.00  Hyderabad  \n",
       "2983        18.90      1197.0      82.00       Pune  \n",
       "1213        14.00      1061.0      64.00       Pune  \n",
       "1200        19.00      1199.0      88.70  Hyderabad  \n",
       "\n",
       "[2472 rows x 11 columns]"
      ]
     },
     "execution_count": 18,
     "metadata": {},
     "output_type": "execute_result"
    }
   ],
   "source": [
    "X_train"
   ]
  },
  {
   "cell_type": "code",
   "execution_count": 19,
   "metadata": {},
   "outputs": [
    {
     "data": {
      "text/html": [
       "<div>\n",
       "<style scoped>\n",
       "    .dataframe tbody tr th:only-of-type {\n",
       "        vertical-align: middle;\n",
       "    }\n",
       "\n",
       "    .dataframe tbody tr th {\n",
       "        vertical-align: top;\n",
       "    }\n",
       "\n",
       "    .dataframe thead th {\n",
       "        text-align: right;\n",
       "    }\n",
       "</style>\n",
       "<table border=\"1\" class=\"dataframe\">\n",
       "  <thead>\n",
       "    <tr style=\"text-align: right;\">\n",
       "      <th></th>\n",
       "      <th>KM_Driven</th>\n",
       "      <th>Fuel_Type</th>\n",
       "      <th>age</th>\n",
       "      <th>Transmission</th>\n",
       "      <th>Owner_Type</th>\n",
       "      <th>Seats</th>\n",
       "      <th>make</th>\n",
       "      <th>mileage_new</th>\n",
       "      <th>engine_new</th>\n",
       "      <th>power_new</th>\n",
       "      <th>Location</th>\n",
       "    </tr>\n",
       "  </thead>\n",
       "  <tbody>\n",
       "    <tr>\n",
       "      <th>1458</th>\n",
       "      <td>81</td>\n",
       "      <td>Diesel</td>\n",
       "      <td>5</td>\n",
       "      <td>Manual</td>\n",
       "      <td>First</td>\n",
       "      <td>5.0</td>\n",
       "      <td>volkswagen</td>\n",
       "      <td>20.14</td>\n",
       "      <td>1498.0</td>\n",
       "      <td>88.80</td>\n",
       "      <td>Hyderabad</td>\n",
       "    </tr>\n",
       "    <tr>\n",
       "      <th>3079</th>\n",
       "      <td>70</td>\n",
       "      <td>Petrol</td>\n",
       "      <td>9</td>\n",
       "      <td>Manual</td>\n",
       "      <td>Second</td>\n",
       "      <td>5.0</td>\n",
       "      <td>volkswagen</td>\n",
       "      <td>17.24</td>\n",
       "      <td>1198.0</td>\n",
       "      <td>73.90</td>\n",
       "      <td>Pune</td>\n",
       "    </tr>\n",
       "    <tr>\n",
       "      <th>2276</th>\n",
       "      <td>75</td>\n",
       "      <td>Petrol</td>\n",
       "      <td>4</td>\n",
       "      <td>Manual</td>\n",
       "      <td>First</td>\n",
       "      <td>5.0</td>\n",
       "      <td>hyundai</td>\n",
       "      <td>20.36</td>\n",
       "      <td>1197.0</td>\n",
       "      <td>78.90</td>\n",
       "      <td>Mumbai</td>\n",
       "    </tr>\n",
       "    <tr>\n",
       "      <th>1599</th>\n",
       "      <td>95</td>\n",
       "      <td>Petrol</td>\n",
       "      <td>21</td>\n",
       "      <td>Manual</td>\n",
       "      <td>Third</td>\n",
       "      <td>5.0</td>\n",
       "      <td>maruti</td>\n",
       "      <td>17.30</td>\n",
       "      <td>993.0</td>\n",
       "      <td>60.00</td>\n",
       "      <td>Jaipur</td>\n",
       "    </tr>\n",
       "    <tr>\n",
       "      <th>2356</th>\n",
       "      <td>14</td>\n",
       "      <td>Petrol</td>\n",
       "      <td>2</td>\n",
       "      <td>Manual</td>\n",
       "      <td>First</td>\n",
       "      <td>5.0</td>\n",
       "      <td>hyundai</td>\n",
       "      <td>18.60</td>\n",
       "      <td>1197.0</td>\n",
       "      <td>81.83</td>\n",
       "      <td>Kochi</td>\n",
       "    </tr>\n",
       "    <tr>\n",
       "      <th>737</th>\n",
       "      <td>12</td>\n",
       "      <td>Petrol</td>\n",
       "      <td>3</td>\n",
       "      <td>Manual</td>\n",
       "      <td>First</td>\n",
       "      <td>5.0</td>\n",
       "      <td>maruti</td>\n",
       "      <td>21.40</td>\n",
       "      <td>1197.0</td>\n",
       "      <td>83.10</td>\n",
       "      <td>Mumbai</td>\n",
       "    </tr>\n",
       "    <tr>\n",
       "      <th>265</th>\n",
       "      <td>50</td>\n",
       "      <td>Diesel</td>\n",
       "      <td>4</td>\n",
       "      <td>Manual</td>\n",
       "      <td>First</td>\n",
       "      <td>5.0</td>\n",
       "      <td>volkswagen</td>\n",
       "      <td>20.14</td>\n",
       "      <td>1498.0</td>\n",
       "      <td>88.80</td>\n",
       "      <td>Hyderabad</td>\n",
       "    </tr>\n",
       "    <tr>\n",
       "      <th>713</th>\n",
       "      <td>59</td>\n",
       "      <td>Petrol</td>\n",
       "      <td>12</td>\n",
       "      <td>Manual</td>\n",
       "      <td>First</td>\n",
       "      <td>4.0</td>\n",
       "      <td>maruti</td>\n",
       "      <td>16.10</td>\n",
       "      <td>796.0</td>\n",
       "      <td>37.00</td>\n",
       "      <td>Jaipur</td>\n",
       "    </tr>\n",
       "    <tr>\n",
       "      <th>82</th>\n",
       "      <td>88</td>\n",
       "      <td>Diesel</td>\n",
       "      <td>7</td>\n",
       "      <td>Manual</td>\n",
       "      <td>First</td>\n",
       "      <td>5.0</td>\n",
       "      <td>chevrolet</td>\n",
       "      <td>25.44</td>\n",
       "      <td>936.0</td>\n",
       "      <td>57.60</td>\n",
       "      <td>Jaipur</td>\n",
       "    </tr>\n",
       "    <tr>\n",
       "      <th>2918</th>\n",
       "      <td>27</td>\n",
       "      <td>Petrol</td>\n",
       "      <td>2</td>\n",
       "      <td>Manual</td>\n",
       "      <td>First</td>\n",
       "      <td>5.0</td>\n",
       "      <td>maruti</td>\n",
       "      <td>22.74</td>\n",
       "      <td>796.0</td>\n",
       "      <td>47.30</td>\n",
       "      <td>Kochi</td>\n",
       "    </tr>\n",
       "  </tbody>\n",
       "</table>\n",
       "</div>"
      ],
      "text/plain": [
       "      KM_Driven Fuel_Type  age Transmission Owner_Type  Seats        make  \\\n",
       "1458         81    Diesel    5       Manual      First    5.0  volkswagen   \n",
       "3079         70    Petrol    9       Manual     Second    5.0  volkswagen   \n",
       "2276         75    Petrol    4       Manual      First    5.0     hyundai   \n",
       "1599         95    Petrol   21       Manual      Third    5.0      maruti   \n",
       "2356         14    Petrol    2       Manual      First    5.0     hyundai   \n",
       "737          12    Petrol    3       Manual      First    5.0      maruti   \n",
       "265          50    Diesel    4       Manual      First    5.0  volkswagen   \n",
       "713          59    Petrol   12       Manual      First    4.0      maruti   \n",
       "82           88    Diesel    7       Manual      First    5.0   chevrolet   \n",
       "2918         27    Petrol    2       Manual      First    5.0      maruti   \n",
       "\n",
       "      mileage_new  engine_new  power_new   Location  \n",
       "1458        20.14      1498.0      88.80  Hyderabad  \n",
       "3079        17.24      1198.0      73.90       Pune  \n",
       "2276        20.36      1197.0      78.90     Mumbai  \n",
       "1599        17.30       993.0      60.00     Jaipur  \n",
       "2356        18.60      1197.0      81.83      Kochi  \n",
       "737         21.40      1197.0      83.10     Mumbai  \n",
       "265         20.14      1498.0      88.80  Hyderabad  \n",
       "713         16.10       796.0      37.00     Jaipur  \n",
       "82          25.44       936.0      57.60     Jaipur  \n",
       "2918        22.74       796.0      47.30      Kochi  "
      ]
     },
     "execution_count": 19,
     "metadata": {},
     "output_type": "execute_result"
    }
   ],
   "source": [
    "X_train[0:10]"
   ]
  },
  {
   "cell_type": "code",
   "execution_count": 20,
   "metadata": {},
   "outputs": [
    {
     "data": {
      "text/plain": [
       "(619, 11)"
      ]
     },
     "execution_count": 20,
     "metadata": {},
     "output_type": "execute_result"
    }
   ],
   "source": [
    "X_test.shape"
   ]
  },
  {
   "cell_type": "markdown",
   "metadata": {},
   "source": [
    "### Encode Categorical Variables"
   ]
  },
  {
   "cell_type": "code",
   "execution_count": 21,
   "metadata": {},
   "outputs": [],
   "source": [
    "from sklearn.preprocessing import OneHotEncoder"
   ]
  },
  {
   "cell_type": "code",
   "execution_count": 22,
   "metadata": {},
   "outputs": [],
   "source": [
    "ohe_encoder = OneHotEncoder(handle_unknown='ignore')"
   ]
  },
  {
   "cell_type": "code",
   "execution_count": 23,
   "metadata": {},
   "outputs": [
    {
     "data": {
      "text/plain": [
       "OneHotEncoder(handle_unknown='ignore')"
      ]
     },
     "execution_count": 23,
     "metadata": {},
     "output_type": "execute_result"
    }
   ],
   "source": [
    "ohe_encoder.fit(X_train[cat_features])"
   ]
  },
  {
   "cell_type": "code",
   "execution_count": 24,
   "metadata": {},
   "outputs": [
    {
     "data": {
      "text/plain": [
       "[array(['Diesel', 'Petrol'], dtype=object),\n",
       " array(['Automatic', 'Manual'], dtype=object),\n",
       " array(['First', 'Fourth & Above', 'Second', 'Third'], dtype=object),\n",
       " array(['chevrolet', 'datsun', 'fiat', 'ford', 'honda', 'hyundai',\n",
       "        'mahindra', 'maruti', 'mitsubishi', 'nissan', 'renault', 'skoda',\n",
       "        'tata', 'toyota', 'volkswagen'], dtype=object),\n",
       " array(['Ahmedabad', 'Bangalore', 'Chennai', 'Coimbatore', 'Delhi',\n",
       "        'Hyderabad', 'Jaipur', 'Kochi', 'Kolkata', 'Mumbai', 'Pune'],\n",
       "       dtype=object)]"
      ]
     },
     "execution_count": 24,
     "metadata": {},
     "output_type": "execute_result"
    }
   ],
   "source": [
    "ohe_encoder.categories_"
   ]
  },
  {
   "cell_type": "code",
   "execution_count": 25,
   "metadata": {},
   "outputs": [
    {
     "data": {
      "text/plain": [
       "['Fuel_Type_Diesel',\n",
       " 'Fuel_Type_Petrol',\n",
       " 'Transmission_Automatic',\n",
       " 'Transmission_Manual',\n",
       " 'Owner_Type_First',\n",
       " 'Owner_Type_Fourth & Above',\n",
       " 'Owner_Type_Second',\n",
       " 'Owner_Type_Third',\n",
       " 'make_chevrolet',\n",
       " 'make_datsun',\n",
       " 'make_fiat',\n",
       " 'make_ford',\n",
       " 'make_honda',\n",
       " 'make_hyundai',\n",
       " 'make_mahindra',\n",
       " 'make_maruti',\n",
       " 'make_mitsubishi',\n",
       " 'make_nissan',\n",
       " 'make_renault',\n",
       " 'make_skoda',\n",
       " 'make_tata',\n",
       " 'make_toyota',\n",
       " 'make_volkswagen',\n",
       " 'Location_Ahmedabad',\n",
       " 'Location_Bangalore',\n",
       " 'Location_Chennai',\n",
       " 'Location_Coimbatore',\n",
       " 'Location_Delhi',\n",
       " 'Location_Hyderabad',\n",
       " 'Location_Jaipur',\n",
       " 'Location_Kochi',\n",
       " 'Location_Kolkata',\n",
       " 'Location_Mumbai',\n",
       " 'Location_Pune']"
      ]
     },
     "execution_count": 25,
     "metadata": {},
     "output_type": "execute_result"
    }
   ],
   "source": [
    "encoded_cat_names = list(ohe_encoder.get_feature_names(cat_features))\n",
    "encoded_cat_names"
   ]
  },
  {
   "cell_type": "code",
   "execution_count": 26,
   "metadata": {},
   "outputs": [],
   "source": [
    "from sklearn.compose import ColumnTransformer\n",
    "from sklearn.pipeline import Pipeline\n",
    "from sklearn.preprocessing import StandardScaler"
   ]
  },
  {
   "cell_type": "code",
   "execution_count": 27,
   "metadata": {},
   "outputs": [],
   "source": [
    "preprocessor = ColumnTransformer(\n",
    "    transformers=[        \n",
    "        ('cat', ohe_encoder, cat_features)],\n",
    "remainder='passthrough')"
   ]
  },
  {
   "cell_type": "markdown",
   "metadata": {},
   "source": [
    "### Linear Models\n",
    "\n",
    "Assumes linear relationship between features and outcome variable."
   ]
  },
  {
   "cell_type": "code",
   "execution_count": 28,
   "metadata": {},
   "outputs": [
    {
     "data": {
      "image/png": "[encoded data removed]",
      "text/plain": [
       "<Figure size 360x360 with 1 Axes>"
      ]
     },
     "metadata": {
      "needs_background": "light"
     },
     "output_type": "display_data"
    }
   ],
   "source": [
    "sn.lmplot( data = cars_df.sample(100),\n",
    "           x = 'power_new',\n",
    "           y = 'Price');"
   ]
  },
  {
   "cell_type": "code",
   "execution_count": 29,
   "metadata": {},
   "outputs": [],
   "source": [
    "from sklearn.linear_model import LinearRegression"
   ]
  },
  {
   "cell_type": "code",
   "execution_count": 30,
   "metadata": {},
   "outputs": [],
   "source": [
    "lreg_v1 = Pipeline(steps=[('preprocessor', preprocessor),\n",
    "                          ('regressor', LinearRegression())])"
   ]
  },
  {
   "cell_type": "code",
   "execution_count": 31,
   "metadata": {},
   "outputs": [
    {
     "data": {
      "text/plain": [
       "Pipeline(steps=[('preprocessor',\n",
       "                 ColumnTransformer(remainder='passthrough',\n",
       "                                   transformers=[('cat',\n",
       "                                                  OneHotEncoder(handle_unknown='ignore'),\n",
       "                                                  ['Fuel_Type', 'Transmission',\n",
       "                                                   'Owner_Type', 'make',\n",
       "                                                   'Location'])])),\n",
       "                ('regressor', LinearRegression())])"
      ]
     },
     "execution_count": 31,
     "metadata": {},
     "output_type": "execute_result"
    }
   ],
   "source": [
    "lreg_v1.fit(X_train, y_train)"
   ]
  },
  {
   "cell_type": "code",
   "execution_count": 32,
   "metadata": {},
   "outputs": [],
   "source": [
    "final_feature_names = lreg_v1['preprocessor'].get_feature_names()"
   ]
  },
  {
   "cell_type": "markdown",
   "metadata": {},
   "source": [
    "### Understanding model parameters"
   ]
  },
  {
   "cell_type": "code",
   "execution_count": 33,
   "metadata": {},
   "outputs": [
    {
     "data": {
      "text/plain": [
       "1.1404277441625483"
      ]
     },
     "execution_count": 33,
     "metadata": {},
     "output_type": "execute_result"
    }
   ],
   "source": [
    "lreg_v1['regressor'].intercept_"
   ]
  },
  {
   "cell_type": "code",
   "execution_count": 34,
   "metadata": {},
   "outputs": [
    {
     "data": {
      "text/plain": [
       "array([ 4.98593908e-01, -4.98593908e-01,  1.24732993e-01, -1.24732993e-01,\n",
       "        1.49633532e-01, -4.91531040e-01, -6.38249560e-03,  3.48280004e-01,\n",
       "       -6.82501340e-01, -8.75909328e-01, -6.40219781e-01, -2.19732381e-02,\n",
       "       -5.57235418e-03,  2.08056099e-01, -6.70106786e-01,  7.21213921e-01,\n",
       "        1.34125054e+00, -5.33596387e-02,  1.53219735e-01,  7.33895966e-02,\n",
       "       -8.21919517e-01,  1.09781614e+00,  1.76615956e-01, -6.58471014e-02,\n",
       "        4.18484536e-01,  9.05263039e-02,  8.41248951e-01, -4.90470673e-01,\n",
       "        4.45499745e-01, -8.96728385e-02,  2.67100476e-01, -1.07658952e+00,\n",
       "       -2.44113005e-01, -9.61668695e-02, -1.07849301e-02, -3.38038628e-01,\n",
       "        1.78601824e-01, -2.58326504e-02,  1.10294977e-03,  4.87303511e-02])"
      ]
     },
     "execution_count": 34,
     "metadata": {},
     "output_type": "execute_result"
    }
   ],
   "source": [
    "lreg_v1['regressor'].coef_"
   ]
  },
  {
   "cell_type": "code",
   "execution_count": 35,
   "metadata": {},
   "outputs": [
    {
     "data": {
      "text/plain": [
       "{'cat__x0_Diesel': 0.5,\n",
       " 'cat__x0_Petrol': -0.5,\n",
       " 'cat__x1_Automatic': 0.12,\n",
       " 'cat__x1_Manual': -0.12,\n",
       " 'cat__x2_First': 0.15,\n",
       " 'cat__x2_Fourth & Above': -0.49,\n",
       " 'cat__x2_Second': -0.01,\n",
       " 'cat__x2_Third': 0.35,\n",
       " 'cat__x3_chevrolet': -0.68,\n",
       " 'cat__x3_datsun': -0.88,\n",
       " 'cat__x3_fiat': -0.64,\n",
       " 'cat__x3_ford': -0.02,\n",
       " 'cat__x3_honda': -0.01,\n",
       " 'cat__x3_hyundai': 0.21,\n",
       " 'cat__x3_mahindra': -0.67,\n",
       " 'cat__x3_maruti': 0.72,\n",
       " 'cat__x3_mitsubishi': 1.34,\n",
       " 'cat__x3_nissan': -0.05,\n",
       " 'cat__x3_renault': 0.15,\n",
       " 'cat__x3_skoda': 0.07,\n",
       " 'cat__x3_tata': -0.82,\n",
       " 'cat__x3_toyota': 1.1,\n",
       " 'cat__x3_volkswagen': 0.18,\n",
       " 'cat__x4_Ahmedabad': -0.07,\n",
       " 'cat__x4_Bangalore': 0.42,\n",
       " 'cat__x4_Chennai': 0.09,\n",
       " 'cat__x4_Coimbatore': 0.84,\n",
       " 'cat__x4_Delhi': -0.49,\n",
       " 'cat__x4_Hyderabad': 0.45,\n",
       " 'cat__x4_Jaipur': -0.09,\n",
       " 'cat__x4_Kochi': 0.27,\n",
       " 'cat__x4_Kolkata': -1.08,\n",
       " 'cat__x4_Mumbai': -0.24,\n",
       " 'cat__x4_Pune': -0.1,\n",
       " 'KM_Driven': -0.01,\n",
       " 'age': -0.34,\n",
       " 'Seats': 0.18,\n",
       " 'mileage_new': -0.03,\n",
       " 'engine_new': 0.0,\n",
       " 'power_new': 0.05}"
      ]
     },
     "execution_count": 35,
     "metadata": {},
     "output_type": "execute_result"
    }
   ],
   "source": [
    "dict(zip(final_feature_names, np.round(lreg_v1['regressor'].coef_, 2)))"
   ]
  },
  {
   "cell_type": "markdown",
   "metadata": {},
   "source": [
    "### Predict on test set"
   ]
  },
  {
   "cell_type": "code",
   "execution_count": 36,
   "metadata": {},
   "outputs": [],
   "source": [
    "y_pred = lreg_v1.predict(X_test)"
   ]
  },
  {
   "cell_type": "code",
   "execution_count": 37,
   "metadata": {},
   "outputs": [],
   "source": [
    "y_df = pd.DataFrame({\"actual\": y_test,\n",
    "                     \"predicted\": y_pred,\n",
    "                     \"residual\": y_pred - y_test})"
   ]
  },
  {
   "cell_type": "code",
   "execution_count": 38,
   "metadata": {},
   "outputs": [
    {
     "data": {
      "text/html": [
       "<div>\n",
       "<style scoped>\n",
       "    .dataframe tbody tr th:only-of-type {\n",
       "        vertical-align: middle;\n",
       "    }\n",
       "\n",
       "    .dataframe tbody tr th {\n",
       "        vertical-align: top;\n",
       "    }\n",
       "\n",
       "    .dataframe thead th {\n",
       "        text-align: right;\n",
       "    }\n",
       "</style>\n",
       "<table border=\"1\" class=\"dataframe\">\n",
       "  <thead>\n",
       "    <tr style=\"text-align: right;\">\n",
       "      <th></th>\n",
       "      <th>actual</th>\n",
       "      <th>predicted</th>\n",
       "      <th>residual</th>\n",
       "    </tr>\n",
       "  </thead>\n",
       "  <tbody>\n",
       "    <tr>\n",
       "      <th>770</th>\n",
       "      <td>7.23</td>\n",
       "      <td>6.140305</td>\n",
       "      <td>-1.089695</td>\n",
       "    </tr>\n",
       "    <tr>\n",
       "      <th>1540</th>\n",
       "      <td>6.43</td>\n",
       "      <td>5.414607</td>\n",
       "      <td>-1.015393</td>\n",
       "    </tr>\n",
       "    <tr>\n",
       "      <th>2962</th>\n",
       "      <td>6.25</td>\n",
       "      <td>5.942548</td>\n",
       "      <td>-0.307452</td>\n",
       "    </tr>\n",
       "    <tr>\n",
       "      <th>2040</th>\n",
       "      <td>4.69</td>\n",
       "      <td>5.412554</td>\n",
       "      <td>0.722554</td>\n",
       "    </tr>\n",
       "    <tr>\n",
       "      <th>640</th>\n",
       "      <td>2.65</td>\n",
       "      <td>2.718154</td>\n",
       "      <td>0.068154</td>\n",
       "    </tr>\n",
       "    <tr>\n",
       "      <th>81</th>\n",
       "      <td>8.35</td>\n",
       "      <td>6.461810</td>\n",
       "      <td>-1.888190</td>\n",
       "    </tr>\n",
       "    <tr>\n",
       "      <th>2773</th>\n",
       "      <td>6.75</td>\n",
       "      <td>5.823465</td>\n",
       "      <td>-0.926535</td>\n",
       "    </tr>\n",
       "    <tr>\n",
       "      <th>816</th>\n",
       "      <td>3.00</td>\n",
       "      <td>4.078730</td>\n",
       "      <td>1.078730</td>\n",
       "    </tr>\n",
       "    <tr>\n",
       "      <th>305</th>\n",
       "      <td>1.96</td>\n",
       "      <td>1.310204</td>\n",
       "      <td>-0.649796</td>\n",
       "    </tr>\n",
       "    <tr>\n",
       "      <th>2907</th>\n",
       "      <td>4.00</td>\n",
       "      <td>4.426238</td>\n",
       "      <td>0.426238</td>\n",
       "    </tr>\n",
       "  </tbody>\n",
       "</table>\n",
       "</div>"
      ],
      "text/plain": [
       "      actual  predicted  residual\n",
       "770     7.23   6.140305 -1.089695\n",
       "1540    6.43   5.414607 -1.015393\n",
       "2962    6.25   5.942548 -0.307452\n",
       "2040    4.69   5.412554  0.722554\n",
       "640     2.65   2.718154  0.068154\n",
       "81      8.35   6.461810 -1.888190\n",
       "2773    6.75   5.823465 -0.926535\n",
       "816     3.00   4.078730  1.078730\n",
       "305     1.96   1.310204 -0.649796\n",
       "2907    4.00   4.426238  0.426238"
      ]
     },
     "execution_count": 38,
     "metadata": {},
     "output_type": "execute_result"
    }
   ],
   "source": [
    "y_df.sample(10, random_state = 100)"
   ]
  },
  {
   "cell_type": "markdown",
   "metadata": {},
   "source": [
    "### Measuring Accuracy"
   ]
  },
  {
   "cell_type": "code",
   "execution_count": 39,
   "metadata": {},
   "outputs": [],
   "source": [
    "from sklearn.metrics import mean_squared_error, r2_score"
   ]
  },
  {
   "cell_type": "code",
   "execution_count": 40,
   "metadata": {},
   "outputs": [],
   "source": [
    "mse_v1 = mean_squared_error(y_test, y_pred)"
   ]
  },
  {
   "cell_type": "code",
   "execution_count": 41,
   "metadata": {},
   "outputs": [
    {
     "data": {
      "text/plain": [
       "0.9756399731866288"
      ]
     },
     "execution_count": 41,
     "metadata": {},
     "output_type": "execute_result"
    }
   ],
   "source": [
    "mse_v1"
   ]
  },
  {
   "cell_type": "code",
   "execution_count": 42,
   "metadata": {},
   "outputs": [],
   "source": [
    "rmse_v1 = np.sqrt(mse_v1)"
   ]
  },
  {
   "cell_type": "code",
   "execution_count": 43,
   "metadata": {},
   "outputs": [
    {
     "data": {
      "text/plain": [
       "0.9877448927666641"
      ]
     },
     "execution_count": 43,
     "metadata": {},
     "output_type": "execute_result"
    }
   ],
   "source": [
    "rmse_v1"
   ]
  },
  {
   "cell_type": "code",
   "execution_count": 44,
   "metadata": {},
   "outputs": [
    {
     "data": {
      "text/plain": [
       "0.7855650379068236"
      ]
     },
     "execution_count": 44,
     "metadata": {},
     "output_type": "execute_result"
    }
   ],
   "source": [
    "r2_score(y_test, y_pred)"
   ]
  },
  {
   "cell_type": "markdown",
   "metadata": {},
   "source": [
    "### What are the reasons for the remaining error\n",
    "\n",
    "1. More factors \n",
    "2. More samples \n",
    "3. Complex Models : Try other models\n",
    "4. Feature Engineering - Derive new features (factors) from existing features (factors)\n",
    "5. Noise (randomness)\n",
    "   "
   ]
  },
  {
   "cell_type": "markdown",
   "metadata": {},
   "source": [
    "### Error Analysis"
   ]
  },
  {
   "cell_type": "code",
   "execution_count": 45,
   "metadata": {},
   "outputs": [
    {
     "data": {
      "image/png": "[encoded data removed]",
      "text/plain": [
       "<Figure size 432x288 with 1 Axes>"
      ]
     },
     "metadata": {
      "needs_background": "light"
     },
     "output_type": "display_data"
    }
   ],
   "source": [
    "y_df.residual.hist();"
   ]
  },
  {
   "cell_type": "code",
   "execution_count": 46,
   "metadata": {},
   "outputs": [
    {
     "data": {
      "text/html": [
       "<div>\n",
       "<style scoped>\n",
       "    .dataframe tbody tr th:only-of-type {\n",
       "        vertical-align: middle;\n",
       "    }\n",
       "\n",
       "    .dataframe tbody tr th {\n",
       "        vertical-align: top;\n",
       "    }\n",
       "\n",
       "    .dataframe thead th {\n",
       "        text-align: right;\n",
       "    }\n",
       "</style>\n",
       "<table border=\"1\" class=\"dataframe\">\n",
       "  <thead>\n",
       "    <tr style=\"text-align: right;\">\n",
       "      <th></th>\n",
       "      <th>actual</th>\n",
       "      <th>predicted</th>\n",
       "      <th>residual</th>\n",
       "    </tr>\n",
       "  </thead>\n",
       "  <tbody>\n",
       "    <tr>\n",
       "      <th>1324</th>\n",
       "      <td>5.91</td>\n",
       "      <td>5.822324</td>\n",
       "      <td>-0.087676</td>\n",
       "    </tr>\n",
       "    <tr>\n",
       "      <th>328</th>\n",
       "      <td>3.95</td>\n",
       "      <td>5.778981</td>\n",
       "      <td>1.828981</td>\n",
       "    </tr>\n",
       "    <tr>\n",
       "      <th>1361</th>\n",
       "      <td>10.34</td>\n",
       "      <td>8.235078</td>\n",
       "      <td>-2.104922</td>\n",
       "    </tr>\n",
       "    <tr>\n",
       "      <th>1657</th>\n",
       "      <td>1.20</td>\n",
       "      <td>1.679801</td>\n",
       "      <td>0.479801</td>\n",
       "    </tr>\n",
       "    <tr>\n",
       "      <th>1786</th>\n",
       "      <td>1.55</td>\n",
       "      <td>1.881649</td>\n",
       "      <td>0.331649</td>\n",
       "    </tr>\n",
       "    <tr>\n",
       "      <th>...</th>\n",
       "      <td>...</td>\n",
       "      <td>...</td>\n",
       "      <td>...</td>\n",
       "    </tr>\n",
       "    <tr>\n",
       "      <th>112</th>\n",
       "      <td>2.65</td>\n",
       "      <td>1.986047</td>\n",
       "      <td>-0.663953</td>\n",
       "    </tr>\n",
       "    <tr>\n",
       "      <th>2893</th>\n",
       "      <td>5.65</td>\n",
       "      <td>5.972145</td>\n",
       "      <td>0.322145</td>\n",
       "    </tr>\n",
       "    <tr>\n",
       "      <th>2093</th>\n",
       "      <td>2.25</td>\n",
       "      <td>2.659763</td>\n",
       "      <td>0.409763</td>\n",
       "    </tr>\n",
       "    <tr>\n",
       "      <th>2038</th>\n",
       "      <td>6.10</td>\n",
       "      <td>7.260006</td>\n",
       "      <td>1.160006</td>\n",
       "    </tr>\n",
       "    <tr>\n",
       "      <th>474</th>\n",
       "      <td>3.30</td>\n",
       "      <td>3.148629</td>\n",
       "      <td>-0.151371</td>\n",
       "    </tr>\n",
       "  </tbody>\n",
       "</table>\n",
       "<p>619 rows × 3 columns</p>\n",
       "</div>"
      ],
      "text/plain": [
       "      actual  predicted  residual\n",
       "1324    5.91   5.822324 -0.087676\n",
       "328     3.95   5.778981  1.828981\n",
       "1361   10.34   8.235078 -2.104922\n",
       "1657    1.20   1.679801  0.479801\n",
       "1786    1.55   1.881649  0.331649\n",
       "...      ...        ...       ...\n",
       "112     2.65   1.986047 -0.663953\n",
       "2893    5.65   5.972145  0.322145\n",
       "2093    2.25   2.659763  0.409763\n",
       "2038    6.10   7.260006  1.160006\n",
       "474     3.30   3.148629 -0.151371\n",
       "\n",
       "[619 rows x 3 columns]"
      ]
     },
     "execution_count": 46,
     "metadata": {},
     "output_type": "execute_result"
    }
   ],
   "source": [
    "y_df"
   ]
  },
  {
   "cell_type": "code",
   "execution_count": 63,
   "metadata": {},
   "outputs": [],
   "source": [
    "test_cars_df = y_df.join(X_test)"
   ]
  },
  {
   "cell_type": "code",
   "execution_count": 64,
   "metadata": {},
   "outputs": [
    {
     "data": {
      "text/html": [
       "<div>\n",
       "<style scoped>\n",
       "    .dataframe tbody tr th:only-of-type {\n",
       "        vertical-align: middle;\n",
       "    }\n",
       "\n",
       "    .dataframe tbody tr th {\n",
       "        vertical-align: top;\n",
       "    }\n",
       "\n",
       "    .dataframe thead th {\n",
       "        text-align: right;\n",
       "    }\n",
       "</style>\n",
       "<table border=\"1\" class=\"dataframe\">\n",
       "  <thead>\n",
       "    <tr style=\"text-align: right;\">\n",
       "      <th></th>\n",
       "      <th>actual</th>\n",
       "      <th>predicted</th>\n",
       "      <th>residual</th>\n",
       "      <th>KM_Driven</th>\n",
       "      <th>Fuel_Type</th>\n",
       "      <th>age</th>\n",
       "      <th>Transmission</th>\n",
       "      <th>Owner_Type</th>\n",
       "      <th>Seats</th>\n",
       "      <th>make</th>\n",
       "      <th>mileage_new</th>\n",
       "      <th>engine_new</th>\n",
       "      <th>power_new</th>\n",
       "      <th>Location</th>\n",
       "    </tr>\n",
       "  </thead>\n",
       "  <tbody>\n",
       "    <tr>\n",
       "      <th>1319</th>\n",
       "      <td>4.96</td>\n",
       "      <td>4.994573</td>\n",
       "      <td>0.034573</td>\n",
       "      <td>66</td>\n",
       "      <td>Diesel</td>\n",
       "      <td>4</td>\n",
       "      <td>Manual</td>\n",
       "      <td>First</td>\n",
       "      <td>5.0</td>\n",
       "      <td>hyundai</td>\n",
       "      <td>24.00</td>\n",
       "      <td>1120.0</td>\n",
       "      <td>70.00</td>\n",
       "      <td>Kochi</td>\n",
       "    </tr>\n",
       "    <tr>\n",
       "      <th>2685</th>\n",
       "      <td>4.55</td>\n",
       "      <td>4.505455</td>\n",
       "      <td>-0.044545</td>\n",
       "      <td>41</td>\n",
       "      <td>Petrol</td>\n",
       "      <td>5</td>\n",
       "      <td>Manual</td>\n",
       "      <td>First</td>\n",
       "      <td>5.0</td>\n",
       "      <td>hyundai</td>\n",
       "      <td>17.00</td>\n",
       "      <td>1197.0</td>\n",
       "      <td>80.00</td>\n",
       "      <td>Chennai</td>\n",
       "    </tr>\n",
       "    <tr>\n",
       "      <th>2521</th>\n",
       "      <td>6.30</td>\n",
       "      <td>6.453249</td>\n",
       "      <td>0.153249</td>\n",
       "      <td>67</td>\n",
       "      <td>Diesel</td>\n",
       "      <td>3</td>\n",
       "      <td>Manual</td>\n",
       "      <td>First</td>\n",
       "      <td>7.0</td>\n",
       "      <td>mahindra</td>\n",
       "      <td>18.49</td>\n",
       "      <td>1493.0</td>\n",
       "      <td>100.00</td>\n",
       "      <td>Pune</td>\n",
       "    </tr>\n",
       "    <tr>\n",
       "      <th>588</th>\n",
       "      <td>8.00</td>\n",
       "      <td>8.101293</td>\n",
       "      <td>0.101293</td>\n",
       "      <td>119</td>\n",
       "      <td>Diesel</td>\n",
       "      <td>6</td>\n",
       "      <td>Manual</td>\n",
       "      <td>First</td>\n",
       "      <td>8.0</td>\n",
       "      <td>toyota</td>\n",
       "      <td>12.99</td>\n",
       "      <td>2494.0</td>\n",
       "      <td>100.00</td>\n",
       "      <td>Ahmedabad</td>\n",
       "    </tr>\n",
       "    <tr>\n",
       "      <th>3055</th>\n",
       "      <td>5.90</td>\n",
       "      <td>6.789444</td>\n",
       "      <td>0.889444</td>\n",
       "      <td>27</td>\n",
       "      <td>Diesel</td>\n",
       "      <td>1</td>\n",
       "      <td>Manual</td>\n",
       "      <td>First</td>\n",
       "      <td>5.0</td>\n",
       "      <td>maruti</td>\n",
       "      <td>28.40</td>\n",
       "      <td>1248.0</td>\n",
       "      <td>73.75</td>\n",
       "      <td>Pune</td>\n",
       "    </tr>\n",
       "  </tbody>\n",
       "</table>\n",
       "</div>"
      ],
      "text/plain": [
       "      actual  predicted  residual  KM_Driven Fuel_Type  age Transmission  \\\n",
       "1319    4.96   4.994573  0.034573         66    Diesel    4       Manual   \n",
       "2685    4.55   4.505455 -0.044545         41    Petrol    5       Manual   \n",
       "2521    6.30   6.453249  0.153249         67    Diesel    3       Manual   \n",
       "588     8.00   8.101293  0.101293        119    Diesel    6       Manual   \n",
       "3055    5.90   6.789444  0.889444         27    Diesel    1       Manual   \n",
       "\n",
       "     Owner_Type  Seats      make  mileage_new  engine_new  power_new  \\\n",
       "1319      First    5.0   hyundai        24.00      1120.0      70.00   \n",
       "2685      First    5.0   hyundai        17.00      1197.0      80.00   \n",
       "2521      First    7.0  mahindra        18.49      1493.0     100.00   \n",
       "588       First    8.0    toyota        12.99      2494.0     100.00   \n",
       "3055      First    5.0    maruti        28.40      1248.0      73.75   \n",
       "\n",
       "       Location  \n",
       "1319      Kochi  \n",
       "2685    Chennai  \n",
       "2521       Pune  \n",
       "588   Ahmedabad  \n",
       "3055       Pune  "
      ]
     },
     "execution_count": 64,
     "metadata": {},
     "output_type": "execute_result"
    }
   ],
   "source": [
    "test_cars_df.sample(5)"
   ]
  },
  {
   "cell_type": "code",
   "execution_count": 48,
   "metadata": {},
   "outputs": [
    {
     "data": {
      "image/png": "[encoded data removed]",
      "text/plain": [
       "<Figure size 1080x432 with 1 Axes>"
      ]
     },
     "metadata": {
      "needs_background": "light"
     },
     "output_type": "display_data"
    }
   ],
   "source": [
    "plt.figure(figsize=(15, 6))\n",
    "sn.boxplot(data = test_cars_df, x = 'make', y = 'residual');"
   ]
  },
  {
   "cell_type": "code",
   "execution_count": 66,
   "metadata": {},
   "outputs": [
    {
     "data": {
      "image/png": "[encoded data removed]",
      "text/plain": [
       "<Figure size 720x576 with 2 Axes>"
      ]
     },
     "metadata": {
      "needs_background": "light"
     },
     "output_type": "display_data"
    }
   ],
   "source": [
    "make_mean = pd.crosstab(test_cars_df.Location,\n",
    "                        test_cars_df.make,\n",
    "                        values = test_cars_df.residual,\n",
    "                        aggfunc = 'median')\n",
    "\n",
    "plt.figure(figsize=(10, 8))\n",
    "sn.heatmap(make_mean, \n",
    "           annot=True, \n",
    "           cmap=sn.diverging_palette(240, 10),\n",
    "           vmax = 2.0,\n",
    "           vmin = -2.0,\n",
    "           fmt='1.2f');"
   ]
  },
  {
   "cell_type": "code",
   "execution_count": 67,
   "metadata": {},
   "outputs": [
    {
     "data": {
      "text/plain": [
       "<matplotlib.axes._subplots.AxesSubplot at 0x7fe27af79160>"
      ]
     },
     "execution_count": 67,
     "metadata": {},
     "output_type": "execute_result"
    },
    {
     "data": {
      "image/png": "[encoded data removed]",
      "text/plain": [
       "<Figure size 432x288 with 1 Axes>"
      ]
     },
     "metadata": {
      "needs_background": "light"
     },
     "output_type": "display_data"
    }
   ],
   "source": [
    "sn.scatterplot(data = test_cars_df,\n",
    "               x = 'power_m',\n",
    "               y = 'residual')"
   ]
  },
  {
   "cell_type": "markdown",
   "metadata": {},
   "source": [
    "### Saving the model"
   ]
  },
  {
   "cell_type": "code",
   "execution_count": 52,
   "metadata": {},
   "outputs": [],
   "source": [
    "class CarPredictionModel():\n",
    "    \n",
    "    def __init__(self, model, features, rmse):\n",
    "        self.model = model\n",
    "        self.features = features\n",
    "        self.rmse = rmse"
   ]
  },
  {
   "cell_type": "code",
   "execution_count": 53,
   "metadata": {},
   "outputs": [],
   "source": [
    "my_model = CarPredictionModel(lreg_v1, list(X_train.columns), rmse_v1)"
   ]
  },
  {
   "cell_type": "code",
   "execution_count": 54,
   "metadata": {},
   "outputs": [],
   "source": [
    "# Uncomment this code for older version of sklearn\n",
    "#from sklearn.externals import joblib\n",
    "#joblib.dump(my_model, './cars.pkl')"
   ]
  },
  {
   "cell_type": "code",
   "execution_count": 55,
   "metadata": {},
   "outputs": [],
   "source": [
    "from joblib import dump"
   ]
  },
  {
   "cell_type": "code",
   "execution_count": 56,
   "metadata": {},
   "outputs": [
    {
     "data": {
      "text/plain": [
       "['./cars.pkl']"
      ]
     },
     "execution_count": 56,
     "metadata": {},
     "output_type": "execute_result"
    }
   ],
   "source": [
    "dump(my_model, './cars.pkl')"
   ]
  }
 ],
 "metadata": {
  "kernelspec": {
   "display_name": "Python 3",
   "language": "python",
   "name": "python3"
  },
  "language_info": {
   "codemirror_mode": {
    "name": "ipython",
    "version": 3
   },
   "file_extension": ".py",
   "mimetype": "text/x-python",
   "name": "python",
   "nbconvert_exporter": "python",
   "pygments_lexer": "ipython3",
   "version": "3.8.3"
  }
 },
 "nbformat": 4,
 "nbformat_minor": 4
}

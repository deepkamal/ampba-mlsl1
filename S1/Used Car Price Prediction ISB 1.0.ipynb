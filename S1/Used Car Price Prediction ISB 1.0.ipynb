{
 "cells": [
  {
   "cell_type": "markdown",
   "metadata": {},
   "source": [
    "# Used Car Price Prediction"
   ]
  },
  {
   "cell_type": "markdown",
   "metadata": {},
   "source": [
    "### Load Dataset"
   ]
  },
  {
   "cell_type": "code",
   "execution_count": 2,
   "metadata": {},
   "outputs": [],
   "source": [
    "import pandas as pd\n",
    "import numpy as np\n",
    "import matplotlib.pyplot as plt\n",
    "import seaborn as sn"
   ]
  },
  {
   "cell_type": "code",
   "execution_count": 3,
   "metadata": {},
   "outputs": [],
   "source": [
    "cars_df = pd.read_csv( \"new_used_car_v1.csv\" )"
   ]
  },
  {
   "cell_type": "code",
   "execution_count": 4,
   "metadata": {},
   "outputs": [
    {
     "data": {
      "text/html": [
       "<div>\n",
       "<style scoped>\n",
       "    .dataframe tbody tr th:only-of-type {\n",
       "        vertical-align: middle;\n",
       "    }\n",
       "\n",
       "    .dataframe tbody tr th {\n",
       "        vertical-align: top;\n",
       "    }\n",
       "\n",
       "    .dataframe thead th {\n",
       "        text-align: right;\n",
       "    }\n",
       "</style>\n",
       "<table border=\"1\" class=\"dataframe\">\n",
       "  <thead>\n",
       "    <tr style=\"text-align: right;\">\n",
       "      <th></th>\n",
       "      <th>index</th>\n",
       "      <th>Name</th>\n",
       "      <th>Location</th>\n",
       "      <th>Year</th>\n",
       "      <th>Kilometers_Driven</th>\n",
       "      <th>Fuel_Type</th>\n",
       "      <th>Transmission</th>\n",
       "      <th>Owner_Type</th>\n",
       "      <th>Mileage</th>\n",
       "      <th>Engine</th>\n",
       "      <th>Power</th>\n",
       "      <th>Seats</th>\n",
       "      <th>New_Price</th>\n",
       "      <th>Price</th>\n",
       "      <th>age</th>\n",
       "      <th>KM_Driven</th>\n",
       "      <th>make</th>\n",
       "      <th>mileage_new</th>\n",
       "      <th>engine_new</th>\n",
       "      <th>power_new</th>\n",
       "    </tr>\n",
       "  </thead>\n",
       "  <tbody>\n",
       "    <tr>\n",
       "      <th>988</th>\n",
       "      <td>1937</td>\n",
       "      <td>Maruti Alto LXi</td>\n",
       "      <td>Chennai</td>\n",
       "      <td>2008</td>\n",
       "      <td>65000</td>\n",
       "      <td>Petrol</td>\n",
       "      <td>Manual</td>\n",
       "      <td>First</td>\n",
       "      <td>19.7 kmpl</td>\n",
       "      <td>796 CC</td>\n",
       "      <td>46.3 bhp</td>\n",
       "      <td>5.0</td>\n",
       "      <td>NaN</td>\n",
       "      <td>1.59</td>\n",
       "      <td>11</td>\n",
       "      <td>65</td>\n",
       "      <td>maruti</td>\n",
       "      <td>19.70</td>\n",
       "      <td>796.0</td>\n",
       "      <td>46.30</td>\n",
       "    </tr>\n",
       "    <tr>\n",
       "      <th>1251</th>\n",
       "      <td>2503</td>\n",
       "      <td>Maruti Ertiga VDI</td>\n",
       "      <td>Kolkata</td>\n",
       "      <td>2014</td>\n",
       "      <td>47052</td>\n",
       "      <td>Diesel</td>\n",
       "      <td>Manual</td>\n",
       "      <td>First</td>\n",
       "      <td>20.77 kmpl</td>\n",
       "      <td>1248 CC</td>\n",
       "      <td>88.76 bhp</td>\n",
       "      <td>7.0</td>\n",
       "      <td>NaN</td>\n",
       "      <td>5.99</td>\n",
       "      <td>5</td>\n",
       "      <td>47</td>\n",
       "      <td>maruti</td>\n",
       "      <td>20.77</td>\n",
       "      <td>1248.0</td>\n",
       "      <td>88.76</td>\n",
       "    </tr>\n",
       "    <tr>\n",
       "      <th>2184</th>\n",
       "      <td>4253</td>\n",
       "      <td>Honda Amaze S Petrol</td>\n",
       "      <td>Kolkata</td>\n",
       "      <td>2013</td>\n",
       "      <td>32576</td>\n",
       "      <td>Petrol</td>\n",
       "      <td>Manual</td>\n",
       "      <td>First</td>\n",
       "      <td>19.5 kmpl</td>\n",
       "      <td>1199 CC</td>\n",
       "      <td>88.76 bhp</td>\n",
       "      <td>5.0</td>\n",
       "      <td>7.36 Lakh</td>\n",
       "      <td>3.15</td>\n",
       "      <td>6</td>\n",
       "      <td>32</td>\n",
       "      <td>honda</td>\n",
       "      <td>19.50</td>\n",
       "      <td>1199.0</td>\n",
       "      <td>88.76</td>\n",
       "    </tr>\n",
       "    <tr>\n",
       "      <th>369</th>\n",
       "      <td>776</td>\n",
       "      <td>Hyundai i10 Sportz AT</td>\n",
       "      <td>Coimbatore</td>\n",
       "      <td>2014</td>\n",
       "      <td>41016</td>\n",
       "      <td>Petrol</td>\n",
       "      <td>Automatic</td>\n",
       "      <td>Second</td>\n",
       "      <td>16.95 kmpl</td>\n",
       "      <td>1197 CC</td>\n",
       "      <td>78.9 bhp</td>\n",
       "      <td>5.0</td>\n",
       "      <td>NaN</td>\n",
       "      <td>5.08</td>\n",
       "      <td>5</td>\n",
       "      <td>41</td>\n",
       "      <td>hyundai</td>\n",
       "      <td>16.95</td>\n",
       "      <td>1197.0</td>\n",
       "      <td>78.90</td>\n",
       "    </tr>\n",
       "    <tr>\n",
       "      <th>2291</th>\n",
       "      <td>4460</td>\n",
       "      <td>Tata Indica V2 DLS BSIII</td>\n",
       "      <td>Pune</td>\n",
       "      <td>2013</td>\n",
       "      <td>70000</td>\n",
       "      <td>Diesel</td>\n",
       "      <td>Manual</td>\n",
       "      <td>First</td>\n",
       "      <td>17.88 kmpl</td>\n",
       "      <td>1405 CC</td>\n",
       "      <td>48.21 bhp</td>\n",
       "      <td>5.0</td>\n",
       "      <td>NaN</td>\n",
       "      <td>1.80</td>\n",
       "      <td>6</td>\n",
       "      <td>70</td>\n",
       "      <td>tata</td>\n",
       "      <td>17.88</td>\n",
       "      <td>1405.0</td>\n",
       "      <td>48.21</td>\n",
       "    </tr>\n",
       "  </tbody>\n",
       "</table>\n",
       "</div>"
      ],
      "text/plain": [
       "      index                      Name    Location  Year  Kilometers_Driven  \\\n",
       "988    1937           Maruti Alto LXi     Chennai  2008              65000   \n",
       "1251   2503         Maruti Ertiga VDI     Kolkata  2014              47052   \n",
       "2184   4253      Honda Amaze S Petrol     Kolkata  2013              32576   \n",
       "369     776     Hyundai i10 Sportz AT  Coimbatore  2014              41016   \n",
       "2291   4460  Tata Indica V2 DLS BSIII        Pune  2013              70000   \n",
       "\n",
       "     Fuel_Type Transmission Owner_Type     Mileage   Engine      Power  Seats  \\\n",
       "988     Petrol       Manual      First   19.7 kmpl   796 CC   46.3 bhp    5.0   \n",
       "1251    Diesel       Manual      First  20.77 kmpl  1248 CC  88.76 bhp    7.0   \n",
       "2184    Petrol       Manual      First   19.5 kmpl  1199 CC  88.76 bhp    5.0   \n",
       "369     Petrol    Automatic     Second  16.95 kmpl  1197 CC   78.9 bhp    5.0   \n",
       "2291    Diesel       Manual      First  17.88 kmpl  1405 CC  48.21 bhp    5.0   \n",
       "\n",
       "      New_Price  Price  age  KM_Driven     make  mileage_new  engine_new  \\\n",
       "988         NaN   1.59   11         65   maruti        19.70       796.0   \n",
       "1251        NaN   5.99    5         47   maruti        20.77      1248.0   \n",
       "2184  7.36 Lakh   3.15    6         32    honda        19.50      1199.0   \n",
       "369         NaN   5.08    5         41  hyundai        16.95      1197.0   \n",
       "2291        NaN   1.80    6         70     tata        17.88      1405.0   \n",
       "\n",
       "      power_new  \n",
       "988       46.30  \n",
       "1251      88.76  \n",
       "2184      88.76  \n",
       "369       78.90  \n",
       "2291      48.21  "
      ]
     },
     "execution_count": 4,
     "metadata": {},
     "output_type": "execute_result"
    }
   ],
   "source": [
    "cars_df.sample(5)"
   ]
  },
  {
   "cell_type": "code",
   "execution_count": 5,
   "metadata": {},
   "outputs": [
    {
     "name": "stdout",
     "output_type": "stream",
     "text": [
      "<class 'pandas.core.frame.DataFrame'>\n",
      "RangeIndex: 3092 entries, 0 to 3091\n",
      "Data columns (total 20 columns):\n",
      " #   Column             Non-Null Count  Dtype  \n",
      "---  ------             --------------  -----  \n",
      " 0   index              3092 non-null   int64  \n",
      " 1   Name               3092 non-null   object \n",
      " 2   Location           3092 non-null   object \n",
      " 3   Year               3092 non-null   int64  \n",
      " 4   Kilometers_Driven  3092 non-null   int64  \n",
      " 5   Fuel_Type          3092 non-null   object \n",
      " 6   Transmission       3092 non-null   object \n",
      " 7   Owner_Type         3092 non-null   object \n",
      " 8   Mileage            3092 non-null   object \n",
      " 9   Engine             3092 non-null   object \n",
      " 10  Power              3092 non-null   object \n",
      " 11  Seats              3091 non-null   float64\n",
      " 12  New_Price          411 non-null    object \n",
      " 13  Price              3092 non-null   float64\n",
      " 14  age                3092 non-null   int64  \n",
      " 15  KM_Driven          3092 non-null   int64  \n",
      " 16  make               3092 non-null   object \n",
      " 17  mileage_new        3092 non-null   float64\n",
      " 18  engine_new         3092 non-null   float64\n",
      " 19  power_new          3092 non-null   float64\n",
      "dtypes: float64(5), int64(5), object(10)\n",
      "memory usage: 483.2+ KB\n"
     ]
    }
   ],
   "source": [
    "cars_df.info()"
   ]
  },
  {
   "cell_type": "markdown",
   "metadata": {},
   "source": [
    "### Feature Set Selection"
   ]
  },
  {
   "cell_type": "code",
   "execution_count": 6,
   "metadata": {},
   "outputs": [
    {
     "data": {
      "text/plain": [
       "Index(['index', 'Name', 'Location', 'Year', 'Kilometers_Driven', 'Fuel_Type',\n",
       "       'Transmission', 'Owner_Type', 'Mileage', 'Engine', 'Power', 'Seats',\n",
       "       'New_Price', 'Price', 'age', 'KM_Driven', 'make', 'mileage_new',\n",
       "       'engine_new', 'power_new'],\n",
       "      dtype='object')"
      ]
     },
     "execution_count": 6,
     "metadata": {},
     "output_type": "execute_result"
    }
   ],
   "source": [
    "cars_df.columns"
   ]
  },
  {
   "cell_type": "code",
   "execution_count": 7,
   "metadata": {},
   "outputs": [],
   "source": [
    "x_features = ['KM_Driven', 'Fuel_Type', 'age',\n",
    "              'Transmission', 'Owner_Type', 'Seats', \n",
    "              'make', 'mileage_new', 'engine_new', \n",
    "              'power_new', 'Location']"
   ]
  },
  {
   "cell_type": "code",
   "execution_count": 8,
   "metadata": {},
   "outputs": [],
   "source": [
    "cat_features = ['Fuel_Type', \n",
    "                'Transmission', 'Owner_Type',\n",
    "                'make', 'Location']"
   ]
  },
  {
   "cell_type": "code",
   "execution_count": 9,
   "metadata": {},
   "outputs": [],
   "source": [
    "num_features = list(set(x_features) - set(cat_features))"
   ]
  },
  {
   "cell_type": "code",
   "execution_count": 10,
   "metadata": {},
   "outputs": [
    {
     "data": {
      "text/plain": [
       "['power_new', 'Seats', 'KM_Driven', 'mileage_new', 'engine_new', 'age']"
      ]
     },
     "execution_count": 10,
     "metadata": {},
     "output_type": "execute_result"
    }
   ],
   "source": [
    "num_features"
   ]
  },
  {
   "cell_type": "code",
   "execution_count": 11,
   "metadata": {},
   "outputs": [
    {
     "name": "stdout",
     "output_type": "stream",
     "text": [
      "<class 'pandas.core.frame.DataFrame'>\n",
      "RangeIndex: 3092 entries, 0 to 3091\n",
      "Data columns (total 11 columns):\n",
      " #   Column        Non-Null Count  Dtype  \n",
      "---  ------        --------------  -----  \n",
      " 0   KM_Driven     3092 non-null   int64  \n",
      " 1   Fuel_Type     3092 non-null   object \n",
      " 2   age           3092 non-null   int64  \n",
      " 3   Transmission  3092 non-null   object \n",
      " 4   Owner_Type    3092 non-null   object \n",
      " 5   Seats         3091 non-null   float64\n",
      " 6   make          3092 non-null   object \n",
      " 7   mileage_new   3092 non-null   float64\n",
      " 8   engine_new    3092 non-null   float64\n",
      " 9   power_new     3092 non-null   float64\n",
      " 10  Location      3092 non-null   object \n",
      "dtypes: float64(4), int64(2), object(5)\n",
      "memory usage: 265.8+ KB\n"
     ]
    }
   ],
   "source": [
    "cars_df[x_features].info()"
   ]
  },
  {
   "cell_type": "markdown",
   "metadata": {},
   "source": [
    "### Dropping Null Values"
   ]
  },
  {
   "cell_type": "code",
   "execution_count": 12,
   "metadata": {},
   "outputs": [],
   "source": [
    "cars_df = cars_df[x_features + ['Price']].dropna()"
   ]
  },
  {
   "cell_type": "code",
   "execution_count": 13,
   "metadata": {},
   "outputs": [
    {
     "data": {
      "text/plain": [
       "(3091, 12)"
      ]
     },
     "execution_count": 13,
     "metadata": {},
     "output_type": "execute_result"
    }
   ],
   "source": [
    "cars_df.shape"
   ]
  },
  {
   "cell_type": "code",
   "execution_count": 14,
   "metadata": {},
   "outputs": [
    {
     "data": {
      "text/html": [
       "<div>\n",
       "<style scoped>\n",
       "    .dataframe tbody tr th:only-of-type {\n",
       "        vertical-align: middle;\n",
       "    }\n",
       "\n",
       "    .dataframe tbody tr th {\n",
       "        vertical-align: top;\n",
       "    }\n",
       "\n",
       "    .dataframe thead th {\n",
       "        text-align: right;\n",
       "    }\n",
       "</style>\n",
       "<table border=\"1\" class=\"dataframe\">\n",
       "  <thead>\n",
       "    <tr style=\"text-align: right;\">\n",
       "      <th></th>\n",
       "      <th>KM_Driven</th>\n",
       "      <th>Fuel_Type</th>\n",
       "      <th>age</th>\n",
       "      <th>Transmission</th>\n",
       "      <th>Owner_Type</th>\n",
       "      <th>Seats</th>\n",
       "      <th>make</th>\n",
       "      <th>mileage_new</th>\n",
       "      <th>engine_new</th>\n",
       "      <th>power_new</th>\n",
       "      <th>Location</th>\n",
       "      <th>Price</th>\n",
       "    </tr>\n",
       "  </thead>\n",
       "  <tbody>\n",
       "    <tr>\n",
       "      <th>2665</th>\n",
       "      <td>7</td>\n",
       "      <td>Petrol</td>\n",
       "      <td>3</td>\n",
       "      <td>Automatic</td>\n",
       "      <td>First</td>\n",
       "      <td>5.0</td>\n",
       "      <td>maruti</td>\n",
       "      <td>23.1</td>\n",
       "      <td>998.0</td>\n",
       "      <td>67.04</td>\n",
       "      <td>Mumbai</td>\n",
       "      <td>4.35</td>\n",
       "    </tr>\n",
       "    <tr>\n",
       "      <th>2282</th>\n",
       "      <td>4</td>\n",
       "      <td>Petrol</td>\n",
       "      <td>1</td>\n",
       "      <td>Manual</td>\n",
       "      <td>First</td>\n",
       "      <td>5.0</td>\n",
       "      <td>hyundai</td>\n",
       "      <td>18.9</td>\n",
       "      <td>1197.0</td>\n",
       "      <td>81.86</td>\n",
       "      <td>Kolkata</td>\n",
       "      <td>4.80</td>\n",
       "    </tr>\n",
       "    <tr>\n",
       "      <th>2643</th>\n",
       "      <td>45</td>\n",
       "      <td>Diesel</td>\n",
       "      <td>5</td>\n",
       "      <td>Manual</td>\n",
       "      <td>First</td>\n",
       "      <td>5.0</td>\n",
       "      <td>ford</td>\n",
       "      <td>22.7</td>\n",
       "      <td>1498.0</td>\n",
       "      <td>89.84</td>\n",
       "      <td>Hyderabad</td>\n",
       "      <td>7.50</td>\n",
       "    </tr>\n",
       "    <tr>\n",
       "      <th>2124</th>\n",
       "      <td>20</td>\n",
       "      <td>Petrol</td>\n",
       "      <td>4</td>\n",
       "      <td>Manual</td>\n",
       "      <td>First</td>\n",
       "      <td>5.0</td>\n",
       "      <td>hyundai</td>\n",
       "      <td>21.1</td>\n",
       "      <td>814.0</td>\n",
       "      <td>55.20</td>\n",
       "      <td>Ahmedabad</td>\n",
       "      <td>2.66</td>\n",
       "    </tr>\n",
       "    <tr>\n",
       "      <th>673</th>\n",
       "      <td>31</td>\n",
       "      <td>Petrol</td>\n",
       "      <td>3</td>\n",
       "      <td>Manual</td>\n",
       "      <td>First</td>\n",
       "      <td>5.0</td>\n",
       "      <td>maruti</td>\n",
       "      <td>24.7</td>\n",
       "      <td>796.0</td>\n",
       "      <td>47.30</td>\n",
       "      <td>Kolkata</td>\n",
       "      <td>2.15</td>\n",
       "    </tr>\n",
       "  </tbody>\n",
       "</table>\n",
       "</div>"
      ],
      "text/plain": [
       "      KM_Driven Fuel_Type  age Transmission Owner_Type  Seats     make  \\\n",
       "2665          7    Petrol    3    Automatic      First    5.0   maruti   \n",
       "2282          4    Petrol    1       Manual      First    5.0  hyundai   \n",
       "2643         45    Diesel    5       Manual      First    5.0     ford   \n",
       "2124         20    Petrol    4       Manual      First    5.0  hyundai   \n",
       "673          31    Petrol    3       Manual      First    5.0   maruti   \n",
       "\n",
       "      mileage_new  engine_new  power_new   Location  Price  \n",
       "2665         23.1       998.0      67.04     Mumbai   4.35  \n",
       "2282         18.9      1197.0      81.86    Kolkata   4.80  \n",
       "2643         22.7      1498.0      89.84  Hyderabad   7.50  \n",
       "2124         21.1       814.0      55.20  Ahmedabad   2.66  \n",
       "673          24.7       796.0      47.30    Kolkata   2.15  "
      ]
     },
     "execution_count": 14,
     "metadata": {},
     "output_type": "execute_result"
    }
   ],
   "source": [
    "cars_df.sample(5)"
   ]
  },
  {
   "cell_type": "markdown",
   "metadata": {},
   "source": [
    "### Setting X and y variables"
   ]
  },
  {
   "cell_type": "code",
   "execution_count": 15,
   "metadata": {},
   "outputs": [],
   "source": [
    "X = cars_df[x_features]\n",
    "y = cars_df['Price']"
   ]
  },
  {
   "cell_type": "code",
   "execution_count": 19,
   "metadata": {},
   "outputs": [
    {
     "name": "stdout",
     "output_type": "stream",
     "text": [
      "Collecting sklearn\n",
      "  Using cached sklearn-0.0.tar.gz (1.1 kB)\n",
      "Collecting scikit-learn\n",
      "  Downloading scikit_learn-0.24.2-cp39-cp39-macosx_10_13_x86_64.whl (7.3 MB)\n",
      "\u001b[K     |████████████████████████████████| 7.3 MB 434 kB/s eta 0:00:01\n",
      "\u001b[?25hRequirement already satisfied: scipy>=0.19.1 in /usr/local/lib/python3.9/site-packages (from scikit-learn->sklearn) (1.7.1)\n",
      "Requirement already satisfied: numpy>=1.13.3 in /usr/local/lib/python3.9/site-packages (from scikit-learn->sklearn) (1.20.2)\n",
      "Collecting threadpoolctl>=2.0.0\n",
      "  Downloading threadpoolctl-2.2.0-py3-none-any.whl (12 kB)\n",
      "Collecting joblib>=0.11\n",
      "  Downloading joblib-1.0.1-py3-none-any.whl (303 kB)\n",
      "\u001b[K     |████████████████████████████████| 303 kB 1.9 MB/s eta 0:00:01\n",
      "\u001b[?25hBuilding wheels for collected packages: sklearn\n",
      "  Building wheel for sklearn (setup.py) ... \u001b[?25ldone\n",
      "\u001b[?25h  Created wheel for sklearn: filename=sklearn-0.0-py2.py3-none-any.whl size=1309 sha256=d309904a48b21d9f9fec1e511d0d1c48895d47f0eea1702b3c73e34de9510ecf\n",
      "  Stored in directory: /Users/dks/Library/Caches/pip/wheels/e4/7b/98/b6466d71b8d738a0c547008b9eb39bf8676d1ff6ca4b22af1c\n",
      "Successfully built sklearn\n",
      "Installing collected packages: threadpoolctl, joblib, scikit-learn, sklearn\n",
      "Successfully installed joblib-1.0.1 scikit-learn-0.24.2 sklearn-0.0 threadpoolctl-2.2.0\n",
      "\u001b[33mWARNING: You are using pip version 21.1.3; however, version 21.2.4 is available.\n",
      "You should consider upgrading via the '/usr/local/opt/python@3.9/bin/python3.9 -m pip install --upgrade pip' command.\u001b[0m\n"
     ]
    }
   ],
   "source": [
    "!pip3 install sklearn "
   ]
  },
  {
   "cell_type": "markdown",
   "metadata": {},
   "source": [
    "### Data Splitting"
   ]
  },
  {
   "cell_type": "code",
   "execution_count": 20,
   "metadata": {},
   "outputs": [],
   "source": [
    "from sklearn.model_selection import train_test_split"
   ]
  },
  {
   "cell_type": "code",
   "execution_count": 21,
   "metadata": {},
   "outputs": [],
   "source": [
    "X_train, X_test, y_train, y_test = train_test_split(X,\n",
    "                                                    y,\n",
    "                                                    train_size = 0.8,\n",
    "                                                    random_state = 80)"
   ]
  },
  {
   "cell_type": "code",
   "execution_count": 22,
   "metadata": {},
   "outputs": [
    {
     "data": {
      "text/html": [
       "<div>\n",
       "<style scoped>\n",
       "    .dataframe tbody tr th:only-of-type {\n",
       "        vertical-align: middle;\n",
       "    }\n",
       "\n",
       "    .dataframe tbody tr th {\n",
       "        vertical-align: top;\n",
       "    }\n",
       "\n",
       "    .dataframe thead th {\n",
       "        text-align: right;\n",
       "    }\n",
       "</style>\n",
       "<table border=\"1\" class=\"dataframe\">\n",
       "  <thead>\n",
       "    <tr style=\"text-align: right;\">\n",
       "      <th></th>\n",
       "      <th>KM_Driven</th>\n",
       "      <th>Fuel_Type</th>\n",
       "      <th>age</th>\n",
       "      <th>Transmission</th>\n",
       "      <th>Owner_Type</th>\n",
       "      <th>Seats</th>\n",
       "      <th>make</th>\n",
       "      <th>mileage_new</th>\n",
       "      <th>engine_new</th>\n",
       "      <th>power_new</th>\n",
       "      <th>Location</th>\n",
       "    </tr>\n",
       "  </thead>\n",
       "  <tbody>\n",
       "    <tr>\n",
       "      <th>1458</th>\n",
       "      <td>81</td>\n",
       "      <td>Diesel</td>\n",
       "      <td>5</td>\n",
       "      <td>Manual</td>\n",
       "      <td>First</td>\n",
       "      <td>5.0</td>\n",
       "      <td>volkswagen</td>\n",
       "      <td>20.14</td>\n",
       "      <td>1498.0</td>\n",
       "      <td>88.80</td>\n",
       "      <td>Hyderabad</td>\n",
       "    </tr>\n",
       "    <tr>\n",
       "      <th>3079</th>\n",
       "      <td>70</td>\n",
       "      <td>Petrol</td>\n",
       "      <td>9</td>\n",
       "      <td>Manual</td>\n",
       "      <td>Second</td>\n",
       "      <td>5.0</td>\n",
       "      <td>volkswagen</td>\n",
       "      <td>17.24</td>\n",
       "      <td>1198.0</td>\n",
       "      <td>73.90</td>\n",
       "      <td>Pune</td>\n",
       "    </tr>\n",
       "    <tr>\n",
       "      <th>2276</th>\n",
       "      <td>75</td>\n",
       "      <td>Petrol</td>\n",
       "      <td>4</td>\n",
       "      <td>Manual</td>\n",
       "      <td>First</td>\n",
       "      <td>5.0</td>\n",
       "      <td>hyundai</td>\n",
       "      <td>20.36</td>\n",
       "      <td>1197.0</td>\n",
       "      <td>78.90</td>\n",
       "      <td>Mumbai</td>\n",
       "    </tr>\n",
       "    <tr>\n",
       "      <th>1599</th>\n",
       "      <td>95</td>\n",
       "      <td>Petrol</td>\n",
       "      <td>21</td>\n",
       "      <td>Manual</td>\n",
       "      <td>Third</td>\n",
       "      <td>5.0</td>\n",
       "      <td>maruti</td>\n",
       "      <td>17.30</td>\n",
       "      <td>993.0</td>\n",
       "      <td>60.00</td>\n",
       "      <td>Jaipur</td>\n",
       "    </tr>\n",
       "    <tr>\n",
       "      <th>2356</th>\n",
       "      <td>14</td>\n",
       "      <td>Petrol</td>\n",
       "      <td>2</td>\n",
       "      <td>Manual</td>\n",
       "      <td>First</td>\n",
       "      <td>5.0</td>\n",
       "      <td>hyundai</td>\n",
       "      <td>18.60</td>\n",
       "      <td>1197.0</td>\n",
       "      <td>81.83</td>\n",
       "      <td>Kochi</td>\n",
       "    </tr>\n",
       "    <tr>\n",
       "      <th>...</th>\n",
       "      <td>...</td>\n",
       "      <td>...</td>\n",
       "      <td>...</td>\n",
       "      <td>...</td>\n",
       "      <td>...</td>\n",
       "      <td>...</td>\n",
       "      <td>...</td>\n",
       "      <td>...</td>\n",
       "      <td>...</td>\n",
       "      <td>...</td>\n",
       "      <td>...</td>\n",
       "    </tr>\n",
       "    <tr>\n",
       "      <th>522</th>\n",
       "      <td>45</td>\n",
       "      <td>Diesel</td>\n",
       "      <td>5</td>\n",
       "      <td>Manual</td>\n",
       "      <td>First</td>\n",
       "      <td>5.0</td>\n",
       "      <td>maruti</td>\n",
       "      <td>23.40</td>\n",
       "      <td>1248.0</td>\n",
       "      <td>74.00</td>\n",
       "      <td>Kolkata</td>\n",
       "    </tr>\n",
       "    <tr>\n",
       "      <th>2260</th>\n",
       "      <td>16</td>\n",
       "      <td>Petrol</td>\n",
       "      <td>2</td>\n",
       "      <td>Manual</td>\n",
       "      <td>First</td>\n",
       "      <td>5.0</td>\n",
       "      <td>tata</td>\n",
       "      <td>23.84</td>\n",
       "      <td>1199.0</td>\n",
       "      <td>84.00</td>\n",
       "      <td>Hyderabad</td>\n",
       "    </tr>\n",
       "    <tr>\n",
       "      <th>2983</th>\n",
       "      <td>21</td>\n",
       "      <td>Petrol</td>\n",
       "      <td>4</td>\n",
       "      <td>Manual</td>\n",
       "      <td>First</td>\n",
       "      <td>5.0</td>\n",
       "      <td>hyundai</td>\n",
       "      <td>18.90</td>\n",
       "      <td>1197.0</td>\n",
       "      <td>82.00</td>\n",
       "      <td>Pune</td>\n",
       "    </tr>\n",
       "    <tr>\n",
       "      <th>1213</th>\n",
       "      <td>83</td>\n",
       "      <td>Petrol</td>\n",
       "      <td>12</td>\n",
       "      <td>Manual</td>\n",
       "      <td>First</td>\n",
       "      <td>5.0</td>\n",
       "      <td>maruti</td>\n",
       "      <td>14.00</td>\n",
       "      <td>1061.0</td>\n",
       "      <td>64.00</td>\n",
       "      <td>Pune</td>\n",
       "    </tr>\n",
       "    <tr>\n",
       "      <th>1200</th>\n",
       "      <td>33</td>\n",
       "      <td>Petrol</td>\n",
       "      <td>4</td>\n",
       "      <td>Automatic</td>\n",
       "      <td>First</td>\n",
       "      <td>5.0</td>\n",
       "      <td>honda</td>\n",
       "      <td>19.00</td>\n",
       "      <td>1199.0</td>\n",
       "      <td>88.70</td>\n",
       "      <td>Hyderabad</td>\n",
       "    </tr>\n",
       "  </tbody>\n",
       "</table>\n",
       "<p>2472 rows × 11 columns</p>\n",
       "</div>"
      ],
      "text/plain": [
       "      KM_Driven Fuel_Type  age Transmission Owner_Type  Seats        make  \\\n",
       "1458         81    Diesel    5       Manual      First    5.0  volkswagen   \n",
       "3079         70    Petrol    9       Manual     Second    5.0  volkswagen   \n",
       "2276         75    Petrol    4       Manual      First    5.0     hyundai   \n",
       "1599         95    Petrol   21       Manual      Third    5.0      maruti   \n",
       "2356         14    Petrol    2       Manual      First    5.0     hyundai   \n",
       "...         ...       ...  ...          ...        ...    ...         ...   \n",
       "522          45    Diesel    5       Manual      First    5.0      maruti   \n",
       "2260         16    Petrol    2       Manual      First    5.0        tata   \n",
       "2983         21    Petrol    4       Manual      First    5.0     hyundai   \n",
       "1213         83    Petrol   12       Manual      First    5.0      maruti   \n",
       "1200         33    Petrol    4    Automatic      First    5.0       honda   \n",
       "\n",
       "      mileage_new  engine_new  power_new   Location  \n",
       "1458        20.14      1498.0      88.80  Hyderabad  \n",
       "3079        17.24      1198.0      73.90       Pune  \n",
       "2276        20.36      1197.0      78.90     Mumbai  \n",
       "1599        17.30       993.0      60.00     Jaipur  \n",
       "2356        18.60      1197.0      81.83      Kochi  \n",
       "...           ...         ...        ...        ...  \n",
       "522         23.40      1248.0      74.00    Kolkata  \n",
       "2260        23.84      1199.0      84.00  Hyderabad  \n",
       "2983        18.90      1197.0      82.00       Pune  \n",
       "1213        14.00      1061.0      64.00       Pune  \n",
       "1200        19.00      1199.0      88.70  Hyderabad  \n",
       "\n",
       "[2472 rows x 11 columns]"
      ]
     },
     "execution_count": 22,
     "metadata": {},
     "output_type": "execute_result"
    }
   ],
   "source": [
    "X_train"
   ]
  },
  {
   "cell_type": "code",
   "execution_count": 23,
   "metadata": {},
   "outputs": [
    {
     "data": {
      "text/html": [
       "<div>\n",
       "<style scoped>\n",
       "    .dataframe tbody tr th:only-of-type {\n",
       "        vertical-align: middle;\n",
       "    }\n",
       "\n",
       "    .dataframe tbody tr th {\n",
       "        vertical-align: top;\n",
       "    }\n",
       "\n",
       "    .dataframe thead th {\n",
       "        text-align: right;\n",
       "    }\n",
       "</style>\n",
       "<table border=\"1\" class=\"dataframe\">\n",
       "  <thead>\n",
       "    <tr style=\"text-align: right;\">\n",
       "      <th></th>\n",
       "      <th>KM_Driven</th>\n",
       "      <th>Fuel_Type</th>\n",
       "      <th>age</th>\n",
       "      <th>Transmission</th>\n",
       "      <th>Owner_Type</th>\n",
       "      <th>Seats</th>\n",
       "      <th>make</th>\n",
       "      <th>mileage_new</th>\n",
       "      <th>engine_new</th>\n",
       "      <th>power_new</th>\n",
       "      <th>Location</th>\n",
       "    </tr>\n",
       "  </thead>\n",
       "  <tbody>\n",
       "    <tr>\n",
       "      <th>1458</th>\n",
       "      <td>81</td>\n",
       "      <td>Diesel</td>\n",
       "      <td>5</td>\n",
       "      <td>Manual</td>\n",
       "      <td>First</td>\n",
       "      <td>5.0</td>\n",
       "      <td>volkswagen</td>\n",
       "      <td>20.14</td>\n",
       "      <td>1498.0</td>\n",
       "      <td>88.80</td>\n",
       "      <td>Hyderabad</td>\n",
       "    </tr>\n",
       "    <tr>\n",
       "      <th>3079</th>\n",
       "      <td>70</td>\n",
       "      <td>Petrol</td>\n",
       "      <td>9</td>\n",
       "      <td>Manual</td>\n",
       "      <td>Second</td>\n",
       "      <td>5.0</td>\n",
       "      <td>volkswagen</td>\n",
       "      <td>17.24</td>\n",
       "      <td>1198.0</td>\n",
       "      <td>73.90</td>\n",
       "      <td>Pune</td>\n",
       "    </tr>\n",
       "    <tr>\n",
       "      <th>2276</th>\n",
       "      <td>75</td>\n",
       "      <td>Petrol</td>\n",
       "      <td>4</td>\n",
       "      <td>Manual</td>\n",
       "      <td>First</td>\n",
       "      <td>5.0</td>\n",
       "      <td>hyundai</td>\n",
       "      <td>20.36</td>\n",
       "      <td>1197.0</td>\n",
       "      <td>78.90</td>\n",
       "      <td>Mumbai</td>\n",
       "    </tr>\n",
       "    <tr>\n",
       "      <th>1599</th>\n",
       "      <td>95</td>\n",
       "      <td>Petrol</td>\n",
       "      <td>21</td>\n",
       "      <td>Manual</td>\n",
       "      <td>Third</td>\n",
       "      <td>5.0</td>\n",
       "      <td>maruti</td>\n",
       "      <td>17.30</td>\n",
       "      <td>993.0</td>\n",
       "      <td>60.00</td>\n",
       "      <td>Jaipur</td>\n",
       "    </tr>\n",
       "    <tr>\n",
       "      <th>2356</th>\n",
       "      <td>14</td>\n",
       "      <td>Petrol</td>\n",
       "      <td>2</td>\n",
       "      <td>Manual</td>\n",
       "      <td>First</td>\n",
       "      <td>5.0</td>\n",
       "      <td>hyundai</td>\n",
       "      <td>18.60</td>\n",
       "      <td>1197.0</td>\n",
       "      <td>81.83</td>\n",
       "      <td>Kochi</td>\n",
       "    </tr>\n",
       "    <tr>\n",
       "      <th>737</th>\n",
       "      <td>12</td>\n",
       "      <td>Petrol</td>\n",
       "      <td>3</td>\n",
       "      <td>Manual</td>\n",
       "      <td>First</td>\n",
       "      <td>5.0</td>\n",
       "      <td>maruti</td>\n",
       "      <td>21.40</td>\n",
       "      <td>1197.0</td>\n",
       "      <td>83.10</td>\n",
       "      <td>Mumbai</td>\n",
       "    </tr>\n",
       "    <tr>\n",
       "      <th>265</th>\n",
       "      <td>50</td>\n",
       "      <td>Diesel</td>\n",
       "      <td>4</td>\n",
       "      <td>Manual</td>\n",
       "      <td>First</td>\n",
       "      <td>5.0</td>\n",
       "      <td>volkswagen</td>\n",
       "      <td>20.14</td>\n",
       "      <td>1498.0</td>\n",
       "      <td>88.80</td>\n",
       "      <td>Hyderabad</td>\n",
       "    </tr>\n",
       "    <tr>\n",
       "      <th>713</th>\n",
       "      <td>59</td>\n",
       "      <td>Petrol</td>\n",
       "      <td>12</td>\n",
       "      <td>Manual</td>\n",
       "      <td>First</td>\n",
       "      <td>4.0</td>\n",
       "      <td>maruti</td>\n",
       "      <td>16.10</td>\n",
       "      <td>796.0</td>\n",
       "      <td>37.00</td>\n",
       "      <td>Jaipur</td>\n",
       "    </tr>\n",
       "    <tr>\n",
       "      <th>82</th>\n",
       "      <td>88</td>\n",
       "      <td>Diesel</td>\n",
       "      <td>7</td>\n",
       "      <td>Manual</td>\n",
       "      <td>First</td>\n",
       "      <td>5.0</td>\n",
       "      <td>chevrolet</td>\n",
       "      <td>25.44</td>\n",
       "      <td>936.0</td>\n",
       "      <td>57.60</td>\n",
       "      <td>Jaipur</td>\n",
       "    </tr>\n",
       "    <tr>\n",
       "      <th>2918</th>\n",
       "      <td>27</td>\n",
       "      <td>Petrol</td>\n",
       "      <td>2</td>\n",
       "      <td>Manual</td>\n",
       "      <td>First</td>\n",
       "      <td>5.0</td>\n",
       "      <td>maruti</td>\n",
       "      <td>22.74</td>\n",
       "      <td>796.0</td>\n",
       "      <td>47.30</td>\n",
       "      <td>Kochi</td>\n",
       "    </tr>\n",
       "  </tbody>\n",
       "</table>\n",
       "</div>"
      ],
      "text/plain": [
       "      KM_Driven Fuel_Type  age Transmission Owner_Type  Seats        make  \\\n",
       "1458         81    Diesel    5       Manual      First    5.0  volkswagen   \n",
       "3079         70    Petrol    9       Manual     Second    5.0  volkswagen   \n",
       "2276         75    Petrol    4       Manual      First    5.0     hyundai   \n",
       "1599         95    Petrol   21       Manual      Third    5.0      maruti   \n",
       "2356         14    Petrol    2       Manual      First    5.0     hyundai   \n",
       "737          12    Petrol    3       Manual      First    5.0      maruti   \n",
       "265          50    Diesel    4       Manual      First    5.0  volkswagen   \n",
       "713          59    Petrol   12       Manual      First    4.0      maruti   \n",
       "82           88    Diesel    7       Manual      First    5.0   chevrolet   \n",
       "2918         27    Petrol    2       Manual      First    5.0      maruti   \n",
       "\n",
       "      mileage_new  engine_new  power_new   Location  \n",
       "1458        20.14      1498.0      88.80  Hyderabad  \n",
       "3079        17.24      1198.0      73.90       Pune  \n",
       "2276        20.36      1197.0      78.90     Mumbai  \n",
       "1599        17.30       993.0      60.00     Jaipur  \n",
       "2356        18.60      1197.0      81.83      Kochi  \n",
       "737         21.40      1197.0      83.10     Mumbai  \n",
       "265         20.14      1498.0      88.80  Hyderabad  \n",
       "713         16.10       796.0      37.00     Jaipur  \n",
       "82          25.44       936.0      57.60     Jaipur  \n",
       "2918        22.74       796.0      47.30      Kochi  "
      ]
     },
     "execution_count": 23,
     "metadata": {},
     "output_type": "execute_result"
    }
   ],
   "source": [
    "X_train[0:10]"
   ]
  },
  {
   "cell_type": "code",
   "execution_count": 24,
   "metadata": {},
   "outputs": [
    {
     "data": {
      "text/plain": [
       "(619, 11)"
      ]
     },
     "execution_count": 24,
     "metadata": {},
     "output_type": "execute_result"
    }
   ],
   "source": [
    "X_test.shape"
   ]
  },
  {
   "cell_type": "markdown",
   "metadata": {},
   "source": [
    "### Encode Categorical Variables"
   ]
  },
  {
   "cell_type": "code",
   "execution_count": 25,
   "metadata": {},
   "outputs": [],
   "source": [
    "from sklearn.preprocessing import OneHotEncoder"
   ]
  },
  {
   "cell_type": "code",
   "execution_count": 26,
   "metadata": {},
   "outputs": [],
   "source": [
    "ohe_encoder = OneHotEncoder(handle_unknown='ignore')"
   ]
  },
  {
   "cell_type": "code",
   "execution_count": 27,
   "metadata": {},
   "outputs": [
    {
     "data": {
      "text/plain": [
       "OneHotEncoder(handle_unknown='ignore')"
      ]
     },
     "execution_count": 27,
     "metadata": {},
     "output_type": "execute_result"
    }
   ],
   "source": [
    "ohe_encoder.fit(X_train[cat_features])"
   ]
  },
  {
   "cell_type": "code",
   "execution_count": 28,
   "metadata": {},
   "outputs": [
    {
     "data": {
      "text/plain": [
       "[array(['Diesel', 'Petrol'], dtype=object),\n",
       " array(['Automatic', 'Manual'], dtype=object),\n",
       " array(['First', 'Fourth & Above', 'Second', 'Third'], dtype=object),\n",
       " array(['chevrolet', 'datsun', 'fiat', 'ford', 'honda', 'hyundai',\n",
       "        'mahindra', 'maruti', 'mitsubishi', 'nissan', 'renault', 'skoda',\n",
       "        'tata', 'toyota', 'volkswagen'], dtype=object),\n",
       " array(['Ahmedabad', 'Bangalore', 'Chennai', 'Coimbatore', 'Delhi',\n",
       "        'Hyderabad', 'Jaipur', 'Kochi', 'Kolkata', 'Mumbai', 'Pune'],\n",
       "       dtype=object)]"
      ]
     },
     "execution_count": 28,
     "metadata": {},
     "output_type": "execute_result"
    }
   ],
   "source": [
    "ohe_encoder.categories_"
   ]
  },
  {
   "cell_type": "code",
   "execution_count": 29,
   "metadata": {},
   "outputs": [
    {
     "data": {
      "text/plain": [
       "['Fuel_Type_Diesel',\n",
       " 'Fuel_Type_Petrol',\n",
       " 'Transmission_Automatic',\n",
       " 'Transmission_Manual',\n",
       " 'Owner_Type_First',\n",
       " 'Owner_Type_Fourth & Above',\n",
       " 'Owner_Type_Second',\n",
       " 'Owner_Type_Third',\n",
       " 'make_chevrolet',\n",
       " 'make_datsun',\n",
       " 'make_fiat',\n",
       " 'make_ford',\n",
       " 'make_honda',\n",
       " 'make_hyundai',\n",
       " 'make_mahindra',\n",
       " 'make_maruti',\n",
       " 'make_mitsubishi',\n",
       " 'make_nissan',\n",
       " 'make_renault',\n",
       " 'make_skoda',\n",
       " 'make_tata',\n",
       " 'make_toyota',\n",
       " 'make_volkswagen',\n",
       " 'Location_Ahmedabad',\n",
       " 'Location_Bangalore',\n",
       " 'Location_Chennai',\n",
       " 'Location_Coimbatore',\n",
       " 'Location_Delhi',\n",
       " 'Location_Hyderabad',\n",
       " 'Location_Jaipur',\n",
       " 'Location_Kochi',\n",
       " 'Location_Kolkata',\n",
       " 'Location_Mumbai',\n",
       " 'Location_Pune']"
      ]
     },
     "execution_count": 29,
     "metadata": {},
     "output_type": "execute_result"
    }
   ],
   "source": [
    "encoded_cat_names = list(ohe_encoder.get_feature_names(cat_features))\n",
    "encoded_cat_names"
   ]
  },
  {
   "cell_type": "code",
   "execution_count": 30,
   "metadata": {},
   "outputs": [],
   "source": [
    "from sklearn.compose import ColumnTransformer\n",
    "from sklearn.pipeline import Pipeline\n",
    "from sklearn.preprocessing import StandardScaler"
   ]
  },
  {
   "cell_type": "code",
   "execution_count": 31,
   "metadata": {},
   "outputs": [],
   "source": [
    "numeric_transformer = Pipeline(steps=[\n",
    "    ('scaler', StandardScaler())])"
   ]
  },
  {
   "cell_type": "code",
   "execution_count": 32,
   "metadata": {},
   "outputs": [],
   "source": [
    "preprocessor = ColumnTransformer(\n",
    "    transformers=[        \n",
    "        ('cat', ohe_encoder, cat_features)],\n",
    "remainder='passthrough')"
   ]
  },
  {
   "cell_type": "markdown",
   "metadata": {},
   "source": [
    "### Linear Models\n",
    "\n",
    "Assumes linear relationship between features and outcome variable."
   ]
  },
  {
   "cell_type": "code",
   "execution_count": 33,
   "metadata": {},
   "outputs": [
    {
     "data": {
      "image/png": "[encoded data removed]",
      "text/plain": [
       "<Figure size 360x360 with 1 Axes>"
      ]
     },
     "metadata": {
      "needs_background": "light"
     },
     "output_type": "display_data"
    }
   ],
   "source": [
    "sn.lmplot( data = cars_df.sample(100),\n",
    "           x = 'power_new',\n",
    "           y = 'Price');"
   ]
  },
  {
   "cell_type": "code",
   "execution_count": 34,
   "metadata": {},
   "outputs": [],
   "source": [
    "from sklearn.linear_model import LinearRegression"
   ]
  },
  {
   "cell_type": "code",
   "execution_count": 35,
   "metadata": {},
   "outputs": [],
   "source": [
    "lreg_v1 = Pipeline(steps=[('preprocessor', preprocessor),\n",
    "                          ('regressor', LinearRegression())])"
   ]
  },
  {
   "cell_type": "code",
   "execution_count": 36,
   "metadata": {},
   "outputs": [
    {
     "data": {
      "text/plain": [
       "Pipeline(steps=[('preprocessor',\n",
       "                 ColumnTransformer(remainder='passthrough',\n",
       "                                   transformers=[('cat',\n",
       "                                                  OneHotEncoder(handle_unknown='ignore'),\n",
       "                                                  ['Fuel_Type', 'Transmission',\n",
       "                                                   'Owner_Type', 'make',\n",
       "                                                   'Location'])])),\n",
       "                ('regressor', LinearRegression())])"
      ]
     },
     "execution_count": 36,
     "metadata": {},
     "output_type": "execute_result"
    }
   ],
   "source": [
    "lreg_v1.fit(X_train, y_train)"
   ]
  },
  {
   "cell_type": "code",
   "execution_count": 37,
   "metadata": {},
   "outputs": [],
   "source": [
    "final_feature_names = lreg_v1['preprocessor'].get_feature_names()"
   ]
  },
  {
   "cell_type": "markdown",
   "metadata": {},
   "source": [
    "### Understanding model parameters"
   ]
  },
  {
   "cell_type": "code",
   "execution_count": 38,
   "metadata": {},
   "outputs": [
    {
     "data": {
      "text/plain": [
       "1.1401420555276136"
      ]
     },
     "execution_count": 38,
     "metadata": {},
     "output_type": "execute_result"
    }
   ],
   "source": [
    "lreg_v1['regressor'].intercept_"
   ]
  },
  {
   "cell_type": "code",
   "execution_count": 39,
   "metadata": {},
   "outputs": [
    {
     "data": {
      "text/plain": [
       "array([ 4.98688190e-01, -4.98688190e-01,  1.24627161e-01, -1.24627161e-01,\n",
       "        1.49318988e-01, -4.90114061e-01, -7.77504232e-03,  3.48570115e-01,\n",
       "       -6.83143502e-01, -8.76919847e-01, -6.39617940e-01, -2.19120347e-02,\n",
       "       -5.49070755e-03,  2.08279675e-01, -6.69617929e-01,  7.21181490e-01,\n",
       "        1.34235493e+00, -5.32513444e-02,  1.53682094e-01,  7.16399904e-02,\n",
       "       -8.21719401e-01,  1.09746304e+00,  1.77071485e-01, -6.66843929e-02,\n",
       "        4.18189623e-01,  9.05320190e-02,  8.41383561e-01, -4.90271899e-01,\n",
       "        4.45717586e-01, -8.96474779e-02,  2.67309548e-01, -1.07632530e+00,\n",
       "       -2.44021401e-01, -9.61818643e-02, -1.07838943e-02, -3.37985779e-01,\n",
       "        1.78722268e-01, -2.58392528e-02,  1.10238869e-03,  4.87353179e-02])"
      ]
     },
     "execution_count": 39,
     "metadata": {},
     "output_type": "execute_result"
    }
   ],
   "source": [
    "lreg_v1['regressor'].coef_"
   ]
  },
  {
   "cell_type": "code",
   "execution_count": 40,
   "metadata": {},
   "outputs": [
    {
     "data": {
      "text/plain": [
       "{'cat__x0_Diesel': 0.5,\n",
       " 'cat__x0_Petrol': -0.5,\n",
       " 'cat__x1_Automatic': 0.12,\n",
       " 'cat__x1_Manual': -0.12,\n",
       " 'cat__x2_First': 0.15,\n",
       " 'cat__x2_Fourth & Above': -0.49,\n",
       " 'cat__x2_Second': -0.01,\n",
       " 'cat__x2_Third': 0.35,\n",
       " 'cat__x3_chevrolet': -0.68,\n",
       " 'cat__x3_datsun': -0.88,\n",
       " 'cat__x3_fiat': -0.64,\n",
       " 'cat__x3_ford': -0.02,\n",
       " 'cat__x3_honda': -0.01,\n",
       " 'cat__x3_hyundai': 0.21,\n",
       " 'cat__x3_mahindra': -0.67,\n",
       " 'cat__x3_maruti': 0.72,\n",
       " 'cat__x3_mitsubishi': 1.34,\n",
       " 'cat__x3_nissan': -0.05,\n",
       " 'cat__x3_renault': 0.15,\n",
       " 'cat__x3_skoda': 0.07,\n",
       " 'cat__x3_tata': -0.82,\n",
       " 'cat__x3_toyota': 1.1,\n",
       " 'cat__x3_volkswagen': 0.18,\n",
       " 'cat__x4_Ahmedabad': -0.07,\n",
       " 'cat__x4_Bangalore': 0.42,\n",
       " 'cat__x4_Chennai': 0.09,\n",
       " 'cat__x4_Coimbatore': 0.84,\n",
       " 'cat__x4_Delhi': -0.49,\n",
       " 'cat__x4_Hyderabad': 0.45,\n",
       " 'cat__x4_Jaipur': -0.09,\n",
       " 'cat__x4_Kochi': 0.27,\n",
       " 'cat__x4_Kolkata': -1.08,\n",
       " 'cat__x4_Mumbai': -0.24,\n",
       " 'cat__x4_Pune': -0.1,\n",
       " 'KM_Driven': -0.01,\n",
       " 'age': -0.34,\n",
       " 'Seats': 0.18,\n",
       " 'mileage_new': -0.03,\n",
       " 'engine_new': 0.0,\n",
       " 'power_new': 0.05}"
      ]
     },
     "execution_count": 40,
     "metadata": {},
     "output_type": "execute_result"
    }
   ],
   "source": [
    "dict(zip(final_feature_names, np.round(lreg_v1['regressor'].coef_, 2)))"
   ]
  },
  {
   "cell_type": "markdown",
   "metadata": {},
   "source": [
    "### Predict on test set"
   ]
  },
  {
   "cell_type": "code",
   "execution_count": 41,
   "metadata": {},
   "outputs": [],
   "source": [
    "y_pred = lreg_v1.predict(X_test)"
   ]
  },
  {
   "cell_type": "code",
   "execution_count": 42,
   "metadata": {},
   "outputs": [],
   "source": [
    "y_df = pd.DataFrame({\"actual\": y_test,\n",
    "                     \"predicted\": y_pred,\n",
    "                     \"residual\": y_pred - y_test})"
   ]
  },
  {
   "cell_type": "code",
   "execution_count": 43,
   "metadata": {},
   "outputs": [
    {
     "data": {
      "text/html": [
       "<div>\n",
       "<style scoped>\n",
       "    .dataframe tbody tr th:only-of-type {\n",
       "        vertical-align: middle;\n",
       "    }\n",
       "\n",
       "    .dataframe tbody tr th {\n",
       "        vertical-align: top;\n",
       "    }\n",
       "\n",
       "    .dataframe thead th {\n",
       "        text-align: right;\n",
       "    }\n",
       "</style>\n",
       "<table border=\"1\" class=\"dataframe\">\n",
       "  <thead>\n",
       "    <tr style=\"text-align: right;\">\n",
       "      <th></th>\n",
       "      <th>actual</th>\n",
       "      <th>predicted</th>\n",
       "      <th>residual</th>\n",
       "    </tr>\n",
       "  </thead>\n",
       "  <tbody>\n",
       "    <tr>\n",
       "      <th>770</th>\n",
       "      <td>7.23</td>\n",
       "      <td>6.140619</td>\n",
       "      <td>-1.089381</td>\n",
       "    </tr>\n",
       "    <tr>\n",
       "      <th>1540</th>\n",
       "      <td>6.43</td>\n",
       "      <td>5.415039</td>\n",
       "      <td>-1.014961</td>\n",
       "    </tr>\n",
       "    <tr>\n",
       "      <th>2962</th>\n",
       "      <td>6.25</td>\n",
       "      <td>5.942801</td>\n",
       "      <td>-0.307199</td>\n",
       "    </tr>\n",
       "    <tr>\n",
       "      <th>2040</th>\n",
       "      <td>4.69</td>\n",
       "      <td>5.412764</td>\n",
       "      <td>0.722764</td>\n",
       "    </tr>\n",
       "    <tr>\n",
       "      <th>640</th>\n",
       "      <td>2.65</td>\n",
       "      <td>2.718549</td>\n",
       "      <td>0.068549</td>\n",
       "    </tr>\n",
       "    <tr>\n",
       "      <th>81</th>\n",
       "      <td>8.35</td>\n",
       "      <td>6.461743</td>\n",
       "      <td>-1.888257</td>\n",
       "    </tr>\n",
       "    <tr>\n",
       "      <th>2773</th>\n",
       "      <td>6.75</td>\n",
       "      <td>5.823360</td>\n",
       "      <td>-0.926640</td>\n",
       "    </tr>\n",
       "    <tr>\n",
       "      <th>816</th>\n",
       "      <td>3.00</td>\n",
       "      <td>4.077798</td>\n",
       "      <td>1.077798</td>\n",
       "    </tr>\n",
       "    <tr>\n",
       "      <th>305</th>\n",
       "      <td>1.96</td>\n",
       "      <td>1.310980</td>\n",
       "      <td>-0.649020</td>\n",
       "    </tr>\n",
       "    <tr>\n",
       "      <th>2907</th>\n",
       "      <td>4.00</td>\n",
       "      <td>4.425299</td>\n",
       "      <td>0.425299</td>\n",
       "    </tr>\n",
       "  </tbody>\n",
       "</table>\n",
       "</div>"
      ],
      "text/plain": [
       "      actual  predicted  residual\n",
       "770     7.23   6.140619 -1.089381\n",
       "1540    6.43   5.415039 -1.014961\n",
       "2962    6.25   5.942801 -0.307199\n",
       "2040    4.69   5.412764  0.722764\n",
       "640     2.65   2.718549  0.068549\n",
       "81      8.35   6.461743 -1.888257\n",
       "2773    6.75   5.823360 -0.926640\n",
       "816     3.00   4.077798  1.077798\n",
       "305     1.96   1.310980 -0.649020\n",
       "2907    4.00   4.425299  0.425299"
      ]
     },
     "execution_count": 43,
     "metadata": {},
     "output_type": "execute_result"
    }
   ],
   "source": [
    "y_df.sample(10, random_state = 100)"
   ]
  },
  {
   "cell_type": "markdown",
   "metadata": {},
   "source": [
    "### Measuring Accuracy"
   ]
  },
  {
   "cell_type": "code",
   "execution_count": 44,
   "metadata": {},
   "outputs": [],
   "source": [
    "from sklearn.metrics import mean_squared_error, r2_score"
   ]
  },
  {
   "cell_type": "code",
   "execution_count": 45,
   "metadata": {},
   "outputs": [],
   "source": [
    "mse_v1 = mean_squared_error(y_test, y_pred)"
   ]
  },
  {
   "cell_type": "code",
   "execution_count": 46,
   "metadata": {},
   "outputs": [
    {
     "data": {
      "text/plain": [
       "0.9756488695977443"
      ]
     },
     "execution_count": 46,
     "metadata": {},
     "output_type": "execute_result"
    }
   ],
   "source": [
    "mse_v1"
   ]
  },
  {
   "cell_type": "code",
   "execution_count": 47,
   "metadata": {},
   "outputs": [],
   "source": [
    "rmse_v1 = np.sqrt(mse_v1)"
   ]
  },
  {
   "cell_type": "code",
   "execution_count": 48,
   "metadata": {},
   "outputs": [
    {
     "data": {
      "text/plain": [
       "0.9877493961515463"
      ]
     },
     "execution_count": 48,
     "metadata": {},
     "output_type": "execute_result"
    }
   ],
   "source": [
    "rmse_v1"
   ]
  },
  {
   "cell_type": "code",
   "execution_count": 49,
   "metadata": {},
   "outputs": [
    {
     "data": {
      "text/plain": [
       "0.7855630825732653"
      ]
     },
     "execution_count": 49,
     "metadata": {},
     "output_type": "execute_result"
    }
   ],
   "source": [
    "r2_score(y_test, y_pred)"
   ]
  },
  {
   "cell_type": "markdown",
   "metadata": {},
   "source": [
    "### What are the reasons for the remaining error\n",
    "\n",
    "1. More factors \n",
    "2. More samples \n",
    "3. Complex Models : Try other models\n",
    "4. Feature Engineering - Derive new features (factors) from existing features (factors)\n",
    "5. Noise (randomness)\n",
    "   "
   ]
  },
  {
   "cell_type": "markdown",
   "metadata": {},
   "source": [
    "### Error Analysis"
   ]
  },
  {
   "cell_type": "code",
   "execution_count": 50,
   "metadata": {},
   "outputs": [
    {
     "data": {
      "image/png": "[encoded data removed]",
      "text/plain": [
       "<Figure size 432x288 with 1 Axes>"
      ]
     },
     "metadata": {
      "needs_background": "light"
     },
     "output_type": "display_data"
    }
   ],
   "source": [
    "y_df.residual.hist();"
   ]
  },
  {
   "cell_type": "code",
   "execution_count": 51,
   "metadata": {},
   "outputs": [
    {
     "data": {
      "text/html": [
       "<div>\n",
       "<style scoped>\n",
       "    .dataframe tbody tr th:only-of-type {\n",
       "        vertical-align: middle;\n",
       "    }\n",
       "\n",
       "    .dataframe tbody tr th {\n",
       "        vertical-align: top;\n",
       "    }\n",
       "\n",
       "    .dataframe thead th {\n",
       "        text-align: right;\n",
       "    }\n",
       "</style>\n",
       "<table border=\"1\" class=\"dataframe\">\n",
       "  <thead>\n",
       "    <tr style=\"text-align: right;\">\n",
       "      <th></th>\n",
       "      <th>actual</th>\n",
       "      <th>predicted</th>\n",
       "      <th>residual</th>\n",
       "    </tr>\n",
       "  </thead>\n",
       "  <tbody>\n",
       "    <tr>\n",
       "      <th>1324</th>\n",
       "      <td>5.91</td>\n",
       "      <td>5.821262</td>\n",
       "      <td>-0.088738</td>\n",
       "    </tr>\n",
       "    <tr>\n",
       "      <th>328</th>\n",
       "      <td>3.95</td>\n",
       "      <td>5.778714</td>\n",
       "      <td>1.828714</td>\n",
       "    </tr>\n",
       "    <tr>\n",
       "      <th>1361</th>\n",
       "      <td>10.34</td>\n",
       "      <td>8.235092</td>\n",
       "      <td>-2.104908</td>\n",
       "    </tr>\n",
       "    <tr>\n",
       "      <th>1657</th>\n",
       "      <td>1.20</td>\n",
       "      <td>1.679362</td>\n",
       "      <td>0.479362</td>\n",
       "    </tr>\n",
       "    <tr>\n",
       "      <th>1786</th>\n",
       "      <td>1.55</td>\n",
       "      <td>1.881246</td>\n",
       "      <td>0.331246</td>\n",
       "    </tr>\n",
       "    <tr>\n",
       "      <th>...</th>\n",
       "      <td>...</td>\n",
       "      <td>...</td>\n",
       "      <td>...</td>\n",
       "    </tr>\n",
       "    <tr>\n",
       "      <th>112</th>\n",
       "      <td>2.65</td>\n",
       "      <td>1.985685</td>\n",
       "      <td>-0.664315</td>\n",
       "    </tr>\n",
       "    <tr>\n",
       "      <th>2893</th>\n",
       "      <td>5.65</td>\n",
       "      <td>5.972072</td>\n",
       "      <td>0.322072</td>\n",
       "    </tr>\n",
       "    <tr>\n",
       "      <th>2093</th>\n",
       "      <td>2.25</td>\n",
       "      <td>2.660128</td>\n",
       "      <td>0.410128</td>\n",
       "    </tr>\n",
       "    <tr>\n",
       "      <th>2038</th>\n",
       "      <td>6.10</td>\n",
       "      <td>7.260181</td>\n",
       "      <td>1.160181</td>\n",
       "    </tr>\n",
       "    <tr>\n",
       "      <th>474</th>\n",
       "      <td>3.30</td>\n",
       "      <td>3.147852</td>\n",
       "      <td>-0.152148</td>\n",
       "    </tr>\n",
       "  </tbody>\n",
       "</table>\n",
       "<p>619 rows × 3 columns</p>\n",
       "</div>"
      ],
      "text/plain": [
       "      actual  predicted  residual\n",
       "1324    5.91   5.821262 -0.088738\n",
       "328     3.95   5.778714  1.828714\n",
       "1361   10.34   8.235092 -2.104908\n",
       "1657    1.20   1.679362  0.479362\n",
       "1786    1.55   1.881246  0.331246\n",
       "...      ...        ...       ...\n",
       "112     2.65   1.985685 -0.664315\n",
       "2893    5.65   5.972072  0.322072\n",
       "2093    2.25   2.660128  0.410128\n",
       "2038    6.10   7.260181  1.160181\n",
       "474     3.30   3.147852 -0.152148\n",
       "\n",
       "[619 rows x 3 columns]"
      ]
     },
     "execution_count": 51,
     "metadata": {},
     "output_type": "execute_result"
    }
   ],
   "source": [
    "y_df"
   ]
  },
  {
   "cell_type": "code",
   "execution_count": 52,
   "metadata": {},
   "outputs": [],
   "source": [
    "test_cars_df = y_df.join(X_test)"
   ]
  },
  {
   "cell_type": "code",
   "execution_count": 53,
   "metadata": {},
   "outputs": [
    {
     "data": {
      "text/html": [
       "<div>\n",
       "<style scoped>\n",
       "    .dataframe tbody tr th:only-of-type {\n",
       "        vertical-align: middle;\n",
       "    }\n",
       "\n",
       "    .dataframe tbody tr th {\n",
       "        vertical-align: top;\n",
       "    }\n",
       "\n",
       "    .dataframe thead th {\n",
       "        text-align: right;\n",
       "    }\n",
       "</style>\n",
       "<table border=\"1\" class=\"dataframe\">\n",
       "  <thead>\n",
       "    <tr style=\"text-align: right;\">\n",
       "      <th></th>\n",
       "      <th>actual</th>\n",
       "      <th>predicted</th>\n",
       "      <th>residual</th>\n",
       "      <th>KM_Driven</th>\n",
       "      <th>Fuel_Type</th>\n",
       "      <th>age</th>\n",
       "      <th>Transmission</th>\n",
       "      <th>Owner_Type</th>\n",
       "      <th>Seats</th>\n",
       "      <th>make</th>\n",
       "      <th>mileage_new</th>\n",
       "      <th>engine_new</th>\n",
       "      <th>power_new</th>\n",
       "      <th>Location</th>\n",
       "    </tr>\n",
       "  </thead>\n",
       "  <tbody>\n",
       "    <tr>\n",
       "      <th>1595</th>\n",
       "      <td>1.85</td>\n",
       "      <td>5.079117</td>\n",
       "      <td>3.229117</td>\n",
       "      <td>91</td>\n",
       "      <td>Diesel</td>\n",
       "      <td>9</td>\n",
       "      <td>Manual</td>\n",
       "      <td>First</td>\n",
       "      <td>7.0</td>\n",
       "      <td>mahindra</td>\n",
       "      <td>14.95</td>\n",
       "      <td>2489.0</td>\n",
       "      <td>93.70</td>\n",
       "      <td>Ahmedabad</td>\n",
       "    </tr>\n",
       "    <tr>\n",
       "      <th>2687</th>\n",
       "      <td>1.60</td>\n",
       "      <td>4.533446</td>\n",
       "      <td>2.933446</td>\n",
       "      <td>49</td>\n",
       "      <td>Diesel</td>\n",
       "      <td>2</td>\n",
       "      <td>Manual</td>\n",
       "      <td>Second</td>\n",
       "      <td>5.0</td>\n",
       "      <td>tata</td>\n",
       "      <td>25.00</td>\n",
       "      <td>1396.0</td>\n",
       "      <td>69.00</td>\n",
       "      <td>Pune</td>\n",
       "    </tr>\n",
       "    <tr>\n",
       "      <th>2280</th>\n",
       "      <td>1.80</td>\n",
       "      <td>4.560153</td>\n",
       "      <td>2.760153</td>\n",
       "      <td>80</td>\n",
       "      <td>Diesel</td>\n",
       "      <td>3</td>\n",
       "      <td>Manual</td>\n",
       "      <td>First</td>\n",
       "      <td>5.0</td>\n",
       "      <td>tata</td>\n",
       "      <td>25.00</td>\n",
       "      <td>1396.0</td>\n",
       "      <td>69.00</td>\n",
       "      <td>Hyderabad</td>\n",
       "    </tr>\n",
       "    <tr>\n",
       "      <th>367</th>\n",
       "      <td>2.20</td>\n",
       "      <td>4.635640</td>\n",
       "      <td>2.435640</td>\n",
       "      <td>73</td>\n",
       "      <td>Diesel</td>\n",
       "      <td>3</td>\n",
       "      <td>Manual</td>\n",
       "      <td>First</td>\n",
       "      <td>5.0</td>\n",
       "      <td>tata</td>\n",
       "      <td>25.00</td>\n",
       "      <td>1396.0</td>\n",
       "      <td>69.00</td>\n",
       "      <td>Hyderabad</td>\n",
       "    </tr>\n",
       "    <tr>\n",
       "      <th>524</th>\n",
       "      <td>4.55</td>\n",
       "      <td>6.932150</td>\n",
       "      <td>2.382150</td>\n",
       "      <td>95</td>\n",
       "      <td>Diesel</td>\n",
       "      <td>2</td>\n",
       "      <td>Manual</td>\n",
       "      <td>Second</td>\n",
       "      <td>5.0</td>\n",
       "      <td>ford</td>\n",
       "      <td>25.83</td>\n",
       "      <td>1498.0</td>\n",
       "      <td>99.00</td>\n",
       "      <td>Hyderabad</td>\n",
       "    </tr>\n",
       "    <tr>\n",
       "      <th>630</th>\n",
       "      <td>2.95</td>\n",
       "      <td>5.247569</td>\n",
       "      <td>2.297569</td>\n",
       "      <td>90</td>\n",
       "      <td>Petrol</td>\n",
       "      <td>4</td>\n",
       "      <td>Manual</td>\n",
       "      <td>First</td>\n",
       "      <td>7.0</td>\n",
       "      <td>maruti</td>\n",
       "      <td>15.10</td>\n",
       "      <td>1196.0</td>\n",
       "      <td>73.00</td>\n",
       "      <td>Hyderabad</td>\n",
       "    </tr>\n",
       "    <tr>\n",
       "      <th>1522</th>\n",
       "      <td>3.65</td>\n",
       "      <td>5.916576</td>\n",
       "      <td>2.266576</td>\n",
       "      <td>12</td>\n",
       "      <td>Petrol</td>\n",
       "      <td>3</td>\n",
       "      <td>Manual</td>\n",
       "      <td>First</td>\n",
       "      <td>5.0</td>\n",
       "      <td>maruti</td>\n",
       "      <td>18.50</td>\n",
       "      <td>1197.0</td>\n",
       "      <td>85.80</td>\n",
       "      <td>Mumbai</td>\n",
       "    </tr>\n",
       "    <tr>\n",
       "      <th>2150</th>\n",
       "      <td>4.44</td>\n",
       "      <td>6.695067</td>\n",
       "      <td>2.255067</td>\n",
       "      <td>22</td>\n",
       "      <td>Petrol</td>\n",
       "      <td>2</td>\n",
       "      <td>Manual</td>\n",
       "      <td>First</td>\n",
       "      <td>5.0</td>\n",
       "      <td>maruti</td>\n",
       "      <td>15.10</td>\n",
       "      <td>1196.0</td>\n",
       "      <td>73.00</td>\n",
       "      <td>Coimbatore</td>\n",
       "    </tr>\n",
       "    <tr>\n",
       "      <th>3087</th>\n",
       "      <td>4.83</td>\n",
       "      <td>7.076238</td>\n",
       "      <td>2.246238</td>\n",
       "      <td>70</td>\n",
       "      <td>Diesel</td>\n",
       "      <td>4</td>\n",
       "      <td>Manual</td>\n",
       "      <td>First</td>\n",
       "      <td>5.0</td>\n",
       "      <td>honda</td>\n",
       "      <td>25.80</td>\n",
       "      <td>1498.0</td>\n",
       "      <td>98.60</td>\n",
       "      <td>Coimbatore</td>\n",
       "    </tr>\n",
       "    <tr>\n",
       "      <th>1878</th>\n",
       "      <td>4.30</td>\n",
       "      <td>6.498848</td>\n",
       "      <td>2.198848</td>\n",
       "      <td>42</td>\n",
       "      <td>Petrol</td>\n",
       "      <td>3</td>\n",
       "      <td>Manual</td>\n",
       "      <td>First</td>\n",
       "      <td>7.0</td>\n",
       "      <td>maruti</td>\n",
       "      <td>15.10</td>\n",
       "      <td>1196.0</td>\n",
       "      <td>73.00</td>\n",
       "      <td>Coimbatore</td>\n",
       "    </tr>\n",
       "    <tr>\n",
       "      <th>687</th>\n",
       "      <td>3.20</td>\n",
       "      <td>5.377382</td>\n",
       "      <td>2.177382</td>\n",
       "      <td>62</td>\n",
       "      <td>Petrol</td>\n",
       "      <td>3</td>\n",
       "      <td>Manual</td>\n",
       "      <td>First</td>\n",
       "      <td>5.0</td>\n",
       "      <td>maruti</td>\n",
       "      <td>18.50</td>\n",
       "      <td>1197.0</td>\n",
       "      <td>85.80</td>\n",
       "      <td>Mumbai</td>\n",
       "    </tr>\n",
       "    <tr>\n",
       "      <th>1902</th>\n",
       "      <td>3.00</td>\n",
       "      <td>5.174113</td>\n",
       "      <td>2.174113</td>\n",
       "      <td>60</td>\n",
       "      <td>Diesel</td>\n",
       "      <td>2</td>\n",
       "      <td>Manual</td>\n",
       "      <td>First</td>\n",
       "      <td>5.0</td>\n",
       "      <td>maruti</td>\n",
       "      <td>26.59</td>\n",
       "      <td>1248.0</td>\n",
       "      <td>74.00</td>\n",
       "      <td>Kolkata</td>\n",
       "    </tr>\n",
       "    <tr>\n",
       "      <th>1465</th>\n",
       "      <td>3.37</td>\n",
       "      <td>5.500416</td>\n",
       "      <td>2.130416</td>\n",
       "      <td>68</td>\n",
       "      <td>Diesel</td>\n",
       "      <td>8</td>\n",
       "      <td>Manual</td>\n",
       "      <td>First</td>\n",
       "      <td>5.0</td>\n",
       "      <td>hyundai</td>\n",
       "      <td>23.00</td>\n",
       "      <td>1396.0</td>\n",
       "      <td>90.00</td>\n",
       "      <td>Coimbatore</td>\n",
       "    </tr>\n",
       "    <tr>\n",
       "      <th>309</th>\n",
       "      <td>3.27</td>\n",
       "      <td>5.351943</td>\n",
       "      <td>2.081943</td>\n",
       "      <td>65</td>\n",
       "      <td>Diesel</td>\n",
       "      <td>4</td>\n",
       "      <td>Manual</td>\n",
       "      <td>Second</td>\n",
       "      <td>5.0</td>\n",
       "      <td>maruti</td>\n",
       "      <td>23.20</td>\n",
       "      <td>1248.0</td>\n",
       "      <td>73.94</td>\n",
       "      <td>Pune</td>\n",
       "    </tr>\n",
       "  </tbody>\n",
       "</table>\n",
       "</div>"
      ],
      "text/plain": [
       "      actual  predicted  residual  KM_Driven Fuel_Type  age Transmission  \\\n",
       "1595    1.85   5.079117  3.229117         91    Diesel    9       Manual   \n",
       "2687    1.60   4.533446  2.933446         49    Diesel    2       Manual   \n",
       "2280    1.80   4.560153  2.760153         80    Diesel    3       Manual   \n",
       "367     2.20   4.635640  2.435640         73    Diesel    3       Manual   \n",
       "524     4.55   6.932150  2.382150         95    Diesel    2       Manual   \n",
       "630     2.95   5.247569  2.297569         90    Petrol    4       Manual   \n",
       "1522    3.65   5.916576  2.266576         12    Petrol    3       Manual   \n",
       "2150    4.44   6.695067  2.255067         22    Petrol    2       Manual   \n",
       "3087    4.83   7.076238  2.246238         70    Diesel    4       Manual   \n",
       "1878    4.30   6.498848  2.198848         42    Petrol    3       Manual   \n",
       "687     3.20   5.377382  2.177382         62    Petrol    3       Manual   \n",
       "1902    3.00   5.174113  2.174113         60    Diesel    2       Manual   \n",
       "1465    3.37   5.500416  2.130416         68    Diesel    8       Manual   \n",
       "309     3.27   5.351943  2.081943         65    Diesel    4       Manual   \n",
       "\n",
       "     Owner_Type  Seats      make  mileage_new  engine_new  power_new  \\\n",
       "1595      First    7.0  mahindra        14.95      2489.0      93.70   \n",
       "2687     Second    5.0      tata        25.00      1396.0      69.00   \n",
       "2280      First    5.0      tata        25.00      1396.0      69.00   \n",
       "367       First    5.0      tata        25.00      1396.0      69.00   \n",
       "524      Second    5.0      ford        25.83      1498.0      99.00   \n",
       "630       First    7.0    maruti        15.10      1196.0      73.00   \n",
       "1522      First    5.0    maruti        18.50      1197.0      85.80   \n",
       "2150      First    5.0    maruti        15.10      1196.0      73.00   \n",
       "3087      First    5.0     honda        25.80      1498.0      98.60   \n",
       "1878      First    7.0    maruti        15.10      1196.0      73.00   \n",
       "687       First    5.0    maruti        18.50      1197.0      85.80   \n",
       "1902      First    5.0    maruti        26.59      1248.0      74.00   \n",
       "1465      First    5.0   hyundai        23.00      1396.0      90.00   \n",
       "309      Second    5.0    maruti        23.20      1248.0      73.94   \n",
       "\n",
       "        Location  \n",
       "1595   Ahmedabad  \n",
       "2687        Pune  \n",
       "2280   Hyderabad  \n",
       "367    Hyderabad  \n",
       "524    Hyderabad  \n",
       "630    Hyderabad  \n",
       "1522      Mumbai  \n",
       "2150  Coimbatore  \n",
       "3087  Coimbatore  \n",
       "1878  Coimbatore  \n",
       "687       Mumbai  \n",
       "1902     Kolkata  \n",
       "1465  Coimbatore  \n",
       "309         Pune  "
      ]
     },
     "execution_count": 53,
     "metadata": {},
     "output_type": "execute_result"
    }
   ],
   "source": [
    "test_cars_df[test_cars_df.residual > 2.0].sort_values('residual', ascending = False)"
   ]
  },
  {
   "cell_type": "code",
   "execution_count": 54,
   "metadata": {},
   "outputs": [
    {
     "data": {
      "text/html": [
       "<div>\n",
       "<style scoped>\n",
       "    .dataframe tbody tr th:only-of-type {\n",
       "        vertical-align: middle;\n",
       "    }\n",
       "\n",
       "    .dataframe tbody tr th {\n",
       "        vertical-align: top;\n",
       "    }\n",
       "\n",
       "    .dataframe thead th {\n",
       "        text-align: right;\n",
       "    }\n",
       "</style>\n",
       "<table border=\"1\" class=\"dataframe\">\n",
       "  <thead>\n",
       "    <tr style=\"text-align: right;\">\n",
       "      <th></th>\n",
       "      <th>actual</th>\n",
       "      <th>predicted</th>\n",
       "      <th>residual</th>\n",
       "      <th>KM_Driven</th>\n",
       "      <th>Fuel_Type</th>\n",
       "      <th>age</th>\n",
       "      <th>Transmission</th>\n",
       "      <th>Owner_Type</th>\n",
       "      <th>Seats</th>\n",
       "      <th>make</th>\n",
       "      <th>mileage_new</th>\n",
       "      <th>engine_new</th>\n",
       "      <th>power_new</th>\n",
       "      <th>Location</th>\n",
       "    </tr>\n",
       "  </thead>\n",
       "  <tbody>\n",
       "    <tr>\n",
       "      <th>551</th>\n",
       "      <td>9.23</td>\n",
       "      <td>7.229253</td>\n",
       "      <td>-2.000747</td>\n",
       "      <td>72</td>\n",
       "      <td>Diesel</td>\n",
       "      <td>5</td>\n",
       "      <td>Manual</td>\n",
       "      <td>First</td>\n",
       "      <td>5.0</td>\n",
       "      <td>toyota</td>\n",
       "      <td>21.43</td>\n",
       "      <td>1364.0</td>\n",
       "      <td>87.20</td>\n",
       "      <td>Coimbatore</td>\n",
       "    </tr>\n",
       "    <tr>\n",
       "      <th>1376</th>\n",
       "      <td>9.51</td>\n",
       "      <td>7.473816</td>\n",
       "      <td>-2.036184</td>\n",
       "      <td>13</td>\n",
       "      <td>Petrol</td>\n",
       "      <td>0</td>\n",
       "      <td>Automatic</td>\n",
       "      <td>First</td>\n",
       "      <td>5.0</td>\n",
       "      <td>maruti</td>\n",
       "      <td>21.40</td>\n",
       "      <td>1197.0</td>\n",
       "      <td>83.10</td>\n",
       "      <td>Kochi</td>\n",
       "    </tr>\n",
       "    <tr>\n",
       "      <th>2281</th>\n",
       "      <td>0.99</td>\n",
       "      <td>-1.055105</td>\n",
       "      <td>-2.045105</td>\n",
       "      <td>42</td>\n",
       "      <td>Petrol</td>\n",
       "      <td>12</td>\n",
       "      <td>Manual</td>\n",
       "      <td>First</td>\n",
       "      <td>5.0</td>\n",
       "      <td>chevrolet</td>\n",
       "      <td>18.00</td>\n",
       "      <td>995.0</td>\n",
       "      <td>62.00</td>\n",
       "      <td>Kolkata</td>\n",
       "    </tr>\n",
       "    <tr>\n",
       "      <th>1361</th>\n",
       "      <td>10.34</td>\n",
       "      <td>8.235092</td>\n",
       "      <td>-2.104908</td>\n",
       "      <td>25</td>\n",
       "      <td>Diesel</td>\n",
       "      <td>2</td>\n",
       "      <td>Manual</td>\n",
       "      <td>First</td>\n",
       "      <td>5.0</td>\n",
       "      <td>maruti</td>\n",
       "      <td>24.30</td>\n",
       "      <td>1248.0</td>\n",
       "      <td>88.50</td>\n",
       "      <td>Coimbatore</td>\n",
       "    </tr>\n",
       "    <tr>\n",
       "      <th>203</th>\n",
       "      <td>9.89</td>\n",
       "      <td>7.720688</td>\n",
       "      <td>-2.169312</td>\n",
       "      <td>12</td>\n",
       "      <td>Petrol</td>\n",
       "      <td>1</td>\n",
       "      <td>Automatic</td>\n",
       "      <td>First</td>\n",
       "      <td>5.0</td>\n",
       "      <td>maruti</td>\n",
       "      <td>21.40</td>\n",
       "      <td>1197.0</td>\n",
       "      <td>83.10</td>\n",
       "      <td>Coimbatore</td>\n",
       "    </tr>\n",
       "    <tr>\n",
       "      <th>1969</th>\n",
       "      <td>11.00</td>\n",
       "      <td>8.540727</td>\n",
       "      <td>-2.459273</td>\n",
       "      <td>28</td>\n",
       "      <td>Diesel</td>\n",
       "      <td>1</td>\n",
       "      <td>Manual</td>\n",
       "      <td>First</td>\n",
       "      <td>5.0</td>\n",
       "      <td>maruti</td>\n",
       "      <td>24.30</td>\n",
       "      <td>1248.0</td>\n",
       "      <td>88.50</td>\n",
       "      <td>Coimbatore</td>\n",
       "    </tr>\n",
       "    <tr>\n",
       "      <th>2632</th>\n",
       "      <td>0.70</td>\n",
       "      <td>-1.786311</td>\n",
       "      <td>-2.486311</td>\n",
       "      <td>90</td>\n",
       "      <td>Petrol</td>\n",
       "      <td>19</td>\n",
       "      <td>Manual</td>\n",
       "      <td>Second</td>\n",
       "      <td>5.0</td>\n",
       "      <td>maruti</td>\n",
       "      <td>17.30</td>\n",
       "      <td>993.0</td>\n",
       "      <td>60.00</td>\n",
       "      <td>Jaipur</td>\n",
       "    </tr>\n",
       "    <tr>\n",
       "      <th>973</th>\n",
       "      <td>9.96</td>\n",
       "      <td>7.466223</td>\n",
       "      <td>-2.493777</td>\n",
       "      <td>15</td>\n",
       "      <td>Petrol</td>\n",
       "      <td>1</td>\n",
       "      <td>Manual</td>\n",
       "      <td>First</td>\n",
       "      <td>5.0</td>\n",
       "      <td>maruti</td>\n",
       "      <td>20.73</td>\n",
       "      <td>1373.0</td>\n",
       "      <td>91.10</td>\n",
       "      <td>Kochi</td>\n",
       "    </tr>\n",
       "    <tr>\n",
       "      <th>2952</th>\n",
       "      <td>9.75</td>\n",
       "      <td>7.196717</td>\n",
       "      <td>-2.553283</td>\n",
       "      <td>53</td>\n",
       "      <td>Diesel</td>\n",
       "      <td>3</td>\n",
       "      <td>Manual</td>\n",
       "      <td>First</td>\n",
       "      <td>5.0</td>\n",
       "      <td>honda</td>\n",
       "      <td>26.00</td>\n",
       "      <td>1498.0</td>\n",
       "      <td>98.60</td>\n",
       "      <td>Hyderabad</td>\n",
       "    </tr>\n",
       "    <tr>\n",
       "      <th>304</th>\n",
       "      <td>9.75</td>\n",
       "      <td>7.087508</td>\n",
       "      <td>-2.662492</td>\n",
       "      <td>36</td>\n",
       "      <td>Diesel</td>\n",
       "      <td>2</td>\n",
       "      <td>Manual</td>\n",
       "      <td>First</td>\n",
       "      <td>5.0</td>\n",
       "      <td>maruti</td>\n",
       "      <td>28.09</td>\n",
       "      <td>1248.0</td>\n",
       "      <td>88.50</td>\n",
       "      <td>Jaipur</td>\n",
       "    </tr>\n",
       "    <tr>\n",
       "      <th>606</th>\n",
       "      <td>0.77</td>\n",
       "      <td>-1.908619</td>\n",
       "      <td>-2.678619</td>\n",
       "      <td>70</td>\n",
       "      <td>Petrol</td>\n",
       "      <td>20</td>\n",
       "      <td>Manual</td>\n",
       "      <td>Second</td>\n",
       "      <td>5.0</td>\n",
       "      <td>maruti</td>\n",
       "      <td>17.30</td>\n",
       "      <td>993.0</td>\n",
       "      <td>60.00</td>\n",
       "      <td>Jaipur</td>\n",
       "    </tr>\n",
       "    <tr>\n",
       "      <th>643</th>\n",
       "      <td>9.20</td>\n",
       "      <td>6.478185</td>\n",
       "      <td>-2.721815</td>\n",
       "      <td>32</td>\n",
       "      <td>Petrol</td>\n",
       "      <td>2</td>\n",
       "      <td>Automatic</td>\n",
       "      <td>First</td>\n",
       "      <td>5.0</td>\n",
       "      <td>maruti</td>\n",
       "      <td>19.12</td>\n",
       "      <td>1373.0</td>\n",
       "      <td>91.10</td>\n",
       "      <td>Delhi</td>\n",
       "    </tr>\n",
       "    <tr>\n",
       "      <th>898</th>\n",
       "      <td>9.29</td>\n",
       "      <td>6.514231</td>\n",
       "      <td>-2.775769</td>\n",
       "      <td>15</td>\n",
       "      <td>Petrol</td>\n",
       "      <td>1</td>\n",
       "      <td>Manual</td>\n",
       "      <td>First</td>\n",
       "      <td>5.0</td>\n",
       "      <td>honda</td>\n",
       "      <td>17.50</td>\n",
       "      <td>1199.0</td>\n",
       "      <td>88.70</td>\n",
       "      <td>Kochi</td>\n",
       "    </tr>\n",
       "    <tr>\n",
       "      <th>725</th>\n",
       "      <td>8.91</td>\n",
       "      <td>6.047606</td>\n",
       "      <td>-2.862394</td>\n",
       "      <td>13</td>\n",
       "      <td>Petrol</td>\n",
       "      <td>2</td>\n",
       "      <td>Manual</td>\n",
       "      <td>First</td>\n",
       "      <td>5.0</td>\n",
       "      <td>hyundai</td>\n",
       "      <td>18.60</td>\n",
       "      <td>1197.0</td>\n",
       "      <td>81.86</td>\n",
       "      <td>Kochi</td>\n",
       "    </tr>\n",
       "    <tr>\n",
       "      <th>311</th>\n",
       "      <td>11.31</td>\n",
       "      <td>8.310580</td>\n",
       "      <td>-2.999420</td>\n",
       "      <td>18</td>\n",
       "      <td>Diesel</td>\n",
       "      <td>2</td>\n",
       "      <td>Manual</td>\n",
       "      <td>First</td>\n",
       "      <td>5.0</td>\n",
       "      <td>maruti</td>\n",
       "      <td>24.30</td>\n",
       "      <td>1248.0</td>\n",
       "      <td>88.50</td>\n",
       "      <td>Coimbatore</td>\n",
       "    </tr>\n",
       "    <tr>\n",
       "      <th>1914</th>\n",
       "      <td>11.39</td>\n",
       "      <td>8.224309</td>\n",
       "      <td>-3.165691</td>\n",
       "      <td>26</td>\n",
       "      <td>Diesel</td>\n",
       "      <td>2</td>\n",
       "      <td>Manual</td>\n",
       "      <td>First</td>\n",
       "      <td>5.0</td>\n",
       "      <td>maruti</td>\n",
       "      <td>24.30</td>\n",
       "      <td>1248.0</td>\n",
       "      <td>88.50</td>\n",
       "      <td>Coimbatore</td>\n",
       "    </tr>\n",
       "    <tr>\n",
       "      <th>261</th>\n",
       "      <td>9.50</td>\n",
       "      <td>6.294978</td>\n",
       "      <td>-3.205022</td>\n",
       "      <td>41</td>\n",
       "      <td>Diesel</td>\n",
       "      <td>3</td>\n",
       "      <td>Manual</td>\n",
       "      <td>First</td>\n",
       "      <td>5.0</td>\n",
       "      <td>maruti</td>\n",
       "      <td>28.09</td>\n",
       "      <td>1248.0</td>\n",
       "      <td>88.50</td>\n",
       "      <td>Delhi</td>\n",
       "    </tr>\n",
       "    <tr>\n",
       "      <th>2673</th>\n",
       "      <td>12.50</td>\n",
       "      <td>9.199516</td>\n",
       "      <td>-3.300484</td>\n",
       "      <td>77</td>\n",
       "      <td>Diesel</td>\n",
       "      <td>4</td>\n",
       "      <td>Manual</td>\n",
       "      <td>First</td>\n",
       "      <td>8.0</td>\n",
       "      <td>toyota</td>\n",
       "      <td>12.99</td>\n",
       "      <td>2494.0</td>\n",
       "      <td>100.00</td>\n",
       "      <td>Pune</td>\n",
       "    </tr>\n",
       "    <tr>\n",
       "      <th>1069</th>\n",
       "      <td>6.00</td>\n",
       "      <td>2.666777</td>\n",
       "      <td>-3.333223</td>\n",
       "      <td>1</td>\n",
       "      <td>Petrol</td>\n",
       "      <td>12</td>\n",
       "      <td>Manual</td>\n",
       "      <td>First</td>\n",
       "      <td>5.0</td>\n",
       "      <td>ford</td>\n",
       "      <td>19.00</td>\n",
       "      <td>1194.0</td>\n",
       "      <td>94.68</td>\n",
       "      <td>Mumbai</td>\n",
       "    </tr>\n",
       "  </tbody>\n",
       "</table>\n",
       "</div>"
      ],
      "text/plain": [
       "      actual  predicted  residual  KM_Driven Fuel_Type  age Transmission  \\\n",
       "551     9.23   7.229253 -2.000747         72    Diesel    5       Manual   \n",
       "1376    9.51   7.473816 -2.036184         13    Petrol    0    Automatic   \n",
       "2281    0.99  -1.055105 -2.045105         42    Petrol   12       Manual   \n",
       "1361   10.34   8.235092 -2.104908         25    Diesel    2       Manual   \n",
       "203     9.89   7.720688 -2.169312         12    Petrol    1    Automatic   \n",
       "1969   11.00   8.540727 -2.459273         28    Diesel    1       Manual   \n",
       "2632    0.70  -1.786311 -2.486311         90    Petrol   19       Manual   \n",
       "973     9.96   7.466223 -2.493777         15    Petrol    1       Manual   \n",
       "2952    9.75   7.196717 -2.553283         53    Diesel    3       Manual   \n",
       "304     9.75   7.087508 -2.662492         36    Diesel    2       Manual   \n",
       "606     0.77  -1.908619 -2.678619         70    Petrol   20       Manual   \n",
       "643     9.20   6.478185 -2.721815         32    Petrol    2    Automatic   \n",
       "898     9.29   6.514231 -2.775769         15    Petrol    1       Manual   \n",
       "725     8.91   6.047606 -2.862394         13    Petrol    2       Manual   \n",
       "311    11.31   8.310580 -2.999420         18    Diesel    2       Manual   \n",
       "1914   11.39   8.224309 -3.165691         26    Diesel    2       Manual   \n",
       "261     9.50   6.294978 -3.205022         41    Diesel    3       Manual   \n",
       "2673   12.50   9.199516 -3.300484         77    Diesel    4       Manual   \n",
       "1069    6.00   2.666777 -3.333223          1    Petrol   12       Manual   \n",
       "\n",
       "     Owner_Type  Seats       make  mileage_new  engine_new  power_new  \\\n",
       "551       First    5.0     toyota        21.43      1364.0      87.20   \n",
       "1376      First    5.0     maruti        21.40      1197.0      83.10   \n",
       "2281      First    5.0  chevrolet        18.00       995.0      62.00   \n",
       "1361      First    5.0     maruti        24.30      1248.0      88.50   \n",
       "203       First    5.0     maruti        21.40      1197.0      83.10   \n",
       "1969      First    5.0     maruti        24.30      1248.0      88.50   \n",
       "2632     Second    5.0     maruti        17.30       993.0      60.00   \n",
       "973       First    5.0     maruti        20.73      1373.0      91.10   \n",
       "2952      First    5.0      honda        26.00      1498.0      98.60   \n",
       "304       First    5.0     maruti        28.09      1248.0      88.50   \n",
       "606      Second    5.0     maruti        17.30       993.0      60.00   \n",
       "643       First    5.0     maruti        19.12      1373.0      91.10   \n",
       "898       First    5.0      honda        17.50      1199.0      88.70   \n",
       "725       First    5.0    hyundai        18.60      1197.0      81.86   \n",
       "311       First    5.0     maruti        24.30      1248.0      88.50   \n",
       "1914      First    5.0     maruti        24.30      1248.0      88.50   \n",
       "261       First    5.0     maruti        28.09      1248.0      88.50   \n",
       "2673      First    8.0     toyota        12.99      2494.0     100.00   \n",
       "1069      First    5.0       ford        19.00      1194.0      94.68   \n",
       "\n",
       "        Location  \n",
       "551   Coimbatore  \n",
       "1376       Kochi  \n",
       "2281     Kolkata  \n",
       "1361  Coimbatore  \n",
       "203   Coimbatore  \n",
       "1969  Coimbatore  \n",
       "2632      Jaipur  \n",
       "973        Kochi  \n",
       "2952   Hyderabad  \n",
       "304       Jaipur  \n",
       "606       Jaipur  \n",
       "643        Delhi  \n",
       "898        Kochi  \n",
       "725        Kochi  \n",
       "311   Coimbatore  \n",
       "1914  Coimbatore  \n",
       "261        Delhi  \n",
       "2673        Pune  \n",
       "1069      Mumbai  "
      ]
     },
     "execution_count": 54,
     "metadata": {},
     "output_type": "execute_result"
    }
   ],
   "source": [
    "test_cars_df[test_cars_df.residual < -2.0].sort_values('residual', ascending = False)"
   ]
  },
  {
   "cell_type": "code",
   "execution_count": 55,
   "metadata": {},
   "outputs": [
    {
     "data": {
      "image/png": "[encoded data removed]",
      "text/plain": [
       "<Figure size 1080x432 with 1 Axes>"
      ]
     },
     "metadata": {
      "needs_background": "light"
     },
     "output_type": "display_data"
    }
   ],
   "source": [
    "plt.figure(figsize=(15, 6))\n",
    "sn.boxplot(data = test_cars_df, x = 'make', y = 'residual');"
   ]
  },
  {
   "cell_type": "code",
   "execution_count": 56,
   "metadata": {},
   "outputs": [
    {
     "data": {
      "image/png": "[encoded data removed]",
      "text/plain": [
       "<Figure size 1080x432 with 1 Axes>"
      ]
     },
     "metadata": {
      "needs_background": "light"
     },
     "output_type": "display_data"
    }
   ],
   "source": [
    "plt.figure(figsize=(15, 6))\n",
    "sn.countplot(data = test_cars_df, x = 'make');"
   ]
  },
  {
   "cell_type": "code",
   "execution_count": 57,
   "metadata": {},
   "outputs": [
    {
     "data": {
      "image/png": "[encoded data removed]",
      "text/plain": [
       "<Figure size 1080x432 with 1 Axes>"
      ]
     },
     "metadata": {
      "needs_background": "light"
     },
     "output_type": "display_data"
    }
   ],
   "source": [
    "plt.figure(figsize=(15, 6))\n",
    "sn.boxplot(data = test_cars_df, x = 'Location', y = 'residual');"
   ]
  },
  {
   "cell_type": "code",
   "execution_count": 58,
   "metadata": {},
   "outputs": [
    {
     "data": {
      "image/png": "[encoded data removed]",
      "text/plain": [
       "<Figure size 1080x432 with 1 Axes>"
      ]
     },
     "metadata": {
      "needs_background": "light"
     },
     "output_type": "display_data"
    }
   ],
   "source": [
    "plt.figure(figsize=(15, 6))\n",
    "sn.scatterplot(data = test_cars_df, x = 'KM_Driven', y = 'residual');"
   ]
  },
  {
   "cell_type": "code",
   "execution_count": 59,
   "metadata": {},
   "outputs": [
    {
     "data": {
      "image/png": "[encoded data removed]",
      "text/plain": [
       "<Figure size 1080x432 with 1 Axes>"
      ]
     },
     "metadata": {
      "needs_background": "light"
     },
     "output_type": "display_data"
    }
   ],
   "source": [
    "plt.figure(figsize=(15, 6))\n",
    "sn.scatterplot(data = test_cars_df, x = 'power_new', y = 'residual');"
   ]
  },
  {
   "cell_type": "code",
   "execution_count": 60,
   "metadata": {},
   "outputs": [],
   "source": [
    "test_cars_df['km_power'] = test_cars_df['KM_Driven'] /  test_cars_df['power_new'] "
   ]
  },
  {
   "cell_type": "code",
   "execution_count": 61,
   "metadata": {},
   "outputs": [
    {
     "data": {
      "image/png": "[encoded data removed]",
      "text/plain": [
       "<Figure size 1080x432 with 1 Axes>"
      ]
     },
     "metadata": {
      "needs_background": "light"
     },
     "output_type": "display_data"
    }
   ],
   "source": [
    "plt.figure(figsize=(15, 6))\n",
    "sn.scatterplot(data = test_cars_df, x = 'km_power', y = 'residual');"
   ]
  },
  {
   "cell_type": "code",
   "execution_count": 62,
   "metadata": {},
   "outputs": [
    {
     "data": {
      "image/png": "[encoded data removed]",
      "text/plain": [
       "<Figure size 1080x432 with 1 Axes>"
      ]
     },
     "metadata": {
      "needs_background": "light"
     },
     "output_type": "display_data"
    }
   ],
   "source": [
    "plt.figure(figsize=(15, 6))\n",
    "sn.boxplot(data = test_cars_df, x = 'Seats', y = 'residual');"
   ]
  },
  {
   "cell_type": "code",
   "execution_count": 63,
   "metadata": {},
   "outputs": [
    {
     "data": {
      "image/png": "[encoded data removed]",
      "text/plain": [
       "<Figure size 1080x432 with 1 Axes>"
      ]
     },
     "metadata": {
      "needs_background": "light"
     },
     "output_type": "display_data"
    }
   ],
   "source": [
    "plt.figure(figsize=(15, 6))\n",
    "sn.countplot(data = test_cars_df, x = 'Seats');"
   ]
  },
  {
   "cell_type": "code",
   "execution_count": 64,
   "metadata": {},
   "outputs": [
    {
     "data": {
      "image/png": "[encoded data removed]",
      "text/plain": [
       "<Figure size 720x576 with 2 Axes>"
      ]
     },
     "metadata": {
      "needs_background": "light"
     },
     "output_type": "display_data"
    }
   ],
   "source": [
    "make_ct = pd.crosstab(test_cars_df.Location,\n",
    "                        test_cars_df.make,\n",
    "                        normalize = 'index') * 100\n",
    "\n",
    "plt.figure(figsize=(10, 8))\n",
    "sn.heatmap(make_ct, annot=True, cmap=\"YlGnBu\");"
   ]
  },
  {
   "cell_type": "code",
   "execution_count": 65,
   "metadata": {},
   "outputs": [
    {
     "data": {
      "image/png": "[encoded data removed]",
      "text/plain": [
       "<Figure size 720x576 with 2 Axes>"
      ]
     },
     "metadata": {
      "needs_background": "light"
     },
     "output_type": "display_data"
    }
   ],
   "source": [
    "make_mean = pd.crosstab(test_cars_df.Location,\n",
    "                        test_cars_df.make,\n",
    "                        values = test_cars_df.residual,\n",
    "                        aggfunc = 'median')\n",
    "\n",
    "plt.figure(figsize=(10, 8))\n",
    "sn.heatmap(make_mean, \n",
    "           annot=True, \n",
    "           cmap=\"YlGnBu\",\n",
    "           vmax = 1.0,\n",
    "           vmin = -1.0,\n",
    "           fmt='1.2f');"
   ]
  },
  {
   "cell_type": "markdown",
   "metadata": {},
   "source": [
    "### Saving the model"
   ]
  },
  {
   "cell_type": "code",
   "execution_count": 66,
   "metadata": {},
   "outputs": [],
   "source": [
    "class CarPredictionModel():\n",
    "    \n",
    "    def __init__(self, model, features, rmse):\n",
    "        self.model = model\n",
    "        self.features = features\n",
    "        self.rmse = rmse\n"
   ]
  },
  {
   "cell_type": "code",
   "execution_count": 67,
   "metadata": {},
   "outputs": [],
   "source": [
    "my_model = CarPredictionModel(lreg_v1, list(X_train.columns), rmse_v1)"
   ]
  },
  {
   "cell_type": "code",
   "execution_count": 68,
   "metadata": {},
   "outputs": [],
   "source": [
    "# Uncomment this code for older version of sklearn\n",
    "#from sklearn.externals import joblib\n",
    "#joblib.dump(my_model, './cars.pkl')"
   ]
  },
  {
   "cell_type": "code",
   "execution_count": 69,
   "metadata": {},
   "outputs": [],
   "source": [
    "from joblib import dump"
   ]
  },
  {
   "cell_type": "code",
   "execution_count": 70,
   "metadata": {},
   "outputs": [
    {
     "data": {
      "text/plain": [
       "['./cars.pkl']"
      ]
     },
     "execution_count": 70,
     "metadata": {},
     "output_type": "execute_result"
    }
   ],
   "source": [
    "dump(my_model, './cars.pkl')"
   ]
  },
  {
   "cell_type": "code",
   "execution_count": null,
   "metadata": {},
   "outputs": [],
   "source": []
  }
 ],
 "metadata": {
  "kernelspec": {
   "display_name": "Python 3",
   "language": "python",
   "name": "python3"
  },
  "language_info": {
   "codemirror_mode": {
    "name": "ipython",
    "version": 3
   },
   "file_extension": ".py",
   "mimetype": "text/x-python",
   "name": "python",
   "nbconvert_exporter": "python",
   "pygments_lexer": "ipython3",
   "version": "3.9.6"
  }
 },
 "nbformat": 4,
 "nbformat_minor": 4
}

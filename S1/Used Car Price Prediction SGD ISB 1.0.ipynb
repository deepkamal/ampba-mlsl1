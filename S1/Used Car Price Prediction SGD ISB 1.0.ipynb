{
 "cells": [
  {
   "cell_type": "markdown",
   "metadata": {},
   "source": [
    "# Used Car Price Prediction: Stocastic Regressor"
   ]
  },
  {
   "cell_type": "markdown",
   "metadata": {},
   "source": [
    "### Load Dataset"
   ]
  },
  {
   "cell_type": "code",
   "execution_count": 121,
   "metadata": {},
   "outputs": [],
   "source": [
    "import pandas as pd\n",
    "import numpy as np\n",
    "import matplotlib.pyplot as plt\n",
    "import seaborn as sn"
   ]
  },
  {
   "cell_type": "code",
   "execution_count": 122,
   "metadata": {},
   "outputs": [],
   "source": [
    "cars_df = pd.read_csv( \"new_used_car_v1.csv\" )"
   ]
  },
  {
   "cell_type": "code",
   "execution_count": 123,
   "metadata": {},
   "outputs": [
    {
     "data": {
      "text/html": [
       "<div>\n",
       "<style scoped>\n",
       "    .dataframe tbody tr th:only-of-type {\n",
       "        vertical-align: middle;\n",
       "    }\n",
       "\n",
       "    .dataframe tbody tr th {\n",
       "        vertical-align: top;\n",
       "    }\n",
       "\n",
       "    .dataframe thead th {\n",
       "        text-align: right;\n",
       "    }\n",
       "</style>\n",
       "<table border=\"1\" class=\"dataframe\">\n",
       "  <thead>\n",
       "    <tr style=\"text-align: right;\">\n",
       "      <th></th>\n",
       "      <th>index</th>\n",
       "      <th>Name</th>\n",
       "      <th>Location</th>\n",
       "      <th>Year</th>\n",
       "      <th>Kilometers_Driven</th>\n",
       "      <th>Fuel_Type</th>\n",
       "      <th>Transmission</th>\n",
       "      <th>Owner_Type</th>\n",
       "      <th>Mileage</th>\n",
       "      <th>Engine</th>\n",
       "      <th>Power</th>\n",
       "      <th>Seats</th>\n",
       "      <th>New_Price</th>\n",
       "      <th>Price</th>\n",
       "      <th>age</th>\n",
       "      <th>KM_Driven</th>\n",
       "      <th>make</th>\n",
       "      <th>mileage_new</th>\n",
       "      <th>engine_new</th>\n",
       "      <th>power_new</th>\n",
       "    </tr>\n",
       "  </thead>\n",
       "  <tbody>\n",
       "    <tr>\n",
       "      <th>2451</th>\n",
       "      <td>4797</td>\n",
       "      <td>Hyundai i20 1.2 Asta</td>\n",
       "      <td>Chennai</td>\n",
       "      <td>2011</td>\n",
       "      <td>47000</td>\n",
       "      <td>Petrol</td>\n",
       "      <td>Manual</td>\n",
       "      <td>First</td>\n",
       "      <td>17.0 kmpl</td>\n",
       "      <td>1197 CC</td>\n",
       "      <td>80 bhp</td>\n",
       "      <td>5.0</td>\n",
       "      <td>NaN</td>\n",
       "      <td>4.50</td>\n",
       "      <td>8</td>\n",
       "      <td>47</td>\n",
       "      <td>hyundai</td>\n",
       "      <td>17.00</td>\n",
       "      <td>1197.0</td>\n",
       "      <td>80.00</td>\n",
       "    </tr>\n",
       "    <tr>\n",
       "      <th>2998</th>\n",
       "      <td>5833</td>\n",
       "      <td>Ford EcoSport 1.5 TDCi Trend</td>\n",
       "      <td>Delhi</td>\n",
       "      <td>2015</td>\n",
       "      <td>57000</td>\n",
       "      <td>Diesel</td>\n",
       "      <td>Manual</td>\n",
       "      <td>First</td>\n",
       "      <td>22.77 kmpl</td>\n",
       "      <td>1498 CC</td>\n",
       "      <td>98.59 bhp</td>\n",
       "      <td>5.0</td>\n",
       "      <td>NaN</td>\n",
       "      <td>6.35</td>\n",
       "      <td>4</td>\n",
       "      <td>57</td>\n",
       "      <td>ford</td>\n",
       "      <td>22.77</td>\n",
       "      <td>1498.0</td>\n",
       "      <td>98.59</td>\n",
       "    </tr>\n",
       "    <tr>\n",
       "      <th>2683</th>\n",
       "      <td>5238</td>\n",
       "      <td>Chevrolet Sail 1.2 LS</td>\n",
       "      <td>Jaipur</td>\n",
       "      <td>2013</td>\n",
       "      <td>48000</td>\n",
       "      <td>Petrol</td>\n",
       "      <td>Manual</td>\n",
       "      <td>First</td>\n",
       "      <td>18.2 kmpl</td>\n",
       "      <td>1199 CC</td>\n",
       "      <td>82.4 bhp</td>\n",
       "      <td>5.0</td>\n",
       "      <td>NaN</td>\n",
       "      <td>3.25</td>\n",
       "      <td>6</td>\n",
       "      <td>48</td>\n",
       "      <td>chevrolet</td>\n",
       "      <td>18.20</td>\n",
       "      <td>1199.0</td>\n",
       "      <td>82.40</td>\n",
       "    </tr>\n",
       "    <tr>\n",
       "      <th>578</th>\n",
       "      <td>1165</td>\n",
       "      <td>Maruti Swift VXI BSIII</td>\n",
       "      <td>Ahmedabad</td>\n",
       "      <td>2008</td>\n",
       "      <td>65000</td>\n",
       "      <td>Petrol</td>\n",
       "      <td>Manual</td>\n",
       "      <td>First</td>\n",
       "      <td>16.1 kmpl</td>\n",
       "      <td>1298 CC</td>\n",
       "      <td>88.2 bhp</td>\n",
       "      <td>5.0</td>\n",
       "      <td>NaN</td>\n",
       "      <td>2.71</td>\n",
       "      <td>11</td>\n",
       "      <td>65</td>\n",
       "      <td>maruti</td>\n",
       "      <td>16.10</td>\n",
       "      <td>1298.0</td>\n",
       "      <td>88.20</td>\n",
       "    </tr>\n",
       "    <tr>\n",
       "      <th>1173</th>\n",
       "      <td>2344</td>\n",
       "      <td>Maruti Baleno Zeta Automatic</td>\n",
       "      <td>Kochi</td>\n",
       "      <td>2017</td>\n",
       "      <td>36152</td>\n",
       "      <td>Petrol</td>\n",
       "      <td>Automatic</td>\n",
       "      <td>First</td>\n",
       "      <td>21.4 kmpl</td>\n",
       "      <td>1197 CC</td>\n",
       "      <td>83.1 bhp</td>\n",
       "      <td>5.0</td>\n",
       "      <td>NaN</td>\n",
       "      <td>7.22</td>\n",
       "      <td>2</td>\n",
       "      <td>36</td>\n",
       "      <td>maruti</td>\n",
       "      <td>21.40</td>\n",
       "      <td>1197.0</td>\n",
       "      <td>83.10</td>\n",
       "    </tr>\n",
       "  </tbody>\n",
       "</table>\n",
       "</div>"
      ],
      "text/plain": [
       "      index                          Name   Location  Year  Kilometers_Driven  \\\n",
       "2451   4797          Hyundai i20 1.2 Asta    Chennai  2011              47000   \n",
       "2998   5833  Ford EcoSport 1.5 TDCi Trend      Delhi  2015              57000   \n",
       "2683   5238         Chevrolet Sail 1.2 LS     Jaipur  2013              48000   \n",
       "578    1165        Maruti Swift VXI BSIII  Ahmedabad  2008              65000   \n",
       "1173   2344  Maruti Baleno Zeta Automatic      Kochi  2017              36152   \n",
       "\n",
       "     Fuel_Type Transmission Owner_Type     Mileage   Engine      Power  Seats  \\\n",
       "2451    Petrol       Manual      First   17.0 kmpl  1197 CC     80 bhp    5.0   \n",
       "2998    Diesel       Manual      First  22.77 kmpl  1498 CC  98.59 bhp    5.0   \n",
       "2683    Petrol       Manual      First   18.2 kmpl  1199 CC   82.4 bhp    5.0   \n",
       "578     Petrol       Manual      First   16.1 kmpl  1298 CC   88.2 bhp    5.0   \n",
       "1173    Petrol    Automatic      First   21.4 kmpl  1197 CC   83.1 bhp    5.0   \n",
       "\n",
       "     New_Price  Price  age  KM_Driven       make  mileage_new  engine_new  \\\n",
       "2451       NaN   4.50    8         47    hyundai        17.00      1197.0   \n",
       "2998       NaN   6.35    4         57       ford        22.77      1498.0   \n",
       "2683       NaN   3.25    6         48  chevrolet        18.20      1199.0   \n",
       "578        NaN   2.71   11         65     maruti        16.10      1298.0   \n",
       "1173       NaN   7.22    2         36     maruti        21.40      1197.0   \n",
       "\n",
       "      power_new  \n",
       "2451      80.00  \n",
       "2998      98.59  \n",
       "2683      82.40  \n",
       "578       88.20  \n",
       "1173      83.10  "
      ]
     },
     "execution_count": 123,
     "metadata": {},
     "output_type": "execute_result"
    }
   ],
   "source": [
    "cars_df.sample(5)"
   ]
  },
  {
   "cell_type": "code",
   "execution_count": 124,
   "metadata": {},
   "outputs": [
    {
     "name": "stdout",
     "output_type": "stream",
     "text": [
      "<class 'pandas.core.frame.DataFrame'>\n",
      "RangeIndex: 3092 entries, 0 to 3091\n",
      "Data columns (total 20 columns):\n",
      " #   Column             Non-Null Count  Dtype  \n",
      "---  ------             --------------  -----  \n",
      " 0   index              3092 non-null   int64  \n",
      " 1   Name               3092 non-null   object \n",
      " 2   Location           3092 non-null   object \n",
      " 3   Year               3092 non-null   int64  \n",
      " 4   Kilometers_Driven  3092 non-null   int64  \n",
      " 5   Fuel_Type          3092 non-null   object \n",
      " 6   Transmission       3092 non-null   object \n",
      " 7   Owner_Type         3092 non-null   object \n",
      " 8   Mileage            3092 non-null   object \n",
      " 9   Engine             3092 non-null   object \n",
      " 10  Power              3092 non-null   object \n",
      " 11  Seats              3091 non-null   float64\n",
      " 12  New_Price          411 non-null    object \n",
      " 13  Price              3092 non-null   float64\n",
      " 14  age                3092 non-null   int64  \n",
      " 15  KM_Driven          3092 non-null   int64  \n",
      " 16  make               3092 non-null   object \n",
      " 17  mileage_new        3092 non-null   float64\n",
      " 18  engine_new         3092 non-null   float64\n",
      " 19  power_new          3092 non-null   float64\n",
      "dtypes: float64(5), int64(5), object(10)\n",
      "memory usage: 483.2+ KB\n"
     ]
    }
   ],
   "source": [
    "cars_df.info()"
   ]
  },
  {
   "cell_type": "markdown",
   "metadata": {},
   "source": [
    "### Feature Set Selection"
   ]
  },
  {
   "cell_type": "code",
   "execution_count": 125,
   "metadata": {},
   "outputs": [
    {
     "data": {
      "text/plain": [
       "Index(['index', 'Name', 'Location', 'Year', 'Kilometers_Driven', 'Fuel_Type',\n",
       "       'Transmission', 'Owner_Type', 'Mileage', 'Engine', 'Power', 'Seats',\n",
       "       'New_Price', 'Price', 'age', 'KM_Driven', 'make', 'mileage_new',\n",
       "       'engine_new', 'power_new'],\n",
       "      dtype='object')"
      ]
     },
     "execution_count": 125,
     "metadata": {},
     "output_type": "execute_result"
    }
   ],
   "source": [
    "cars_df.columns"
   ]
  },
  {
   "cell_type": "code",
   "execution_count": 126,
   "metadata": {},
   "outputs": [],
   "source": [
    "x_features = ['KM_Driven', 'Fuel_Type', 'age',\n",
    "              'Transmission', 'Owner_Type', 'Seats', \n",
    "              'make', 'mileage_new', 'engine_new', \n",
    "              'power_new', 'Location']"
   ]
  },
  {
   "cell_type": "code",
   "execution_count": 127,
   "metadata": {},
   "outputs": [],
   "source": [
    "cat_features = ['Fuel_Type', \n",
    "                'Transmission', 'Owner_Type',\n",
    "                'make', 'Location']"
   ]
  },
  {
   "cell_type": "code",
   "execution_count": 128,
   "metadata": {},
   "outputs": [],
   "source": [
    "num_features = list(set(x_features) - set(cat_features))"
   ]
  },
  {
   "cell_type": "code",
   "execution_count": 129,
   "metadata": {},
   "outputs": [
    {
     "data": {
      "text/plain": [
       "['power_new', 'mileage_new', 'engine_new', 'Seats', 'KM_Driven', 'age']"
      ]
     },
     "execution_count": 129,
     "metadata": {},
     "output_type": "execute_result"
    }
   ],
   "source": [
    "num_features"
   ]
  },
  {
   "cell_type": "code",
   "execution_count": 130,
   "metadata": {},
   "outputs": [
    {
     "name": "stdout",
     "output_type": "stream",
     "text": [
      "<class 'pandas.core.frame.DataFrame'>\n",
      "RangeIndex: 3092 entries, 0 to 3091\n",
      "Data columns (total 11 columns):\n",
      " #   Column        Non-Null Count  Dtype  \n",
      "---  ------        --------------  -----  \n",
      " 0   KM_Driven     3092 non-null   int64  \n",
      " 1   Fuel_Type     3092 non-null   object \n",
      " 2   age           3092 non-null   int64  \n",
      " 3   Transmission  3092 non-null   object \n",
      " 4   Owner_Type    3092 non-null   object \n",
      " 5   Seats         3091 non-null   float64\n",
      " 6   make          3092 non-null   object \n",
      " 7   mileage_new   3092 non-null   float64\n",
      " 8   engine_new    3092 non-null   float64\n",
      " 9   power_new     3092 non-null   float64\n",
      " 10  Location      3092 non-null   object \n",
      "dtypes: float64(4), int64(2), object(5)\n",
      "memory usage: 265.8+ KB\n"
     ]
    }
   ],
   "source": [
    "cars_df[x_features].info()"
   ]
  },
  {
   "cell_type": "markdown",
   "metadata": {},
   "source": [
    "### Dropping Null Values"
   ]
  },
  {
   "cell_type": "code",
   "execution_count": 131,
   "metadata": {},
   "outputs": [],
   "source": [
    "cars_df = cars_df[x_features + ['Price']].dropna()"
   ]
  },
  {
   "cell_type": "code",
   "execution_count": 132,
   "metadata": {},
   "outputs": [
    {
     "data": {
      "text/plain": [
       "(3091, 12)"
      ]
     },
     "execution_count": 132,
     "metadata": {},
     "output_type": "execute_result"
    }
   ],
   "source": [
    "cars_df.shape"
   ]
  },
  {
   "cell_type": "code",
   "execution_count": 133,
   "metadata": {},
   "outputs": [
    {
     "data": {
      "text/html": [
       "<div>\n",
       "<style scoped>\n",
       "    .dataframe tbody tr th:only-of-type {\n",
       "        vertical-align: middle;\n",
       "    }\n",
       "\n",
       "    .dataframe tbody tr th {\n",
       "        vertical-align: top;\n",
       "    }\n",
       "\n",
       "    .dataframe thead th {\n",
       "        text-align: right;\n",
       "    }\n",
       "</style>\n",
       "<table border=\"1\" class=\"dataframe\">\n",
       "  <thead>\n",
       "    <tr style=\"text-align: right;\">\n",
       "      <th></th>\n",
       "      <th>KM_Driven</th>\n",
       "      <th>Fuel_Type</th>\n",
       "      <th>age</th>\n",
       "      <th>Transmission</th>\n",
       "      <th>Owner_Type</th>\n",
       "      <th>Seats</th>\n",
       "      <th>make</th>\n",
       "      <th>mileage_new</th>\n",
       "      <th>engine_new</th>\n",
       "      <th>power_new</th>\n",
       "      <th>Location</th>\n",
       "      <th>Price</th>\n",
       "    </tr>\n",
       "  </thead>\n",
       "  <tbody>\n",
       "    <tr>\n",
       "      <th>187</th>\n",
       "      <td>68</td>\n",
       "      <td>Diesel</td>\n",
       "      <td>9</td>\n",
       "      <td>Manual</td>\n",
       "      <td>Second</td>\n",
       "      <td>5.0</td>\n",
       "      <td>maruti</td>\n",
       "      <td>21.10</td>\n",
       "      <td>1248.0</td>\n",
       "      <td>73.9</td>\n",
       "      <td>Hyderabad</td>\n",
       "      <td>3.2</td>\n",
       "    </tr>\n",
       "    <tr>\n",
       "      <th>1625</th>\n",
       "      <td>69</td>\n",
       "      <td>Diesel</td>\n",
       "      <td>6</td>\n",
       "      <td>Manual</td>\n",
       "      <td>First</td>\n",
       "      <td>5.0</td>\n",
       "      <td>nissan</td>\n",
       "      <td>23.08</td>\n",
       "      <td>1461.0</td>\n",
       "      <td>63.1</td>\n",
       "      <td>Mumbai</td>\n",
       "      <td>3.0</td>\n",
       "    </tr>\n",
       "    <tr>\n",
       "      <th>1120</th>\n",
       "      <td>65</td>\n",
       "      <td>Petrol</td>\n",
       "      <td>9</td>\n",
       "      <td>Manual</td>\n",
       "      <td>First</td>\n",
       "      <td>5.0</td>\n",
       "      <td>volkswagen</td>\n",
       "      <td>16.47</td>\n",
       "      <td>1198.0</td>\n",
       "      <td>73.9</td>\n",
       "      <td>Delhi</td>\n",
       "      <td>2.4</td>\n",
       "    </tr>\n",
       "    <tr>\n",
       "      <th>2937</th>\n",
       "      <td>73</td>\n",
       "      <td>Diesel</td>\n",
       "      <td>7</td>\n",
       "      <td>Manual</td>\n",
       "      <td>Second</td>\n",
       "      <td>5.0</td>\n",
       "      <td>ford</td>\n",
       "      <td>20.00</td>\n",
       "      <td>1399.0</td>\n",
       "      <td>68.0</td>\n",
       "      <td>Hyderabad</td>\n",
       "      <td>2.6</td>\n",
       "    </tr>\n",
       "    <tr>\n",
       "      <th>727</th>\n",
       "      <td>32</td>\n",
       "      <td>Diesel</td>\n",
       "      <td>7</td>\n",
       "      <td>Manual</td>\n",
       "      <td>First</td>\n",
       "      <td>5.0</td>\n",
       "      <td>nissan</td>\n",
       "      <td>23.08</td>\n",
       "      <td>1461.0</td>\n",
       "      <td>63.1</td>\n",
       "      <td>Kolkata</td>\n",
       "      <td>2.4</td>\n",
       "    </tr>\n",
       "  </tbody>\n",
       "</table>\n",
       "</div>"
      ],
      "text/plain": [
       "      KM_Driven Fuel_Type  age Transmission Owner_Type  Seats        make  \\\n",
       "187          68    Diesel    9       Manual     Second    5.0      maruti   \n",
       "1625         69    Diesel    6       Manual      First    5.0      nissan   \n",
       "1120         65    Petrol    9       Manual      First    5.0  volkswagen   \n",
       "2937         73    Diesel    7       Manual     Second    5.0        ford   \n",
       "727          32    Diesel    7       Manual      First    5.0      nissan   \n",
       "\n",
       "      mileage_new  engine_new  power_new   Location  Price  \n",
       "187         21.10      1248.0       73.9  Hyderabad    3.2  \n",
       "1625        23.08      1461.0       63.1     Mumbai    3.0  \n",
       "1120        16.47      1198.0       73.9      Delhi    2.4  \n",
       "2937        20.00      1399.0       68.0  Hyderabad    2.6  \n",
       "727         23.08      1461.0       63.1    Kolkata    2.4  "
      ]
     },
     "execution_count": 133,
     "metadata": {},
     "output_type": "execute_result"
    }
   ],
   "source": [
    "cars_df.sample(5)"
   ]
  },
  {
   "cell_type": "markdown",
   "metadata": {},
   "source": [
    "### Setting X and y variables"
   ]
  },
  {
   "cell_type": "code",
   "execution_count": 134,
   "metadata": {},
   "outputs": [],
   "source": [
    "X = cars_df[x_features]\n",
    "y = cars_df['Price']"
   ]
  },
  {
   "cell_type": "markdown",
   "metadata": {},
   "source": [
    "### Data Splitting"
   ]
  },
  {
   "cell_type": "code",
   "execution_count": 135,
   "metadata": {},
   "outputs": [],
   "source": [
    "from sklearn.model_selection import train_test_split"
   ]
  },
  {
   "cell_type": "code",
   "execution_count": 136,
   "metadata": {},
   "outputs": [],
   "source": [
    "X_train, X_test, y_train, y_test = train_test_split(X,\n",
    "                                                    y,\n",
    "                                                    train_size = 0.8,\n",
    "                                                    random_state = 80)"
   ]
  },
  {
   "cell_type": "code",
   "execution_count": 137,
   "metadata": {},
   "outputs": [
    {
     "data": {
      "text/html": [
       "<div>\n",
       "<style scoped>\n",
       "    .dataframe tbody tr th:only-of-type {\n",
       "        vertical-align: middle;\n",
       "    }\n",
       "\n",
       "    .dataframe tbody tr th {\n",
       "        vertical-align: top;\n",
       "    }\n",
       "\n",
       "    .dataframe thead th {\n",
       "        text-align: right;\n",
       "    }\n",
       "</style>\n",
       "<table border=\"1\" class=\"dataframe\">\n",
       "  <thead>\n",
       "    <tr style=\"text-align: right;\">\n",
       "      <th></th>\n",
       "      <th>KM_Driven</th>\n",
       "      <th>Fuel_Type</th>\n",
       "      <th>age</th>\n",
       "      <th>Transmission</th>\n",
       "      <th>Owner_Type</th>\n",
       "      <th>Seats</th>\n",
       "      <th>make</th>\n",
       "      <th>mileage_new</th>\n",
       "      <th>engine_new</th>\n",
       "      <th>power_new</th>\n",
       "      <th>Location</th>\n",
       "    </tr>\n",
       "  </thead>\n",
       "  <tbody>\n",
       "    <tr>\n",
       "      <th>1458</th>\n",
       "      <td>81</td>\n",
       "      <td>Diesel</td>\n",
       "      <td>5</td>\n",
       "      <td>Manual</td>\n",
       "      <td>First</td>\n",
       "      <td>5.0</td>\n",
       "      <td>volkswagen</td>\n",
       "      <td>20.14</td>\n",
       "      <td>1498.0</td>\n",
       "      <td>88.80</td>\n",
       "      <td>Hyderabad</td>\n",
       "    </tr>\n",
       "    <tr>\n",
       "      <th>3079</th>\n",
       "      <td>70</td>\n",
       "      <td>Petrol</td>\n",
       "      <td>9</td>\n",
       "      <td>Manual</td>\n",
       "      <td>Second</td>\n",
       "      <td>5.0</td>\n",
       "      <td>volkswagen</td>\n",
       "      <td>17.24</td>\n",
       "      <td>1198.0</td>\n",
       "      <td>73.90</td>\n",
       "      <td>Pune</td>\n",
       "    </tr>\n",
       "    <tr>\n",
       "      <th>2276</th>\n",
       "      <td>75</td>\n",
       "      <td>Petrol</td>\n",
       "      <td>4</td>\n",
       "      <td>Manual</td>\n",
       "      <td>First</td>\n",
       "      <td>5.0</td>\n",
       "      <td>hyundai</td>\n",
       "      <td>20.36</td>\n",
       "      <td>1197.0</td>\n",
       "      <td>78.90</td>\n",
       "      <td>Mumbai</td>\n",
       "    </tr>\n",
       "    <tr>\n",
       "      <th>1599</th>\n",
       "      <td>95</td>\n",
       "      <td>Petrol</td>\n",
       "      <td>21</td>\n",
       "      <td>Manual</td>\n",
       "      <td>Third</td>\n",
       "      <td>5.0</td>\n",
       "      <td>maruti</td>\n",
       "      <td>17.30</td>\n",
       "      <td>993.0</td>\n",
       "      <td>60.00</td>\n",
       "      <td>Jaipur</td>\n",
       "    </tr>\n",
       "    <tr>\n",
       "      <th>2356</th>\n",
       "      <td>14</td>\n",
       "      <td>Petrol</td>\n",
       "      <td>2</td>\n",
       "      <td>Manual</td>\n",
       "      <td>First</td>\n",
       "      <td>5.0</td>\n",
       "      <td>hyundai</td>\n",
       "      <td>18.60</td>\n",
       "      <td>1197.0</td>\n",
       "      <td>81.83</td>\n",
       "      <td>Kochi</td>\n",
       "    </tr>\n",
       "    <tr>\n",
       "      <th>...</th>\n",
       "      <td>...</td>\n",
       "      <td>...</td>\n",
       "      <td>...</td>\n",
       "      <td>...</td>\n",
       "      <td>...</td>\n",
       "      <td>...</td>\n",
       "      <td>...</td>\n",
       "      <td>...</td>\n",
       "      <td>...</td>\n",
       "      <td>...</td>\n",
       "      <td>...</td>\n",
       "    </tr>\n",
       "    <tr>\n",
       "      <th>522</th>\n",
       "      <td>45</td>\n",
       "      <td>Diesel</td>\n",
       "      <td>5</td>\n",
       "      <td>Manual</td>\n",
       "      <td>First</td>\n",
       "      <td>5.0</td>\n",
       "      <td>maruti</td>\n",
       "      <td>23.40</td>\n",
       "      <td>1248.0</td>\n",
       "      <td>74.00</td>\n",
       "      <td>Kolkata</td>\n",
       "    </tr>\n",
       "    <tr>\n",
       "      <th>2260</th>\n",
       "      <td>16</td>\n",
       "      <td>Petrol</td>\n",
       "      <td>2</td>\n",
       "      <td>Manual</td>\n",
       "      <td>First</td>\n",
       "      <td>5.0</td>\n",
       "      <td>tata</td>\n",
       "      <td>23.84</td>\n",
       "      <td>1199.0</td>\n",
       "      <td>84.00</td>\n",
       "      <td>Hyderabad</td>\n",
       "    </tr>\n",
       "    <tr>\n",
       "      <th>2983</th>\n",
       "      <td>21</td>\n",
       "      <td>Petrol</td>\n",
       "      <td>4</td>\n",
       "      <td>Manual</td>\n",
       "      <td>First</td>\n",
       "      <td>5.0</td>\n",
       "      <td>hyundai</td>\n",
       "      <td>18.90</td>\n",
       "      <td>1197.0</td>\n",
       "      <td>82.00</td>\n",
       "      <td>Pune</td>\n",
       "    </tr>\n",
       "    <tr>\n",
       "      <th>1213</th>\n",
       "      <td>83</td>\n",
       "      <td>Petrol</td>\n",
       "      <td>12</td>\n",
       "      <td>Manual</td>\n",
       "      <td>First</td>\n",
       "      <td>5.0</td>\n",
       "      <td>maruti</td>\n",
       "      <td>14.00</td>\n",
       "      <td>1061.0</td>\n",
       "      <td>64.00</td>\n",
       "      <td>Pune</td>\n",
       "    </tr>\n",
       "    <tr>\n",
       "      <th>1200</th>\n",
       "      <td>33</td>\n",
       "      <td>Petrol</td>\n",
       "      <td>4</td>\n",
       "      <td>Automatic</td>\n",
       "      <td>First</td>\n",
       "      <td>5.0</td>\n",
       "      <td>honda</td>\n",
       "      <td>19.00</td>\n",
       "      <td>1199.0</td>\n",
       "      <td>88.70</td>\n",
       "      <td>Hyderabad</td>\n",
       "    </tr>\n",
       "  </tbody>\n",
       "</table>\n",
       "<p>2472 rows × 11 columns</p>\n",
       "</div>"
      ],
      "text/plain": [
       "      KM_Driven Fuel_Type  age Transmission Owner_Type  Seats        make  \\\n",
       "1458         81    Diesel    5       Manual      First    5.0  volkswagen   \n",
       "3079         70    Petrol    9       Manual     Second    5.0  volkswagen   \n",
       "2276         75    Petrol    4       Manual      First    5.0     hyundai   \n",
       "1599         95    Petrol   21       Manual      Third    5.0      maruti   \n",
       "2356         14    Petrol    2       Manual      First    5.0     hyundai   \n",
       "...         ...       ...  ...          ...        ...    ...         ...   \n",
       "522          45    Diesel    5       Manual      First    5.0      maruti   \n",
       "2260         16    Petrol    2       Manual      First    5.0        tata   \n",
       "2983         21    Petrol    4       Manual      First    5.0     hyundai   \n",
       "1213         83    Petrol   12       Manual      First    5.0      maruti   \n",
       "1200         33    Petrol    4    Automatic      First    5.0       honda   \n",
       "\n",
       "      mileage_new  engine_new  power_new   Location  \n",
       "1458        20.14      1498.0      88.80  Hyderabad  \n",
       "3079        17.24      1198.0      73.90       Pune  \n",
       "2276        20.36      1197.0      78.90     Mumbai  \n",
       "1599        17.30       993.0      60.00     Jaipur  \n",
       "2356        18.60      1197.0      81.83      Kochi  \n",
       "...           ...         ...        ...        ...  \n",
       "522         23.40      1248.0      74.00    Kolkata  \n",
       "2260        23.84      1199.0      84.00  Hyderabad  \n",
       "2983        18.90      1197.0      82.00       Pune  \n",
       "1213        14.00      1061.0      64.00       Pune  \n",
       "1200        19.00      1199.0      88.70  Hyderabad  \n",
       "\n",
       "[2472 rows x 11 columns]"
      ]
     },
     "execution_count": 137,
     "metadata": {},
     "output_type": "execute_result"
    }
   ],
   "source": [
    "X_train"
   ]
  },
  {
   "cell_type": "code",
   "execution_count": 138,
   "metadata": {},
   "outputs": [
    {
     "data": {
      "text/html": [
       "<div>\n",
       "<style scoped>\n",
       "    .dataframe tbody tr th:only-of-type {\n",
       "        vertical-align: middle;\n",
       "    }\n",
       "\n",
       "    .dataframe tbody tr th {\n",
       "        vertical-align: top;\n",
       "    }\n",
       "\n",
       "    .dataframe thead th {\n",
       "        text-align: right;\n",
       "    }\n",
       "</style>\n",
       "<table border=\"1\" class=\"dataframe\">\n",
       "  <thead>\n",
       "    <tr style=\"text-align: right;\">\n",
       "      <th></th>\n",
       "      <th>KM_Driven</th>\n",
       "      <th>Fuel_Type</th>\n",
       "      <th>age</th>\n",
       "      <th>Transmission</th>\n",
       "      <th>Owner_Type</th>\n",
       "      <th>Seats</th>\n",
       "      <th>make</th>\n",
       "      <th>mileage_new</th>\n",
       "      <th>engine_new</th>\n",
       "      <th>power_new</th>\n",
       "      <th>Location</th>\n",
       "    </tr>\n",
       "  </thead>\n",
       "  <tbody>\n",
       "    <tr>\n",
       "      <th>1458</th>\n",
       "      <td>81</td>\n",
       "      <td>Diesel</td>\n",
       "      <td>5</td>\n",
       "      <td>Manual</td>\n",
       "      <td>First</td>\n",
       "      <td>5.0</td>\n",
       "      <td>volkswagen</td>\n",
       "      <td>20.14</td>\n",
       "      <td>1498.0</td>\n",
       "      <td>88.80</td>\n",
       "      <td>Hyderabad</td>\n",
       "    </tr>\n",
       "    <tr>\n",
       "      <th>3079</th>\n",
       "      <td>70</td>\n",
       "      <td>Petrol</td>\n",
       "      <td>9</td>\n",
       "      <td>Manual</td>\n",
       "      <td>Second</td>\n",
       "      <td>5.0</td>\n",
       "      <td>volkswagen</td>\n",
       "      <td>17.24</td>\n",
       "      <td>1198.0</td>\n",
       "      <td>73.90</td>\n",
       "      <td>Pune</td>\n",
       "    </tr>\n",
       "    <tr>\n",
       "      <th>2276</th>\n",
       "      <td>75</td>\n",
       "      <td>Petrol</td>\n",
       "      <td>4</td>\n",
       "      <td>Manual</td>\n",
       "      <td>First</td>\n",
       "      <td>5.0</td>\n",
       "      <td>hyundai</td>\n",
       "      <td>20.36</td>\n",
       "      <td>1197.0</td>\n",
       "      <td>78.90</td>\n",
       "      <td>Mumbai</td>\n",
       "    </tr>\n",
       "    <tr>\n",
       "      <th>1599</th>\n",
       "      <td>95</td>\n",
       "      <td>Petrol</td>\n",
       "      <td>21</td>\n",
       "      <td>Manual</td>\n",
       "      <td>Third</td>\n",
       "      <td>5.0</td>\n",
       "      <td>maruti</td>\n",
       "      <td>17.30</td>\n",
       "      <td>993.0</td>\n",
       "      <td>60.00</td>\n",
       "      <td>Jaipur</td>\n",
       "    </tr>\n",
       "    <tr>\n",
       "      <th>2356</th>\n",
       "      <td>14</td>\n",
       "      <td>Petrol</td>\n",
       "      <td>2</td>\n",
       "      <td>Manual</td>\n",
       "      <td>First</td>\n",
       "      <td>5.0</td>\n",
       "      <td>hyundai</td>\n",
       "      <td>18.60</td>\n",
       "      <td>1197.0</td>\n",
       "      <td>81.83</td>\n",
       "      <td>Kochi</td>\n",
       "    </tr>\n",
       "    <tr>\n",
       "      <th>737</th>\n",
       "      <td>12</td>\n",
       "      <td>Petrol</td>\n",
       "      <td>3</td>\n",
       "      <td>Manual</td>\n",
       "      <td>First</td>\n",
       "      <td>5.0</td>\n",
       "      <td>maruti</td>\n",
       "      <td>21.40</td>\n",
       "      <td>1197.0</td>\n",
       "      <td>83.10</td>\n",
       "      <td>Mumbai</td>\n",
       "    </tr>\n",
       "    <tr>\n",
       "      <th>265</th>\n",
       "      <td>50</td>\n",
       "      <td>Diesel</td>\n",
       "      <td>4</td>\n",
       "      <td>Manual</td>\n",
       "      <td>First</td>\n",
       "      <td>5.0</td>\n",
       "      <td>volkswagen</td>\n",
       "      <td>20.14</td>\n",
       "      <td>1498.0</td>\n",
       "      <td>88.80</td>\n",
       "      <td>Hyderabad</td>\n",
       "    </tr>\n",
       "    <tr>\n",
       "      <th>713</th>\n",
       "      <td>59</td>\n",
       "      <td>Petrol</td>\n",
       "      <td>12</td>\n",
       "      <td>Manual</td>\n",
       "      <td>First</td>\n",
       "      <td>4.0</td>\n",
       "      <td>maruti</td>\n",
       "      <td>16.10</td>\n",
       "      <td>796.0</td>\n",
       "      <td>37.00</td>\n",
       "      <td>Jaipur</td>\n",
       "    </tr>\n",
       "    <tr>\n",
       "      <th>82</th>\n",
       "      <td>88</td>\n",
       "      <td>Diesel</td>\n",
       "      <td>7</td>\n",
       "      <td>Manual</td>\n",
       "      <td>First</td>\n",
       "      <td>5.0</td>\n",
       "      <td>chevrolet</td>\n",
       "      <td>25.44</td>\n",
       "      <td>936.0</td>\n",
       "      <td>57.60</td>\n",
       "      <td>Jaipur</td>\n",
       "    </tr>\n",
       "    <tr>\n",
       "      <th>2918</th>\n",
       "      <td>27</td>\n",
       "      <td>Petrol</td>\n",
       "      <td>2</td>\n",
       "      <td>Manual</td>\n",
       "      <td>First</td>\n",
       "      <td>5.0</td>\n",
       "      <td>maruti</td>\n",
       "      <td>22.74</td>\n",
       "      <td>796.0</td>\n",
       "      <td>47.30</td>\n",
       "      <td>Kochi</td>\n",
       "    </tr>\n",
       "  </tbody>\n",
       "</table>\n",
       "</div>"
      ],
      "text/plain": [
       "      KM_Driven Fuel_Type  age Transmission Owner_Type  Seats        make  \\\n",
       "1458         81    Diesel    5       Manual      First    5.0  volkswagen   \n",
       "3079         70    Petrol    9       Manual     Second    5.0  volkswagen   \n",
       "2276         75    Petrol    4       Manual      First    5.0     hyundai   \n",
       "1599         95    Petrol   21       Manual      Third    5.0      maruti   \n",
       "2356         14    Petrol    2       Manual      First    5.0     hyundai   \n",
       "737          12    Petrol    3       Manual      First    5.0      maruti   \n",
       "265          50    Diesel    4       Manual      First    5.0  volkswagen   \n",
       "713          59    Petrol   12       Manual      First    4.0      maruti   \n",
       "82           88    Diesel    7       Manual      First    5.0   chevrolet   \n",
       "2918         27    Petrol    2       Manual      First    5.0      maruti   \n",
       "\n",
       "      mileage_new  engine_new  power_new   Location  \n",
       "1458        20.14      1498.0      88.80  Hyderabad  \n",
       "3079        17.24      1198.0      73.90       Pune  \n",
       "2276        20.36      1197.0      78.90     Mumbai  \n",
       "1599        17.30       993.0      60.00     Jaipur  \n",
       "2356        18.60      1197.0      81.83      Kochi  \n",
       "737         21.40      1197.0      83.10     Mumbai  \n",
       "265         20.14      1498.0      88.80  Hyderabad  \n",
       "713         16.10       796.0      37.00     Jaipur  \n",
       "82          25.44       936.0      57.60     Jaipur  \n",
       "2918        22.74       796.0      47.30      Kochi  "
      ]
     },
     "execution_count": 138,
     "metadata": {},
     "output_type": "execute_result"
    }
   ],
   "source": [
    "X_train[0:10]"
   ]
  },
  {
   "cell_type": "code",
   "execution_count": 139,
   "metadata": {},
   "outputs": [
    {
     "data": {
      "text/plain": [
       "(619, 11)"
      ]
     },
     "execution_count": 139,
     "metadata": {},
     "output_type": "execute_result"
    }
   ],
   "source": [
    "X_test.shape"
   ]
  },
  {
   "cell_type": "markdown",
   "metadata": {},
   "source": [
    "### Encode Categorical Variables"
   ]
  },
  {
   "cell_type": "code",
   "execution_count": 140,
   "metadata": {},
   "outputs": [],
   "source": [
    "from sklearn.preprocessing import OneHotEncoder"
   ]
  },
  {
   "cell_type": "code",
   "execution_count": 141,
   "metadata": {},
   "outputs": [],
   "source": [
    "ohe_encoder = OneHotEncoder(handle_unknown='ignore')"
   ]
  },
  {
   "cell_type": "code",
   "execution_count": 142,
   "metadata": {},
   "outputs": [
    {
     "data": {
      "text/plain": [
       "OneHotEncoder(handle_unknown='ignore')"
      ]
     },
     "execution_count": 142,
     "metadata": {},
     "output_type": "execute_result"
    }
   ],
   "source": [
    "ohe_encoder.fit(X_train[cat_features])"
   ]
  },
  {
   "cell_type": "code",
   "execution_count": 143,
   "metadata": {},
   "outputs": [
    {
     "data": {
      "text/plain": [
       "[array(['Diesel', 'Petrol'], dtype=object),\n",
       " array(['Automatic', 'Manual'], dtype=object),\n",
       " array(['First', 'Fourth & Above', 'Second', 'Third'], dtype=object),\n",
       " array(['chevrolet', 'datsun', 'fiat', 'ford', 'honda', 'hyundai',\n",
       "        'mahindra', 'maruti', 'mitsubishi', 'nissan', 'renault', 'skoda',\n",
       "        'tata', 'toyota', 'volkswagen'], dtype=object),\n",
       " array(['Ahmedabad', 'Bangalore', 'Chennai', 'Coimbatore', 'Delhi',\n",
       "        'Hyderabad', 'Jaipur', 'Kochi', 'Kolkata', 'Mumbai', 'Pune'],\n",
       "       dtype=object)]"
      ]
     },
     "execution_count": 143,
     "metadata": {},
     "output_type": "execute_result"
    }
   ],
   "source": [
    "ohe_encoder.categories_"
   ]
  },
  {
   "cell_type": "code",
   "execution_count": 144,
   "metadata": {},
   "outputs": [
    {
     "data": {
      "text/plain": [
       "['Fuel_Type_Diesel',\n",
       " 'Fuel_Type_Petrol',\n",
       " 'Transmission_Automatic',\n",
       " 'Transmission_Manual',\n",
       " 'Owner_Type_First',\n",
       " 'Owner_Type_Fourth & Above',\n",
       " 'Owner_Type_Second',\n",
       " 'Owner_Type_Third',\n",
       " 'make_chevrolet',\n",
       " 'make_datsun',\n",
       " 'make_fiat',\n",
       " 'make_ford',\n",
       " 'make_honda',\n",
       " 'make_hyundai',\n",
       " 'make_mahindra',\n",
       " 'make_maruti',\n",
       " 'make_mitsubishi',\n",
       " 'make_nissan',\n",
       " 'make_renault',\n",
       " 'make_skoda',\n",
       " 'make_tata',\n",
       " 'make_toyota',\n",
       " 'make_volkswagen',\n",
       " 'Location_Ahmedabad',\n",
       " 'Location_Bangalore',\n",
       " 'Location_Chennai',\n",
       " 'Location_Coimbatore',\n",
       " 'Location_Delhi',\n",
       " 'Location_Hyderabad',\n",
       " 'Location_Jaipur',\n",
       " 'Location_Kochi',\n",
       " 'Location_Kolkata',\n",
       " 'Location_Mumbai',\n",
       " 'Location_Pune']"
      ]
     },
     "execution_count": 144,
     "metadata": {},
     "output_type": "execute_result"
    }
   ],
   "source": [
    "encoded_cat_names = list(ohe_encoder.get_feature_names(cat_features))\n",
    "encoded_cat_names"
   ]
  },
  {
   "cell_type": "code",
   "execution_count": 145,
   "metadata": {},
   "outputs": [],
   "source": [
    "from sklearn.compose import ColumnTransformer\n",
    "from sklearn.pipeline import Pipeline\n",
    "from sklearn.preprocessing import StandardScaler"
   ]
  },
  {
   "cell_type": "code",
   "execution_count": 146,
   "metadata": {},
   "outputs": [],
   "source": [
    "numeric_transformer = Pipeline(steps=[\n",
    "    ('scaler', StandardScaler())])"
   ]
  },
  {
   "cell_type": "code",
   "execution_count": 147,
   "metadata": {},
   "outputs": [],
   "source": [
    "preprocessor = ColumnTransformer(\n",
    "    transformers=[        \n",
    "        ('num', numeric_transformer, num_features),\n",
    "        ('cat', ohe_encoder, cat_features)])"
   ]
  },
  {
   "cell_type": "markdown",
   "metadata": {},
   "source": [
    "### Linear Models\n",
    "\n",
    "Assumes linear relationship between features and outcome variable."
   ]
  },
  {
   "cell_type": "code",
   "execution_count": 148,
   "metadata": {},
   "outputs": [
    {
     "data": {
      "image/png": "[encoded data removed]",
      "text/plain": [
       "<Figure size 360x360 with 1 Axes>"
      ]
     },
     "metadata": {
      "needs_background": "light"
     },
     "output_type": "display_data"
    }
   ],
   "source": [
    "sn.lmplot( data = cars_df.sample(100),\n",
    "           x = 'power_new',\n",
    "           y = 'Price');"
   ]
  },
  {
   "cell_type": "code",
   "execution_count": 150,
   "metadata": {},
   "outputs": [],
   "source": [
    "from sklearn.linear_model import SGDRegressor"
   ]
  },
  {
   "cell_type": "code",
   "execution_count": 181,
   "metadata": {},
   "outputs": [],
   "source": [
    "lreg_v1 = Pipeline(steps=[('preprocessor', preprocessor),\n",
    "                          ('regressor', SGDRegressor(max_iter=100000, eta0=0.01))])"
   ]
  },
  {
   "cell_type": "code",
   "execution_count": 182,
   "metadata": {},
   "outputs": [
    {
     "data": {
      "text/plain": [
       "Pipeline(steps=[('preprocessor',\n",
       "                 ColumnTransformer(transformers=[('num',\n",
       "                                                  Pipeline(steps=[('scaler',\n",
       "                                                                   StandardScaler())]),\n",
       "                                                  ['power_new', 'mileage_new',\n",
       "                                                   'engine_new', 'Seats',\n",
       "                                                   'KM_Driven', 'age']),\n",
       "                                                 ('cat',\n",
       "                                                  OneHotEncoder(handle_unknown='ignore'),\n",
       "                                                  ['Fuel_Type', 'Transmission',\n",
       "                                                   'Owner_Type', 'make',\n",
       "                                                   'Location'])])),\n",
       "                ('regressor', SGDRegressor(max_iter=100000))])"
      ]
     },
     "execution_count": 182,
     "metadata": {},
     "output_type": "execute_result"
    }
   ],
   "source": [
    "lreg_v1.fit(X_train, y_train)"
   ]
  },
  {
   "cell_type": "code",
   "execution_count": 219,
   "metadata": {},
   "outputs": [],
   "source": [
    "final_feature_names = num_features + list(lreg_v1['preprocessor'].transformers_[1][1].get_feature_names())"
   ]
  },
  {
   "cell_type": "markdown",
   "metadata": {},
   "source": [
    "### Understanding model parameters"
   ]
  },
  {
   "cell_type": "code",
   "execution_count": 184,
   "metadata": {},
   "outputs": [
    {
     "data": {
      "text/plain": [
       "array([0.02767005])"
      ]
     },
     "execution_count": 184,
     "metadata": {},
     "output_type": "execute_result"
    }
   ],
   "source": [
    "lreg_v1['regressor'].intercept_"
   ]
  },
  {
   "cell_type": "code",
   "execution_count": 185,
   "metadata": {},
   "outputs": [
    {
     "data": {
      "text/plain": [
       "array([ 0.63113313, -0.07052376,  0.30618245,  0.07077989, -0.33253467,\n",
       "       -1.09629479,  1.8476388 ,  0.90589976,  1.48431853,  1.26922003,\n",
       "        1.07695789,  0.03801975,  0.90137438,  0.73718654, -0.28929003,\n",
       "       -0.12887094, -0.08801285,  0.2533091 ,  0.2509968 ,  0.48886254,\n",
       "       -0.25922113,  1.01161809,  0.09998289,  0.1200478 ,  0.34344752,\n",
       "        0.07923063, -0.49129285,  0.93044656,  0.43228444,  0.16208108,\n",
       "        0.61918957,  0.38091073,  1.09884817, -0.22451135,  0.6867953 ,\n",
       "        0.1675811 ,  0.52266335, -0.84360509,  0.01079663,  0.17278907])"
      ]
     },
     "execution_count": 185,
     "metadata": {},
     "output_type": "execute_result"
    }
   ],
   "source": [
    "lreg_v1['regressor'].coef_"
   ]
  },
  {
   "cell_type": "code",
   "execution_count": 186,
   "metadata": {},
   "outputs": [
    {
     "data": {
      "text/plain": [
       "{'power_new': 0.63,\n",
       " 'mileage_new': -0.07,\n",
       " 'engine_new': 0.31,\n",
       " 'Seats': 0.07,\n",
       " 'KM_Driven': -0.33,\n",
       " 'age': -1.1,\n",
       " 'x0_Diesel': 1.85,\n",
       " 'x0_Petrol': 0.91,\n",
       " 'x1_Automatic': 1.48,\n",
       " 'x1_Manual': 1.27,\n",
       " 'x2_First': 1.08,\n",
       " 'x2_Fourth & Above': 0.04,\n",
       " 'x2_Second': 0.9,\n",
       " 'x2_Third': 0.74,\n",
       " 'x3_chevrolet': -0.29,\n",
       " 'x3_datsun': -0.13,\n",
       " 'x3_fiat': -0.09,\n",
       " 'x3_ford': 0.25,\n",
       " 'x3_honda': 0.25,\n",
       " 'x3_hyundai': 0.49,\n",
       " 'x3_mahindra': -0.26,\n",
       " 'x3_maruti': 1.01,\n",
       " 'x3_mitsubishi': 0.1,\n",
       " 'x3_nissan': 0.12,\n",
       " 'x3_renault': 0.34,\n",
       " 'x3_skoda': 0.08,\n",
       " 'x3_tata': -0.49,\n",
       " 'x3_toyota': 0.93,\n",
       " 'x3_volkswagen': 0.43,\n",
       " 'x4_Ahmedabad': 0.16,\n",
       " 'x4_Bangalore': 0.62,\n",
       " 'x4_Chennai': 0.38,\n",
       " 'x4_Coimbatore': 1.1,\n",
       " 'x4_Delhi': -0.22,\n",
       " 'x4_Hyderabad': 0.69,\n",
       " 'x4_Jaipur': 0.17,\n",
       " 'x4_Kochi': 0.52,\n",
       " 'x4_Kolkata': -0.84,\n",
       " 'x4_Mumbai': 0.01,\n",
       " 'x4_Pune': 0.17}"
      ]
     },
     "execution_count": 186,
     "metadata": {},
     "output_type": "execute_result"
    }
   ],
   "source": [
    "dict(zip(final_feature_names, np.round(lreg_v1['regressor'].coef_, 2)))"
   ]
  },
  {
   "cell_type": "markdown",
   "metadata": {},
   "source": [
    "### Predict on test set"
   ]
  },
  {
   "cell_type": "code",
   "execution_count": 187,
   "metadata": {},
   "outputs": [],
   "source": [
    "y_pred = lreg_v1.predict(X_test)"
   ]
  },
  {
   "cell_type": "code",
   "execution_count": 188,
   "metadata": {},
   "outputs": [],
   "source": [
    "y_df = pd.DataFrame({\"actual\": y_test,\n",
    "                     \"predicted\": y_pred,\n",
    "                     \"residual\": y_pred - y_test})"
   ]
  },
  {
   "cell_type": "code",
   "execution_count": 189,
   "metadata": {},
   "outputs": [
    {
     "data": {
      "text/html": [
       "<div>\n",
       "<style scoped>\n",
       "    .dataframe tbody tr th:only-of-type {\n",
       "        vertical-align: middle;\n",
       "    }\n",
       "\n",
       "    .dataframe tbody tr th {\n",
       "        vertical-align: top;\n",
       "    }\n",
       "\n",
       "    .dataframe thead th {\n",
       "        text-align: right;\n",
       "    }\n",
       "</style>\n",
       "<table border=\"1\" class=\"dataframe\">\n",
       "  <thead>\n",
       "    <tr style=\"text-align: right;\">\n",
       "      <th></th>\n",
       "      <th>actual</th>\n",
       "      <th>predicted</th>\n",
       "      <th>residual</th>\n",
       "    </tr>\n",
       "  </thead>\n",
       "  <tbody>\n",
       "    <tr>\n",
       "      <th>770</th>\n",
       "      <td>7.23</td>\n",
       "      <td>6.134204</td>\n",
       "      <td>-1.095796</td>\n",
       "    </tr>\n",
       "    <tr>\n",
       "      <th>1540</th>\n",
       "      <td>6.43</td>\n",
       "      <td>5.414952</td>\n",
       "      <td>-1.015048</td>\n",
       "    </tr>\n",
       "    <tr>\n",
       "      <th>2962</th>\n",
       "      <td>6.25</td>\n",
       "      <td>5.841859</td>\n",
       "      <td>-0.408141</td>\n",
       "    </tr>\n",
       "    <tr>\n",
       "      <th>2040</th>\n",
       "      <td>4.69</td>\n",
       "      <td>5.361812</td>\n",
       "      <td>0.671812</td>\n",
       "    </tr>\n",
       "    <tr>\n",
       "      <th>640</th>\n",
       "      <td>2.65</td>\n",
       "      <td>2.743941</td>\n",
       "      <td>0.093941</td>\n",
       "    </tr>\n",
       "    <tr>\n",
       "      <th>81</th>\n",
       "      <td>8.35</td>\n",
       "      <td>6.420287</td>\n",
       "      <td>-1.929713</td>\n",
       "    </tr>\n",
       "    <tr>\n",
       "      <th>2773</th>\n",
       "      <td>6.75</td>\n",
       "      <td>5.873177</td>\n",
       "      <td>-0.876823</td>\n",
       "    </tr>\n",
       "    <tr>\n",
       "      <th>816</th>\n",
       "      <td>3.00</td>\n",
       "      <td>4.013839</td>\n",
       "      <td>1.013839</td>\n",
       "    </tr>\n",
       "    <tr>\n",
       "      <th>305</th>\n",
       "      <td>1.96</td>\n",
       "      <td>0.848888</td>\n",
       "      <td>-1.111112</td>\n",
       "    </tr>\n",
       "    <tr>\n",
       "      <th>2907</th>\n",
       "      <td>4.00</td>\n",
       "      <td>4.432587</td>\n",
       "      <td>0.432587</td>\n",
       "    </tr>\n",
       "  </tbody>\n",
       "</table>\n",
       "</div>"
      ],
      "text/plain": [
       "      actual  predicted  residual\n",
       "770     7.23   6.134204 -1.095796\n",
       "1540    6.43   5.414952 -1.015048\n",
       "2962    6.25   5.841859 -0.408141\n",
       "2040    4.69   5.361812  0.671812\n",
       "640     2.65   2.743941  0.093941\n",
       "81      8.35   6.420287 -1.929713\n",
       "2773    6.75   5.873177 -0.876823\n",
       "816     3.00   4.013839  1.013839\n",
       "305     1.96   0.848888 -1.111112\n",
       "2907    4.00   4.432587  0.432587"
      ]
     },
     "execution_count": 189,
     "metadata": {},
     "output_type": "execute_result"
    }
   ],
   "source": [
    "y_df.sample(10, random_state = 100)"
   ]
  },
  {
   "cell_type": "markdown",
   "metadata": {},
   "source": [
    "### Measuring Accuracy"
   ]
  },
  {
   "cell_type": "code",
   "execution_count": 190,
   "metadata": {},
   "outputs": [],
   "source": [
    "from sklearn.metrics import mean_squared_error, r2_score"
   ]
  },
  {
   "cell_type": "code",
   "execution_count": 191,
   "metadata": {},
   "outputs": [],
   "source": [
    "mse_v1 = mean_squared_error(y_test, y_pred)"
   ]
  },
  {
   "cell_type": "code",
   "execution_count": 192,
   "metadata": {},
   "outputs": [
    {
     "data": {
      "text/plain": [
       "0.9959454785655195"
      ]
     },
     "execution_count": 192,
     "metadata": {},
     "output_type": "execute_result"
    }
   ],
   "source": [
    "mse_v1"
   ]
  },
  {
   "cell_type": "code",
   "execution_count": 193,
   "metadata": {},
   "outputs": [],
   "source": [
    "rmse_v1 = np.sqrt(mse_v1)"
   ]
  },
  {
   "cell_type": "code",
   "execution_count": 194,
   "metadata": {},
   "outputs": [
    {
     "data": {
      "text/plain": [
       "0.9979706802133615"
      ]
     },
     "execution_count": 194,
     "metadata": {},
     "output_type": "execute_result"
    }
   ],
   "source": [
    "rmse_v1"
   ]
  },
  {
   "cell_type": "code",
   "execution_count": 195,
   "metadata": {},
   "outputs": [
    {
     "data": {
      "text/plain": [
       "0.7811021106018019"
      ]
     },
     "execution_count": 195,
     "metadata": {},
     "output_type": "execute_result"
    }
   ],
   "source": [
    "r2_score(y_test, y_pred)"
   ]
  },
  {
   "cell_type": "markdown",
   "metadata": {},
   "source": [
    "### K Fold Cross Validation"
   ]
  },
  {
   "cell_type": "code",
   "execution_count": 197,
   "metadata": {},
   "outputs": [],
   "source": [
    "from sklearn.model_selection import cross_val_score"
   ]
  },
  {
   "cell_type": "code",
   "execution_count": 203,
   "metadata": {},
   "outputs": [],
   "source": [
    "scores = cross_val_score( lreg_v1,\n",
    "                          X_train,\n",
    "                          y_train,\n",
    "                          cv = 10,\n",
    "                          scoring = 'r2')"
   ]
  },
  {
   "cell_type": "code",
   "execution_count": 204,
   "metadata": {},
   "outputs": [
    {
     "data": {
      "text/plain": [
       "array([0.77043039, 0.74925518, 0.80766615, 0.76483588, 0.79057301,\n",
       "       0.76097408, 0.77346862, 0.77164623, 0.81986899, 0.77410786])"
      ]
     },
     "execution_count": 204,
     "metadata": {},
     "output_type": "execute_result"
    }
   ],
   "source": [
    "scores"
   ]
  },
  {
   "cell_type": "code",
   "execution_count": 205,
   "metadata": {},
   "outputs": [
    {
     "data": {
      "text/plain": [
       "0.7782826362105142"
      ]
     },
     "execution_count": 205,
     "metadata": {},
     "output_type": "execute_result"
    }
   ],
   "source": [
    "scores.mean()"
   ]
  },
  {
   "cell_type": "code",
   "execution_count": 206,
   "metadata": {},
   "outputs": [
    {
     "data": {
      "text/plain": [
       "0.02052599916708511"
      ]
     },
     "execution_count": 206,
     "metadata": {},
     "output_type": "execute_result"
    }
   ],
   "source": [
    "scores.std()"
   ]
  },
  {
   "cell_type": "markdown",
   "metadata": {},
   "source": [
    "### Ridge Regression"
   ]
  },
  {
   "cell_type": "code",
   "execution_count": 208,
   "metadata": {},
   "outputs": [
    {
     "data": {
      "text/plain": [
       "Pipeline(steps=[('preprocessor',\n",
       "                 ColumnTransformer(transformers=[('num',\n",
       "                                                  Pipeline(steps=[('scaler',\n",
       "                                                                   StandardScaler())]),\n",
       "                                                  ['power_new', 'mileage_new',\n",
       "                                                   'engine_new', 'Seats',\n",
       "                                                   'KM_Driven', 'age']),\n",
       "                                                 ('cat',\n",
       "                                                  OneHotEncoder(handle_unknown='ignore'),\n",
       "                                                  ['Fuel_Type', 'Transmission',\n",
       "                                                   'Owner_Type', 'make',\n",
       "                                                   'Location'])])),\n",
       "                ('regressor', Ridge(alpha=1, max_iter=500))])"
      ]
     },
     "execution_count": 208,
     "metadata": {},
     "output_type": "execute_result"
    }
   ],
   "source": [
    "# Importing Ridge Regression \n",
    "from sklearn.linear_model import Ridge\n",
    "\n",
    "\n",
    "ridge = Pipeline(steps=[('preprocessor', preprocessor),\n",
    "                        ('regressor', Ridge(alpha = 1, max_iter = 500))])\n",
    "\n",
    "\n",
    "ridge.fit( X_train, y_train )"
   ]
  },
  {
   "cell_type": "code",
   "execution_count": 209,
   "metadata": {},
   "outputs": [],
   "source": [
    "y_pred_ridge = ridge.predict(X_test)"
   ]
  },
  {
   "cell_type": "code",
   "execution_count": 210,
   "metadata": {},
   "outputs": [],
   "source": [
    "mse_v1 = mean_squared_error(y_test, y_pred_ridge)"
   ]
  },
  {
   "cell_type": "code",
   "execution_count": 211,
   "metadata": {},
   "outputs": [
    {
     "data": {
      "text/plain": [
       "0.9770326786157042"
      ]
     },
     "execution_count": 211,
     "metadata": {},
     "output_type": "execute_result"
    }
   ],
   "source": [
    "mse_v1"
   ]
  },
  {
   "cell_type": "code",
   "execution_count": 212,
   "metadata": {},
   "outputs": [
    {
     "data": {
      "text/plain": [
       "0.7852589365332654"
      ]
     },
     "execution_count": 212,
     "metadata": {},
     "output_type": "execute_result"
    }
   ],
   "source": [
    "r2_score(y_test, y_pred_ridge)"
   ]
  },
  {
   "cell_type": "markdown",
   "metadata": {},
   "source": [
    "### Lasso Regression"
   ]
  },
  {
   "cell_type": "code",
   "execution_count": 214,
   "metadata": {},
   "outputs": [
    {
     "data": {
      "text/plain": [
       "Pipeline(steps=[('preprocessor',\n",
       "                 ColumnTransformer(transformers=[('num',\n",
       "                                                  Pipeline(steps=[('scaler',\n",
       "                                                                   StandardScaler())]),\n",
       "                                                  ['power_new', 'mileage_new',\n",
       "                                                   'engine_new', 'Seats',\n",
       "                                                   'KM_Driven', 'age']),\n",
       "                                                 ('cat',\n",
       "                                                  OneHotEncoder(handle_unknown='ignore'),\n",
       "                                                  ['Fuel_Type', 'Transmission',\n",
       "                                                   'Owner_Type', 'make',\n",
       "                                                   'Location'])])),\n",
       "                ('regressor', Lasso(alpha=0.01, max_iter=500))])"
      ]
     },
     "execution_count": 214,
     "metadata": {},
     "output_type": "execute_result"
    }
   ],
   "source": [
    "# Importing Ridge Regression \n",
    "from sklearn.linear_model import Lasso\n",
    "\n",
    "\n",
    "lasso = Pipeline(steps=[('preprocessor', preprocessor),\n",
    "                        ('regressor', Lasso(alpha = 0.01, max_iter = 500))])\n",
    "\n",
    "\n",
    "lasso.fit( X_train, y_train )"
   ]
  },
  {
   "cell_type": "code",
   "execution_count": 216,
   "metadata": {},
   "outputs": [],
   "source": [
    "final_feature_names = num_features + list(lasso['preprocessor'].transformers_[1][1].get_feature_names())"
   ]
  },
  {
   "cell_type": "code",
   "execution_count": 238,
   "metadata": {},
   "outputs": [],
   "source": [
    "lasso['regressor'].intercept_\n",
    "lasso['regressor'].coef_\n",
    "features_df = pd.DataFrame(dict(zip(final_feature_names,\n",
    "                                               np.round(lasso['regressor'].coef_, 2))).items(),\n",
    "                                     columns = ['feature', 'coefs'])"
   ]
  },
  {
   "cell_type": "code",
   "execution_count": 240,
   "metadata": {},
   "outputs": [
    {
     "data": {
      "text/html": [
       "<div>\n",
       "<style scoped>\n",
       "    .dataframe tbody tr th:only-of-type {\n",
       "        vertical-align: middle;\n",
       "    }\n",
       "\n",
       "    .dataframe tbody tr th {\n",
       "        vertical-align: top;\n",
       "    }\n",
       "\n",
       "    .dataframe thead th {\n",
       "        text-align: right;\n",
       "    }\n",
       "</style>\n",
       "<table border=\"1\" class=\"dataframe\">\n",
       "  <thead>\n",
       "    <tr style=\"text-align: right;\">\n",
       "      <th></th>\n",
       "      <th>feature</th>\n",
       "      <th>coefs</th>\n",
       "    </tr>\n",
       "  </thead>\n",
       "  <tbody>\n",
       "    <tr>\n",
       "      <th>0</th>\n",
       "      <td>power_new</td>\n",
       "      <td>0.65</td>\n",
       "    </tr>\n",
       "    <tr>\n",
       "      <th>1</th>\n",
       "      <td>mileage_new</td>\n",
       "      <td>-0.02</td>\n",
       "    </tr>\n",
       "    <tr>\n",
       "      <th>2</th>\n",
       "      <td>engine_new</td>\n",
       "      <td>0.30</td>\n",
       "    </tr>\n",
       "    <tr>\n",
       "      <th>3</th>\n",
       "      <td>Seats</td>\n",
       "      <td>0.07</td>\n",
       "    </tr>\n",
       "    <tr>\n",
       "      <th>4</th>\n",
       "      <td>KM_Driven</td>\n",
       "      <td>-0.29</td>\n",
       "    </tr>\n",
       "    <tr>\n",
       "      <th>5</th>\n",
       "      <td>age</td>\n",
       "      <td>-1.12</td>\n",
       "    </tr>\n",
       "    <tr>\n",
       "      <th>6</th>\n",
       "      <td>x0_Diesel</td>\n",
       "      <td>0.80</td>\n",
       "    </tr>\n",
       "    <tr>\n",
       "      <th>8</th>\n",
       "      <td>x1_Automatic</td>\n",
       "      <td>0.10</td>\n",
       "    </tr>\n",
       "    <tr>\n",
       "      <th>12</th>\n",
       "      <td>x2_Second</td>\n",
       "      <td>-0.10</td>\n",
       "    </tr>\n",
       "    <tr>\n",
       "      <th>14</th>\n",
       "      <td>x3_chevrolet</td>\n",
       "      <td>-0.29</td>\n",
       "    </tr>\n",
       "    <tr>\n",
       "      <th>19</th>\n",
       "      <td>x3_hyundai</td>\n",
       "      <td>0.14</td>\n",
       "    </tr>\n",
       "    <tr>\n",
       "      <th>21</th>\n",
       "      <td>x3_maruti</td>\n",
       "      <td>0.66</td>\n",
       "    </tr>\n",
       "    <tr>\n",
       "      <th>26</th>\n",
       "      <td>x3_tata</td>\n",
       "      <td>-0.62</td>\n",
       "    </tr>\n",
       "    <tr>\n",
       "      <th>27</th>\n",
       "      <td>x3_toyota</td>\n",
       "      <td>0.70</td>\n",
       "    </tr>\n",
       "    <tr>\n",
       "      <th>30</th>\n",
       "      <td>x4_Bangalore</td>\n",
       "      <td>0.18</td>\n",
       "    </tr>\n",
       "    <tr>\n",
       "      <th>32</th>\n",
       "      <td>x4_Coimbatore</td>\n",
       "      <td>0.75</td>\n",
       "    </tr>\n",
       "    <tr>\n",
       "      <th>33</th>\n",
       "      <td>x4_Delhi</td>\n",
       "      <td>-0.33</td>\n",
       "    </tr>\n",
       "    <tr>\n",
       "      <th>34</th>\n",
       "      <td>x4_Hyderabad</td>\n",
       "      <td>0.39</td>\n",
       "    </tr>\n",
       "    <tr>\n",
       "      <th>36</th>\n",
       "      <td>x4_Kochi</td>\n",
       "      <td>0.18</td>\n",
       "    </tr>\n",
       "    <tr>\n",
       "      <th>37</th>\n",
       "      <td>x4_Kolkata</td>\n",
       "      <td>-0.98</td>\n",
       "    </tr>\n",
       "    <tr>\n",
       "      <th>38</th>\n",
       "      <td>x4_Mumbai</td>\n",
       "      <td>-0.11</td>\n",
       "    </tr>\n",
       "    <tr>\n",
       "      <th>39</th>\n",
       "      <td>x4_Pune</td>\n",
       "      <td>-0.01</td>\n",
       "    </tr>\n",
       "  </tbody>\n",
       "</table>\n",
       "</div>"
      ],
      "text/plain": [
       "          feature  coefs\n",
       "0       power_new   0.65\n",
       "1     mileage_new  -0.02\n",
       "2      engine_new   0.30\n",
       "3           Seats   0.07\n",
       "4       KM_Driven  -0.29\n",
       "5             age  -1.12\n",
       "6       x0_Diesel   0.80\n",
       "8    x1_Automatic   0.10\n",
       "12      x2_Second  -0.10\n",
       "14   x3_chevrolet  -0.29\n",
       "19     x3_hyundai   0.14\n",
       "21      x3_maruti   0.66\n",
       "26        x3_tata  -0.62\n",
       "27      x3_toyota   0.70\n",
       "30   x4_Bangalore   0.18\n",
       "32  x4_Coimbatore   0.75\n",
       "33       x4_Delhi  -0.33\n",
       "34   x4_Hyderabad   0.39\n",
       "36       x4_Kochi   0.18\n",
       "37     x4_Kolkata  -0.98\n",
       "38      x4_Mumbai  -0.11\n",
       "39        x4_Pune  -0.01"
      ]
     },
     "execution_count": 240,
     "metadata": {},
     "output_type": "execute_result"
    }
   ],
   "source": [
    "features_df[features_df.coefs != 0]"
   ]
  },
  {
   "cell_type": "code",
   "execution_count": 243,
   "metadata": {},
   "outputs": [
    {
     "data": {
      "text/html": [
       "<div>\n",
       "<style scoped>\n",
       "    .dataframe tbody tr th:only-of-type {\n",
       "        vertical-align: middle;\n",
       "    }\n",
       "\n",
       "    .dataframe tbody tr th {\n",
       "        vertical-align: top;\n",
       "    }\n",
       "\n",
       "    .dataframe thead th {\n",
       "        text-align: right;\n",
       "    }\n",
       "</style>\n",
       "<table border=\"1\" class=\"dataframe\">\n",
       "  <thead>\n",
       "    <tr style=\"text-align: right;\">\n",
       "      <th></th>\n",
       "      <th>feature</th>\n",
       "      <th>coefs</th>\n",
       "    </tr>\n",
       "  </thead>\n",
       "  <tbody>\n",
       "    <tr>\n",
       "      <th>7</th>\n",
       "      <td>x0_Petrol</td>\n",
       "      <td>-0.0</td>\n",
       "    </tr>\n",
       "    <tr>\n",
       "      <th>9</th>\n",
       "      <td>x1_Manual</td>\n",
       "      <td>-0.0</td>\n",
       "    </tr>\n",
       "    <tr>\n",
       "      <th>10</th>\n",
       "      <td>x2_First</td>\n",
       "      <td>0.0</td>\n",
       "    </tr>\n",
       "    <tr>\n",
       "      <th>11</th>\n",
       "      <td>x2_Fourth &amp; Above</td>\n",
       "      <td>-0.0</td>\n",
       "    </tr>\n",
       "    <tr>\n",
       "      <th>13</th>\n",
       "      <td>x2_Third</td>\n",
       "      <td>0.0</td>\n",
       "    </tr>\n",
       "    <tr>\n",
       "      <th>15</th>\n",
       "      <td>x3_datsun</td>\n",
       "      <td>-0.0</td>\n",
       "    </tr>\n",
       "    <tr>\n",
       "      <th>16</th>\n",
       "      <td>x3_fiat</td>\n",
       "      <td>-0.0</td>\n",
       "    </tr>\n",
       "    <tr>\n",
       "      <th>17</th>\n",
       "      <td>x3_ford</td>\n",
       "      <td>0.0</td>\n",
       "    </tr>\n",
       "    <tr>\n",
       "      <th>18</th>\n",
       "      <td>x3_honda</td>\n",
       "      <td>-0.0</td>\n",
       "    </tr>\n",
       "    <tr>\n",
       "      <th>20</th>\n",
       "      <td>x3_mahindra</td>\n",
       "      <td>-0.0</td>\n",
       "    </tr>\n",
       "    <tr>\n",
       "      <th>22</th>\n",
       "      <td>x3_mitsubishi</td>\n",
       "      <td>0.0</td>\n",
       "    </tr>\n",
       "    <tr>\n",
       "      <th>23</th>\n",
       "      <td>x3_nissan</td>\n",
       "      <td>-0.0</td>\n",
       "    </tr>\n",
       "    <tr>\n",
       "      <th>24</th>\n",
       "      <td>x3_renault</td>\n",
       "      <td>0.0</td>\n",
       "    </tr>\n",
       "    <tr>\n",
       "      <th>25</th>\n",
       "      <td>x3_skoda</td>\n",
       "      <td>0.0</td>\n",
       "    </tr>\n",
       "    <tr>\n",
       "      <th>28</th>\n",
       "      <td>x3_volkswagen</td>\n",
       "      <td>0.0</td>\n",
       "    </tr>\n",
       "    <tr>\n",
       "      <th>29</th>\n",
       "      <td>x4_Ahmedabad</td>\n",
       "      <td>-0.0</td>\n",
       "    </tr>\n",
       "    <tr>\n",
       "      <th>31</th>\n",
       "      <td>x4_Chennai</td>\n",
       "      <td>0.0</td>\n",
       "    </tr>\n",
       "    <tr>\n",
       "      <th>35</th>\n",
       "      <td>x4_Jaipur</td>\n",
       "      <td>-0.0</td>\n",
       "    </tr>\n",
       "  </tbody>\n",
       "</table>\n",
       "</div>"
      ],
      "text/plain": [
       "              feature  coefs\n",
       "7           x0_Petrol   -0.0\n",
       "9           x1_Manual   -0.0\n",
       "10           x2_First    0.0\n",
       "11  x2_Fourth & Above   -0.0\n",
       "13           x2_Third    0.0\n",
       "15          x3_datsun   -0.0\n",
       "16            x3_fiat   -0.0\n",
       "17            x3_ford    0.0\n",
       "18           x3_honda   -0.0\n",
       "20        x3_mahindra   -0.0\n",
       "22      x3_mitsubishi    0.0\n",
       "23          x3_nissan   -0.0\n",
       "24         x3_renault    0.0\n",
       "25           x3_skoda    0.0\n",
       "28      x3_volkswagen    0.0\n",
       "29       x4_Ahmedabad   -0.0\n",
       "31         x4_Chennai    0.0\n",
       "35          x4_Jaipur   -0.0"
      ]
     },
     "execution_count": 243,
     "metadata": {},
     "output_type": "execute_result"
    }
   ],
   "source": [
    "features_df[features_df.coefs == 0]"
   ]
  },
  {
   "cell_type": "code",
   "execution_count": 241,
   "metadata": {},
   "outputs": [
    {
     "data": {
      "text/plain": [
       "1.0400344951546956"
      ]
     },
     "execution_count": 241,
     "metadata": {},
     "output_type": "execute_result"
    }
   ],
   "source": [
    "y_pred_lasso = lasso.predict(X_test)\n",
    "mse_v1 = mean_squared_error(y_test, y_pred_lasso)\n",
    "mse_v1"
   ]
  },
  {
   "cell_type": "code",
   "execution_count": 242,
   "metadata": {},
   "outputs": [
    {
     "data": {
      "text/plain": [
       "0.7714118284681721"
      ]
     },
     "execution_count": 242,
     "metadata": {},
     "output_type": "execute_result"
    }
   ],
   "source": [
    "r2_score(y_test, y_pred_lasso)"
   ]
  },
  {
   "cell_type": "code",
   "execution_count": null,
   "metadata": {},
   "outputs": [],
   "source": []
  }
 ],
 "metadata": {
  "kernelspec": {
   "display_name": "Python 3",
   "language": "python",
   "name": "python3"
  },
  "language_info": {
   "codemirror_mode": {
    "name": "ipython",
    "version": 3
   },
   "file_extension": ".py",
   "mimetype": "text/x-python",
   "name": "python",
   "nbconvert_exporter": "python",
   "pygments_lexer": "ipython3",
   "version": "3.8.3"
  }
 },
 "nbformat": 4,
 "nbformat_minor": 4
}
